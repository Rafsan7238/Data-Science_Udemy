{
 "cells": [
  {
   "cell_type": "markdown",
   "metadata": {
    "pycharm": {
     "name": "#%% md\n"
    }
   },
   "source": [
    "# Practical example. Audiobooks"
   ]
  },
  {
   "cell_type": "markdown",
   "metadata": {
    "pycharm": {
     "name": "#%% md\n"
    }
   },
   "source": [
    "## Problem\n",
    "\n",
    "You are given data from an Audiobook app. Logically, it relates only to the audio versions of books. Each customer in the database has made a purchase at least once, that's why he/she is in the database. We want to create a machine learning algorithm based on our available data that can predict if a customer will buy again from the Audiobook company.\n",
    "\n",
    "The main idea is that if a customer has a low probability of coming back, there is no reason to spend any money on advertizing to him/her. If we can focus our efforts ONLY on customers that are likely to convert again, we can make great savings. Moreover, this model can identify the most important metrics for a customer to come back again. Identifying new customers creates value and growth opportunities.\n",
    "\n",
    "You have a .csv summarizing the data. There are several variables: Customer ID, Book length in mins_avg (average of all purchases), Book length in minutes_sum (sum of all purchases), Price Paid_avg (average of all purchases), Price paid_sum (sum of all purchases), Review (a Boolean variable), Review (out of 10), Total minutes listened, Completion (from 0 to 1), Support requests (number), and Last visited minus purchase date (in days).\n",
    "\n",
    "So these are the inputs (excluding customer ID, as it is completely arbitrary. It's more like a name, than a number).\n",
    "\n",
    "The targets are a Boolean variable (so 0, or 1). We are taking a period of 2 years in our inputs, and the next 6 months as targets. So, in fact, we are predicting if: based on the last 2 years of activity and engagement, a customer will convert in the next 6 months. 6 months sounds like a reasonable time. If they don't convert after 6 months, chances are they've gone to a competitor or didn't like the Audiobook way of digesting information. \n",
    "\n",
    "The task is simple: create a machine learning algorithm, which is able to predict if a customer will buy again. \n",
    "\n",
    "This is a classification problem with two classes: won't buy and will buy, represented by 0s and 1s. \n",
    "\n",
    "Good luck!"
   ]
  },
  {
   "cell_type": "markdown",
   "metadata": {
    "pycharm": {
     "name": "#%% md\n"
    }
   },
   "source": [
    "## Create the machine learning algorithm\n",
    "\n"
   ]
  },
  {
   "cell_type": "markdown",
   "metadata": {
    "pycharm": {
     "name": "#%% md\n"
    }
   },
   "source": [
    "### Import the relevant libraries"
   ]
  },
  {
   "cell_type": "code",
   "execution_count": 111,
   "metadata": {
    "pycharm": {
     "name": "#%%\n"
    }
   },
   "outputs": [],
   "source": [
    "# we must import the libraries once again since we haven't imported them in this file\n",
    "import numpy as np\n",
    "import pandas as pd\n",
    "import tensorflow as tf\n",
    "\n",
    "from sklearn.model_selection import train_test_split\n",
    "from sklearn.preprocessing import StandardScaler"
   ]
  },
  {
   "cell_type": "markdown",
   "metadata": {
    "pycharm": {
     "name": "#%% md\n"
    }
   },
   "source": [
    "### Load Data"
   ]
  },
  {
   "cell_type": "code",
   "execution_count": 112,
   "metadata": {
    "pycharm": {
     "name": "#%%\n"
    }
   },
   "outputs": [
    {
     "data": {
      "text/plain": "          0       1     2      3      4   5     6     7    8   9    10  11\n0        873  2160.0  2160  10.13  10.13   0  8.91  0.00  0.0   0    0   1\n1        611  1404.0  2808   6.66  13.33   1  6.50  0.00  0.0   0  182   1\n2        705   324.0   324  10.13  10.13   1  9.00  0.00  0.0   1  334   1\n3        391  1620.0  1620  15.31  15.31   0  9.00  0.00  0.0   0  183   1\n4        819   432.0  1296   7.11  21.33   1  9.00  0.00  0.0   0    0   1\n...      ...     ...   ...    ...    ...  ..   ...   ...  ...  ..  ...  ..\n14079  27398  2160.0  2160   7.99   7.99   0  8.91  0.00  0.0   0   54   0\n14080  28220  1620.0  1620   5.33   5.33   1  9.00  0.61  0.0   0    4   0\n14081  28671  1080.0  1080   6.55   6.55   1  6.00  0.29  0.0   0   29   0\n14082  31134  2160.0  2160   6.14   6.14   0  8.91  0.00  0.0   0    0   0\n14083  32832  1620.0  1620   5.33   5.33   1  8.00  0.38  0.0   0   90   0\n\n[14084 rows x 12 columns]",
      "text/html": "<div>\n<style scoped>\n    .dataframe tbody tr th:only-of-type {\n        vertical-align: middle;\n    }\n\n    .dataframe tbody tr th {\n        vertical-align: top;\n    }\n\n    .dataframe thead th {\n        text-align: right;\n    }\n</style>\n<table border=\"1\" class=\"dataframe\">\n  <thead>\n    <tr style=\"text-align: right;\">\n      <th></th>\n      <th>0</th>\n      <th>1</th>\n      <th>2</th>\n      <th>3</th>\n      <th>4</th>\n      <th>5</th>\n      <th>6</th>\n      <th>7</th>\n      <th>8</th>\n      <th>9</th>\n      <th>10</th>\n      <th>11</th>\n    </tr>\n  </thead>\n  <tbody>\n    <tr>\n      <th>0</th>\n      <td>873</td>\n      <td>2160.0</td>\n      <td>2160</td>\n      <td>10.13</td>\n      <td>10.13</td>\n      <td>0</td>\n      <td>8.91</td>\n      <td>0.00</td>\n      <td>0.0</td>\n      <td>0</td>\n      <td>0</td>\n      <td>1</td>\n    </tr>\n    <tr>\n      <th>1</th>\n      <td>611</td>\n      <td>1404.0</td>\n      <td>2808</td>\n      <td>6.66</td>\n      <td>13.33</td>\n      <td>1</td>\n      <td>6.50</td>\n      <td>0.00</td>\n      <td>0.0</td>\n      <td>0</td>\n      <td>182</td>\n      <td>1</td>\n    </tr>\n    <tr>\n      <th>2</th>\n      <td>705</td>\n      <td>324.0</td>\n      <td>324</td>\n      <td>10.13</td>\n      <td>10.13</td>\n      <td>1</td>\n      <td>9.00</td>\n      <td>0.00</td>\n      <td>0.0</td>\n      <td>1</td>\n      <td>334</td>\n      <td>1</td>\n    </tr>\n    <tr>\n      <th>3</th>\n      <td>391</td>\n      <td>1620.0</td>\n      <td>1620</td>\n      <td>15.31</td>\n      <td>15.31</td>\n      <td>0</td>\n      <td>9.00</td>\n      <td>0.00</td>\n      <td>0.0</td>\n      <td>0</td>\n      <td>183</td>\n      <td>1</td>\n    </tr>\n    <tr>\n      <th>4</th>\n      <td>819</td>\n      <td>432.0</td>\n      <td>1296</td>\n      <td>7.11</td>\n      <td>21.33</td>\n      <td>1</td>\n      <td>9.00</td>\n      <td>0.00</td>\n      <td>0.0</td>\n      <td>0</td>\n      <td>0</td>\n      <td>1</td>\n    </tr>\n    <tr>\n      <th>...</th>\n      <td>...</td>\n      <td>...</td>\n      <td>...</td>\n      <td>...</td>\n      <td>...</td>\n      <td>...</td>\n      <td>...</td>\n      <td>...</td>\n      <td>...</td>\n      <td>...</td>\n      <td>...</td>\n      <td>...</td>\n    </tr>\n    <tr>\n      <th>14079</th>\n      <td>27398</td>\n      <td>2160.0</td>\n      <td>2160</td>\n      <td>7.99</td>\n      <td>7.99</td>\n      <td>0</td>\n      <td>8.91</td>\n      <td>0.00</td>\n      <td>0.0</td>\n      <td>0</td>\n      <td>54</td>\n      <td>0</td>\n    </tr>\n    <tr>\n      <th>14080</th>\n      <td>28220</td>\n      <td>1620.0</td>\n      <td>1620</td>\n      <td>5.33</td>\n      <td>5.33</td>\n      <td>1</td>\n      <td>9.00</td>\n      <td>0.61</td>\n      <td>0.0</td>\n      <td>0</td>\n      <td>4</td>\n      <td>0</td>\n    </tr>\n    <tr>\n      <th>14081</th>\n      <td>28671</td>\n      <td>1080.0</td>\n      <td>1080</td>\n      <td>6.55</td>\n      <td>6.55</td>\n      <td>1</td>\n      <td>6.00</td>\n      <td>0.29</td>\n      <td>0.0</td>\n      <td>0</td>\n      <td>29</td>\n      <td>0</td>\n    </tr>\n    <tr>\n      <th>14082</th>\n      <td>31134</td>\n      <td>2160.0</td>\n      <td>2160</td>\n      <td>6.14</td>\n      <td>6.14</td>\n      <td>0</td>\n      <td>8.91</td>\n      <td>0.00</td>\n      <td>0.0</td>\n      <td>0</td>\n      <td>0</td>\n      <td>0</td>\n    </tr>\n    <tr>\n      <th>14083</th>\n      <td>32832</td>\n      <td>1620.0</td>\n      <td>1620</td>\n      <td>5.33</td>\n      <td>5.33</td>\n      <td>1</td>\n      <td>8.00</td>\n      <td>0.38</td>\n      <td>0.0</td>\n      <td>0</td>\n      <td>90</td>\n      <td>0</td>\n    </tr>\n  </tbody>\n</table>\n<p>14084 rows × 12 columns</p>\n</div>"
     },
     "execution_count": 112,
     "metadata": {},
     "output_type": "execute_result"
    }
   ],
   "source": [
    "# let's import and visualise the data\n",
    "\n",
    "data = pd.read_csv('Audiobooks_data.csv', header=None)\n",
    "data"
   ]
  },
  {
   "cell_type": "code",
   "execution_count": 113,
   "outputs": [
    {
     "data": {
      "text/plain": "                 0             1             2             3             4   \\\ncount  14084.000000  14084.000000  14084.000000  14084.000000  14084.000000   \nmean   16772.491551   1591.281685   1678.608634      7.103791      7.543805   \nstd     9691.807248    504.340663    654.838599      4.931673      5.560129   \nmin        2.000000    216.000000    216.000000      3.860000      3.860000   \n25%     8368.000000   1188.000000   1188.000000      5.330000      5.330000   \n50%    16711.500000   1620.000000   1620.000000      5.950000      6.070000   \n75%    25187.250000   2160.000000   2160.000000      8.000000      8.000000   \nmax    33683.000000   2160.000000   7020.000000    130.940000    130.940000   \n\n                 5             6             7             8             9   \\\ncount  14084.000000  14084.000000  14084.000000  14084.000000  14084.000000   \nmean       0.160750      8.909795      0.125659    118.586745      0.070222   \nstd        0.367313      0.643406      0.241206    268.731935      0.472157   \nmin        0.000000      1.000000      0.000000      0.000000      0.000000   \n25%        0.000000      8.910000      0.000000      0.000000      0.000000   \n50%        0.000000      8.910000      0.000000      0.000000      0.000000   \n75%        0.000000      8.910000      0.130000     64.800000      0.000000   \nmax        1.000000     10.000000      1.000000   2116.800000     30.000000   \n\n                 10            11  \ncount  14084.000000  14084.000000  \nmean      61.935033      0.158833  \nstd       88.207634      0.365533  \nmin        0.000000      0.000000  \n25%        0.000000      0.000000  \n50%       11.000000      0.000000  \n75%      105.000000      0.000000  \nmax      464.000000      1.000000  ",
      "text/html": "<div>\n<style scoped>\n    .dataframe tbody tr th:only-of-type {\n        vertical-align: middle;\n    }\n\n    .dataframe tbody tr th {\n        vertical-align: top;\n    }\n\n    .dataframe thead th {\n        text-align: right;\n    }\n</style>\n<table border=\"1\" class=\"dataframe\">\n  <thead>\n    <tr style=\"text-align: right;\">\n      <th></th>\n      <th>0</th>\n      <th>1</th>\n      <th>2</th>\n      <th>3</th>\n      <th>4</th>\n      <th>5</th>\n      <th>6</th>\n      <th>7</th>\n      <th>8</th>\n      <th>9</th>\n      <th>10</th>\n      <th>11</th>\n    </tr>\n  </thead>\n  <tbody>\n    <tr>\n      <th>count</th>\n      <td>14084.000000</td>\n      <td>14084.000000</td>\n      <td>14084.000000</td>\n      <td>14084.000000</td>\n      <td>14084.000000</td>\n      <td>14084.000000</td>\n      <td>14084.000000</td>\n      <td>14084.000000</td>\n      <td>14084.000000</td>\n      <td>14084.000000</td>\n      <td>14084.000000</td>\n      <td>14084.000000</td>\n    </tr>\n    <tr>\n      <th>mean</th>\n      <td>16772.491551</td>\n      <td>1591.281685</td>\n      <td>1678.608634</td>\n      <td>7.103791</td>\n      <td>7.543805</td>\n      <td>0.160750</td>\n      <td>8.909795</td>\n      <td>0.125659</td>\n      <td>118.586745</td>\n      <td>0.070222</td>\n      <td>61.935033</td>\n      <td>0.158833</td>\n    </tr>\n    <tr>\n      <th>std</th>\n      <td>9691.807248</td>\n      <td>504.340663</td>\n      <td>654.838599</td>\n      <td>4.931673</td>\n      <td>5.560129</td>\n      <td>0.367313</td>\n      <td>0.643406</td>\n      <td>0.241206</td>\n      <td>268.731935</td>\n      <td>0.472157</td>\n      <td>88.207634</td>\n      <td>0.365533</td>\n    </tr>\n    <tr>\n      <th>min</th>\n      <td>2.000000</td>\n      <td>216.000000</td>\n      <td>216.000000</td>\n      <td>3.860000</td>\n      <td>3.860000</td>\n      <td>0.000000</td>\n      <td>1.000000</td>\n      <td>0.000000</td>\n      <td>0.000000</td>\n      <td>0.000000</td>\n      <td>0.000000</td>\n      <td>0.000000</td>\n    </tr>\n    <tr>\n      <th>25%</th>\n      <td>8368.000000</td>\n      <td>1188.000000</td>\n      <td>1188.000000</td>\n      <td>5.330000</td>\n      <td>5.330000</td>\n      <td>0.000000</td>\n      <td>8.910000</td>\n      <td>0.000000</td>\n      <td>0.000000</td>\n      <td>0.000000</td>\n      <td>0.000000</td>\n      <td>0.000000</td>\n    </tr>\n    <tr>\n      <th>50%</th>\n      <td>16711.500000</td>\n      <td>1620.000000</td>\n      <td>1620.000000</td>\n      <td>5.950000</td>\n      <td>6.070000</td>\n      <td>0.000000</td>\n      <td>8.910000</td>\n      <td>0.000000</td>\n      <td>0.000000</td>\n      <td>0.000000</td>\n      <td>11.000000</td>\n      <td>0.000000</td>\n    </tr>\n    <tr>\n      <th>75%</th>\n      <td>25187.250000</td>\n      <td>2160.000000</td>\n      <td>2160.000000</td>\n      <td>8.000000</td>\n      <td>8.000000</td>\n      <td>0.000000</td>\n      <td>8.910000</td>\n      <td>0.130000</td>\n      <td>64.800000</td>\n      <td>0.000000</td>\n      <td>105.000000</td>\n      <td>0.000000</td>\n    </tr>\n    <tr>\n      <th>max</th>\n      <td>33683.000000</td>\n      <td>2160.000000</td>\n      <td>7020.000000</td>\n      <td>130.940000</td>\n      <td>130.940000</td>\n      <td>1.000000</td>\n      <td>10.000000</td>\n      <td>1.000000</td>\n      <td>2116.800000</td>\n      <td>30.000000</td>\n      <td>464.000000</td>\n      <td>1.000000</td>\n    </tr>\n  </tbody>\n</table>\n</div>"
     },
     "execution_count": 113,
     "metadata": {},
     "output_type": "execute_result"
    }
   ],
   "source": [
    "# look at the data stats\n",
    "\n",
    "data.describe()"
   ],
   "metadata": {
    "collapsed": false,
    "pycharm": {
     "name": "#%%\n"
    }
   }
  },
  {
   "cell_type": "markdown",
   "source": [
    "### Shuffle and Split the Data"
   ],
   "metadata": {
    "collapsed": false,
    "pycharm": {
     "name": "#%% md\n"
    }
   }
  },
  {
   "cell_type": "code",
   "execution_count": 114,
   "outputs": [
    {
     "data": {
      "text/plain": "          0       1     2     3      4   5      6     7       8   9    10  11\n11469  11099  2160.0  2160  5.33   5.33   0   8.91  0.00    0.00   0  120   0\n13249   6352  2160.0  2160  5.66   5.66   0   8.91  0.03    0.00   0    8   0\n261    18830  1620.0  1620  7.99   7.99   0   8.91  0.00  561.60   0    0   1\n13933  28500  1188.0  1188  8.00   8.00   1   9.00  0.46    0.00   1   63   0\n5529   19720  1620.0  1620  5.74   5.74   1  10.00  0.63   64.80   0   43   0\n...      ...     ...   ...   ...    ...  ..    ...   ...     ...  ..  ...  ..\n1400   12610  1404.0  2808  8.26  16.51   0   8.91  0.00    0.00   0  287   1\n2132    1991  1188.0  1188  5.33   5.33   0   8.91  0.00    0.00   0   94   1\n207     3205  1620.0  1620  8.00   8.00   0   8.91  0.00  680.40   0  126   1\n6470   23709   648.0   648  6.58   6.58   0   8.91  0.00   20.52   0    0   0\n9018   32313  1188.0  1188  7.47   7.47   0   8.91  0.27    0.00   0    3   0\n\n[14084 rows x 12 columns]",
      "text/html": "<div>\n<style scoped>\n    .dataframe tbody tr th:only-of-type {\n        vertical-align: middle;\n    }\n\n    .dataframe tbody tr th {\n        vertical-align: top;\n    }\n\n    .dataframe thead th {\n        text-align: right;\n    }\n</style>\n<table border=\"1\" class=\"dataframe\">\n  <thead>\n    <tr style=\"text-align: right;\">\n      <th></th>\n      <th>0</th>\n      <th>1</th>\n      <th>2</th>\n      <th>3</th>\n      <th>4</th>\n      <th>5</th>\n      <th>6</th>\n      <th>7</th>\n      <th>8</th>\n      <th>9</th>\n      <th>10</th>\n      <th>11</th>\n    </tr>\n  </thead>\n  <tbody>\n    <tr>\n      <th>11469</th>\n      <td>11099</td>\n      <td>2160.0</td>\n      <td>2160</td>\n      <td>5.33</td>\n      <td>5.33</td>\n      <td>0</td>\n      <td>8.91</td>\n      <td>0.00</td>\n      <td>0.00</td>\n      <td>0</td>\n      <td>120</td>\n      <td>0</td>\n    </tr>\n    <tr>\n      <th>13249</th>\n      <td>6352</td>\n      <td>2160.0</td>\n      <td>2160</td>\n      <td>5.66</td>\n      <td>5.66</td>\n      <td>0</td>\n      <td>8.91</td>\n      <td>0.03</td>\n      <td>0.00</td>\n      <td>0</td>\n      <td>8</td>\n      <td>0</td>\n    </tr>\n    <tr>\n      <th>261</th>\n      <td>18830</td>\n      <td>1620.0</td>\n      <td>1620</td>\n      <td>7.99</td>\n      <td>7.99</td>\n      <td>0</td>\n      <td>8.91</td>\n      <td>0.00</td>\n      <td>561.60</td>\n      <td>0</td>\n      <td>0</td>\n      <td>1</td>\n    </tr>\n    <tr>\n      <th>13933</th>\n      <td>28500</td>\n      <td>1188.0</td>\n      <td>1188</td>\n      <td>8.00</td>\n      <td>8.00</td>\n      <td>1</td>\n      <td>9.00</td>\n      <td>0.46</td>\n      <td>0.00</td>\n      <td>1</td>\n      <td>63</td>\n      <td>0</td>\n    </tr>\n    <tr>\n      <th>5529</th>\n      <td>19720</td>\n      <td>1620.0</td>\n      <td>1620</td>\n      <td>5.74</td>\n      <td>5.74</td>\n      <td>1</td>\n      <td>10.00</td>\n      <td>0.63</td>\n      <td>64.80</td>\n      <td>0</td>\n      <td>43</td>\n      <td>0</td>\n    </tr>\n    <tr>\n      <th>...</th>\n      <td>...</td>\n      <td>...</td>\n      <td>...</td>\n      <td>...</td>\n      <td>...</td>\n      <td>...</td>\n      <td>...</td>\n      <td>...</td>\n      <td>...</td>\n      <td>...</td>\n      <td>...</td>\n      <td>...</td>\n    </tr>\n    <tr>\n      <th>1400</th>\n      <td>12610</td>\n      <td>1404.0</td>\n      <td>2808</td>\n      <td>8.26</td>\n      <td>16.51</td>\n      <td>0</td>\n      <td>8.91</td>\n      <td>0.00</td>\n      <td>0.00</td>\n      <td>0</td>\n      <td>287</td>\n      <td>1</td>\n    </tr>\n    <tr>\n      <th>2132</th>\n      <td>1991</td>\n      <td>1188.0</td>\n      <td>1188</td>\n      <td>5.33</td>\n      <td>5.33</td>\n      <td>0</td>\n      <td>8.91</td>\n      <td>0.00</td>\n      <td>0.00</td>\n      <td>0</td>\n      <td>94</td>\n      <td>1</td>\n    </tr>\n    <tr>\n      <th>207</th>\n      <td>3205</td>\n      <td>1620.0</td>\n      <td>1620</td>\n      <td>8.00</td>\n      <td>8.00</td>\n      <td>0</td>\n      <td>8.91</td>\n      <td>0.00</td>\n      <td>680.40</td>\n      <td>0</td>\n      <td>126</td>\n      <td>1</td>\n    </tr>\n    <tr>\n      <th>6470</th>\n      <td>23709</td>\n      <td>648.0</td>\n      <td>648</td>\n      <td>6.58</td>\n      <td>6.58</td>\n      <td>0</td>\n      <td>8.91</td>\n      <td>0.00</td>\n      <td>20.52</td>\n      <td>0</td>\n      <td>0</td>\n      <td>0</td>\n    </tr>\n    <tr>\n      <th>9018</th>\n      <td>32313</td>\n      <td>1188.0</td>\n      <td>1188</td>\n      <td>7.47</td>\n      <td>7.47</td>\n      <td>0</td>\n      <td>8.91</td>\n      <td>0.27</td>\n      <td>0.00</td>\n      <td>0</td>\n      <td>3</td>\n      <td>0</td>\n    </tr>\n  </tbody>\n</table>\n<p>14084 rows × 12 columns</p>\n</div>"
     },
     "execution_count": 114,
     "metadata": {},
     "output_type": "execute_result"
    }
   ],
   "source": [
    "# We shuffle the indices before balancing (to remove any day effects, etc.)\n",
    "\n",
    "data = data.sample(frac=1)\n",
    "data"
   ],
   "metadata": {
    "collapsed": false,
    "pycharm": {
     "name": "#%%\n"
    }
   }
  },
  {
   "cell_type": "code",
   "execution_count": 115,
   "outputs": [
    {
     "name": "stdout",
     "output_type": "stream",
     "text": [
      "           1     2     3      4   5      6     7       8   9    10\n",
      "11469  2160.0  2160  5.33   5.33   0   8.91  0.00    0.00   0  120\n",
      "13249  2160.0  2160  5.66   5.66   0   8.91  0.03    0.00   0    8\n",
      "261    1620.0  1620  7.99   7.99   0   8.91  0.00  561.60   0    0\n",
      "13933  1188.0  1188  8.00   8.00   1   9.00  0.46    0.00   1   63\n",
      "5529   1620.0  1620  5.74   5.74   1  10.00  0.63   64.80   0   43\n",
      "...       ...   ...   ...    ...  ..    ...   ...     ...  ..  ...\n",
      "1400   1404.0  2808  8.26  16.51   0   8.91  0.00    0.00   0  287\n",
      "2132   1188.0  1188  5.33   5.33   0   8.91  0.00    0.00   0   94\n",
      "207    1620.0  1620  8.00   8.00   0   8.91  0.00  680.40   0  126\n",
      "6470    648.0   648  6.58   6.58   0   8.91  0.00   20.52   0    0\n",
      "9018   1188.0  1188  7.47   7.47   0   8.91  0.27    0.00   0    3\n",
      "\n",
      "[14084 rows x 10 columns]\n",
      "11469    0\n",
      "13249    0\n",
      "261      1\n",
      "13933    0\n",
      "5529     0\n",
      "        ..\n",
      "1400     1\n",
      "2132     1\n",
      "207      1\n",
      "6470     0\n",
      "9018     0\n",
      "Name: 11, Length: 14084, dtype: int64\n"
     ]
    }
   ],
   "source": [
    "# let's split the data into features and targets\n",
    "# The inputs are all columns in the csv, except for the first one [:,0]\n",
    "# (which is just the arbitrary customer IDs that bear no useful information),\n",
    "# and the last one [:,-1] (which is our targets)\n",
    "\n",
    "features = data.iloc[:, 1:-1]\n",
    "targets = data[11]\n",
    "\n",
    "print(features)\n",
    "print(targets)"
   ],
   "metadata": {
    "collapsed": false,
    "pycharm": {
     "name": "#%%\n"
    }
   }
  },
  {
   "cell_type": "code",
   "execution_count": 116,
   "outputs": [
    {
     "name": "stdout",
     "output_type": "stream",
     "text": [
      "0.1588327179778472\n"
     ]
    }
   ],
   "source": [
    "# let's see if the classes are balanced\n",
    "# targets are 0 or 1, so sum of targets should be 50% of the total observations\n",
    "\n",
    "print(targets.sum() / targets.shape[0])"
   ],
   "metadata": {
    "collapsed": false,
    "pycharm": {
     "name": "#%%\n"
    }
   }
  },
  {
   "cell_type": "markdown",
   "source": [
    "### Balance the Dataset\n",
    "\n",
    "As we can see, only 16% of the total targets is 1, while the rest are 0. Hence, the dataset needs to be balanced in order to build a good and generalised model.\n",
    "\n",
    "This is to be done by removing rows with target=0 until the number of 1s and 0s are equal."
   ],
   "metadata": {
    "collapsed": false,
    "pycharm": {
     "name": "#%% md\n"
    }
   }
  },
  {
   "cell_type": "code",
   "execution_count": 117,
   "outputs": [
    {
     "name": "stdout",
     "output_type": "stream",
     "text": [
      "          1     2     3      4   5     6    7       8   9    10\n",
      "261   1620.0  1620  7.99   7.99   0  8.91  0.0  561.60   0    0\n",
      "634   1620.0  1620  5.33   5.33   0  8.91  0.0   61.56   0    0\n",
      "161   1620.0  1620  8.00   8.00   0  8.91  0.0  734.40   0    0\n",
      "1646  1620.0  1620  5.33   5.33   0  8.91  0.0    0.00   0    1\n",
      "1896  1620.0  1620  5.77   5.77   0  8.91  0.0    0.00   0  212\n",
      "...      ...   ...   ...    ...  ..   ...  ...     ...  ..  ...\n",
      "406   1674.0  3348  5.90  11.80   0  8.91  0.0  233.28   0   29\n",
      "800    684.0  2052  5.78  17.34   1  9.00  0.0    0.00   0  326\n",
      "1400  1404.0  2808  8.26  16.51   0  8.91  0.0    0.00   0  287\n",
      "2132  1188.0  1188  5.33   5.33   0  8.91  0.0    0.00   0   94\n",
      "207   1620.0  1620  8.00   8.00   0  8.91  0.0  680.40   0  126\n",
      "\n",
      "[4474 rows x 10 columns]\n",
      "261     1\n",
      "634     1\n",
      "161     1\n",
      "1646    1\n",
      "1896    1\n",
      "       ..\n",
      "406     1\n",
      "800     1\n",
      "1400    1\n",
      "2132    1\n",
      "207     1\n",
      "Name: 11, Length: 4474, dtype: int64\n"
     ]
    }
   ],
   "source": [
    "# Count how many targets are 1 (meaning that the customer did convert)\n",
    "num_one_targets = targets.sum()\n",
    "\n",
    "# Set a counter for targets that are 0 (meaning that the customer did not convert)\n",
    "zero_targets_counter = 0\n",
    "\n",
    "# We want to create a \"balanced\" dataset, so we will have to remove some input/target pairs.\n",
    "# Declare a variable that will do that:\n",
    "indices_to_remove = []\n",
    "\n",
    "# Count the number of targets that are 0.\n",
    "# Once there are as many 0s as 1s, mark entries where the target is 0.\n",
    "for i in range(targets.shape[0]):\n",
    "    if targets[i] == 0:\n",
    "        zero_targets_counter += 1\n",
    "        if zero_targets_counter > num_one_targets:\n",
    "            indices_to_remove.append(i)\n",
    "\n",
    "features = features.drop(indices_to_remove, axis=0)\n",
    "targets = targets.drop(indices_to_remove, axis=0)\n",
    "\n",
    "print(features)\n",
    "print(targets)"
   ],
   "metadata": {
    "collapsed": false,
    "pycharm": {
     "name": "#%%\n"
    }
   }
  },
  {
   "cell_type": "code",
   "execution_count": 118,
   "outputs": [
    {
     "name": "stdout",
     "output_type": "stream",
     "text": [
      "0.5\n"
     ]
    }
   ],
   "source": [
    "# let's check if it is now balanced\n",
    "\n",
    "print(targets.sum() / targets.shape[0])"
   ],
   "metadata": {
    "collapsed": false,
    "pycharm": {
     "name": "#%%\n"
    }
   }
  },
  {
   "cell_type": "markdown",
   "source": [
    "### Standardize the Data\n",
    "\n",
    "Since the feature values vary greatly in terms of magnitude, building a model with these would not be optimal as one feature may be given more weight than the others. Hence, the features need to be scaled.\n",
    "\n",
    "For this, I will be using the StandardScaler that scales all values such that they have a mean of 0 and standard deviation of 1."
   ],
   "metadata": {
    "collapsed": false,
    "pycharm": {
     "name": "#%% md\n"
    }
   }
  },
  {
   "cell_type": "code",
   "execution_count": 119,
   "outputs": [],
   "source": [
    "# declare a StandardScaler and fit_transform the features\n",
    "\n",
    "scaler = StandardScaler()\n",
    "features = pd.DataFrame(scaler.fit_transform(features), columns=features.columns.values)"
   ],
   "metadata": {
    "collapsed": false,
    "pycharm": {
     "name": "#%%\n"
    }
   }
  },
  {
   "cell_type": "code",
   "execution_count": 120,
   "outputs": [
    {
     "data": {
      "text/plain": "         1         2         3         4         5         6         7   \\\n0  0.103999 -0.256387  0.205069 -0.071980 -0.448772 -0.011256 -0.374752   \n1  0.103999 -0.256387 -0.381897 -0.492025 -0.448772 -0.011256 -0.374752   \n2  0.103999 -0.256387  0.207275 -0.070401 -0.448772 -0.011256 -0.374752   \n3  0.103999 -0.256387 -0.381897 -0.492025 -0.448772 -0.011256 -0.374752   \n4  0.103999 -0.256387 -0.284805 -0.422544 -0.448772 -0.011256 -0.374752   \n\n         8         9         10  \n0  0.571284 -0.205366 -0.772409  \n1 -0.706231 -0.205366 -0.772409  \n2  1.012758 -0.205366 -0.772409  \n3 -0.863506 -0.205366 -0.761764  \n4 -0.863506 -0.205366  1.484351  ",
      "text/html": "<div>\n<style scoped>\n    .dataframe tbody tr th:only-of-type {\n        vertical-align: middle;\n    }\n\n    .dataframe tbody tr th {\n        vertical-align: top;\n    }\n\n    .dataframe thead th {\n        text-align: right;\n    }\n</style>\n<table border=\"1\" class=\"dataframe\">\n  <thead>\n    <tr style=\"text-align: right;\">\n      <th></th>\n      <th>1</th>\n      <th>2</th>\n      <th>3</th>\n      <th>4</th>\n      <th>5</th>\n      <th>6</th>\n      <th>7</th>\n      <th>8</th>\n      <th>9</th>\n      <th>10</th>\n    </tr>\n  </thead>\n  <tbody>\n    <tr>\n      <th>0</th>\n      <td>0.103999</td>\n      <td>-0.256387</td>\n      <td>0.205069</td>\n      <td>-0.071980</td>\n      <td>-0.448772</td>\n      <td>-0.011256</td>\n      <td>-0.374752</td>\n      <td>0.571284</td>\n      <td>-0.205366</td>\n      <td>-0.772409</td>\n    </tr>\n    <tr>\n      <th>1</th>\n      <td>0.103999</td>\n      <td>-0.256387</td>\n      <td>-0.381897</td>\n      <td>-0.492025</td>\n      <td>-0.448772</td>\n      <td>-0.011256</td>\n      <td>-0.374752</td>\n      <td>-0.706231</td>\n      <td>-0.205366</td>\n      <td>-0.772409</td>\n    </tr>\n    <tr>\n      <th>2</th>\n      <td>0.103999</td>\n      <td>-0.256387</td>\n      <td>0.207275</td>\n      <td>-0.070401</td>\n      <td>-0.448772</td>\n      <td>-0.011256</td>\n      <td>-0.374752</td>\n      <td>1.012758</td>\n      <td>-0.205366</td>\n      <td>-0.772409</td>\n    </tr>\n    <tr>\n      <th>3</th>\n      <td>0.103999</td>\n      <td>-0.256387</td>\n      <td>-0.381897</td>\n      <td>-0.492025</td>\n      <td>-0.448772</td>\n      <td>-0.011256</td>\n      <td>-0.374752</td>\n      <td>-0.863506</td>\n      <td>-0.205366</td>\n      <td>-0.761764</td>\n    </tr>\n    <tr>\n      <th>4</th>\n      <td>0.103999</td>\n      <td>-0.256387</td>\n      <td>-0.284805</td>\n      <td>-0.422544</td>\n      <td>-0.448772</td>\n      <td>-0.011256</td>\n      <td>-0.374752</td>\n      <td>-0.863506</td>\n      <td>-0.205366</td>\n      <td>1.484351</td>\n    </tr>\n  </tbody>\n</table>\n</div>"
     },
     "execution_count": 120,
     "metadata": {},
     "output_type": "execute_result"
    }
   ],
   "source": [
    "features.head()"
   ],
   "metadata": {
    "collapsed": false,
    "pycharm": {
     "name": "#%%\n"
    }
   }
  },
  {
   "cell_type": "markdown",
   "source": [
    "### Split the Dataset into Train and Test"
   ],
   "metadata": {
    "collapsed": false,
    "pycharm": {
     "name": "#%% md\n"
    }
   }
  },
  {
   "cell_type": "code",
   "execution_count": 121,
   "outputs": [],
   "source": [
    "# split the data into train and test sets in a 90:10 manner.\n",
    "# random_state = 42 allows for shuffling and reproducible model\n",
    "# stratify ensures the class balance is maintained in the splits\n",
    "\n",
    "x_train, x_test, y_train, y_test = train_test_split(np.array(features), np.array(targets), test_size = 0.1, random_state=42, stratify=targets)"
   ],
   "metadata": {
    "collapsed": false,
    "pycharm": {
     "name": "#%%\n"
    }
   }
  },
  {
   "cell_type": "code",
   "execution_count": 122,
   "outputs": [
    {
     "name": "stdout",
     "output_type": "stream",
     "text": [
      "train: 0.5\n",
      "test: 0.5\n"
     ]
    }
   ],
   "source": [
    "# check if the classes are still balanced\n",
    "\n",
    "print(f'train: {y_train.sum() / y_train.shape[0]}')\n",
    "print(f'test: {y_test.sum() / y_test.shape[0]}')"
   ],
   "metadata": {
    "collapsed": false,
    "pycharm": {
     "name": "#%%\n"
    }
   }
  },
  {
   "cell_type": "markdown",
   "metadata": {
    "pycharm": {
     "name": "#%% md\n"
    }
   },
   "source": [
    "### Model\n",
    "Outline, optimizers, loss and early stopping"
   ]
  },
  {
   "cell_type": "code",
   "execution_count": 123,
   "metadata": {
    "pycharm": {
     "name": "#%%\n"
    }
   },
   "outputs": [],
   "source": [
    "# Set the input and output sizes\n",
    "input_size = 10\n",
    "output_size = 2\n",
    "# Use same hidden layer size for all hidden layers. Not a necessity.\n",
    "hidden_layer_size = 200\n",
    "    \n",
    "# define how the model will look like\n",
    "model = tf.keras.Sequential([\n",
    "    # tf.keras.layers.Dense is basically implementing: output = activation(dot(input, weight) + bias)\n",
    "    # it takes several arguments, but the most important ones for us are the hidden_layer_size and the activation function\n",
    "    tf.keras.layers.Dense(hidden_layer_size, activation='relu'), # 1st hidden layer\n",
    "\n",
    "    tf.keras.layers.Dense(hidden_layer_size, activation='relu'), # 2nd hidden layer\n",
    "\n",
    "    tf.keras.layers.Dense(hidden_layer_size, activation='sigmoid'), # 3rd hidden layer\n",
    "\n",
    "    # the final layer is no different, we just make sure to activate it with sigmoid\n",
    "    tf.keras.layers.Dense(output_size, activation='softmax') # output layer\n",
    "])\n",
    "\n",
    "\n",
    "### Choose the optimizer and the loss function\n",
    "\n",
    "# we define the optimizer we'd like to use, \n",
    "# the loss function, \n",
    "# and the metrics we are interested in obtaining at each iteration\n",
    "model.compile(optimizer='adam', loss='sparse_categorical_crossentropy', metrics=['accuracy'])"
   ]
  },
  {
   "cell_type": "markdown",
   "source": [
    "### Train the Model"
   ],
   "metadata": {
    "collapsed": false,
    "pycharm": {
     "name": "#%% md\n"
    }
   }
  },
  {
   "cell_type": "code",
   "execution_count": 128,
   "outputs": [
    {
     "name": "stdout",
     "output_type": "stream",
     "text": [
      "Epoch 1/100\n",
      "114/114 - 1s - loss: 0.2347 - accuracy: 0.9103 - val_loss: 0.2242 - val_accuracy: 0.9256 - 782ms/epoch - 7ms/step\n",
      "Epoch 2/100\n",
      "114/114 - 1s - loss: 0.2325 - accuracy: 0.9111 - val_loss: 0.2203 - val_accuracy: 0.9206 - 711ms/epoch - 6ms/step\n",
      "Epoch 3/100\n",
      "114/114 - 1s - loss: 0.2355 - accuracy: 0.9111 - val_loss: 0.2389 - val_accuracy: 0.9032 - 637ms/epoch - 6ms/step\n",
      "Epoch 4/100\n",
      "114/114 - 1s - loss: 0.2340 - accuracy: 0.9108 - val_loss: 0.2133 - val_accuracy: 0.9181 - 629ms/epoch - 6ms/step\n",
      "Epoch 5/100\n",
      "114/114 - 1s - loss: 0.2321 - accuracy: 0.9111 - val_loss: 0.2116 - val_accuracy: 0.9231 - 629ms/epoch - 6ms/step\n",
      "Epoch 6/100\n",
      "114/114 - 1s - loss: 0.2359 - accuracy: 0.9125 - val_loss: 0.2079 - val_accuracy: 0.9206 - 626ms/epoch - 5ms/step\n",
      "Epoch 7/100\n",
      "114/114 - 1s - loss: 0.2319 - accuracy: 0.9103 - val_loss: 0.2059 - val_accuracy: 0.9330 - 628ms/epoch - 6ms/step\n",
      "Epoch 8/100\n",
      "114/114 - 1s - loss: 0.2330 - accuracy: 0.9128 - val_loss: 0.2242 - val_accuracy: 0.9206 - 654ms/epoch - 6ms/step\n",
      "Epoch 9/100\n",
      "114/114 - 1s - loss: 0.2356 - accuracy: 0.9103 - val_loss: 0.2256 - val_accuracy: 0.9107 - 628ms/epoch - 6ms/step\n"
     ]
    }
   ],
   "source": [
    "### Training\n",
    "# That's where we train the model we have built.\n",
    "\n",
    "# set a maximum number of training epochs\n",
    "max_epochs = 100\n",
    "\n",
    "# set an early stopping mechanism\n",
    "# let's set patience=2, to be a bit tolerant against random validation loss increases\n",
    "early_stopping = tf.keras.callbacks.EarlyStopping(patience=2, mode='min')\n",
    "\n",
    "# fit the model\n",
    "# note that this time the train, validation and test data are not iterable\n",
    "history = model.fit(x_train, # train inputs\n",
    "          y_train, # train targets\n",
    "          epochs=max_epochs, # epochs that we will train for (assuming early stopping doesn't kick in)\n",
    "          # callbacks are functions called by a task when a task is completed\n",
    "          # task here is to check if val_loss is increasing\n",
    "          callbacks=[early_stopping], # early stopping\n",
    "          validation_split=0.1, # validation split\n",
    "          verbose = 2 # making sure we get enough information about the training process\n",
    "          )"
   ],
   "metadata": {
    "collapsed": false,
    "pycharm": {
     "name": "#%%\n"
    }
   }
  },
  {
   "cell_type": "markdown",
   "source": [
    "### Plot Train and Validation Metrics"
   ],
   "metadata": {
    "collapsed": false,
    "pycharm": {
     "name": "#%% md\n"
    }
   }
  },
  {
   "cell_type": "code",
   "execution_count": 141,
   "outputs": [
    {
     "data": {
      "text/plain": "<matplotlib.legend.Legend at 0x2f09a7dc0>"
     },
     "execution_count": 141,
     "metadata": {},
     "output_type": "execute_result"
    },
    {
     "data": {
      "text/plain": "<Figure size 640x480 with 2 Axes>",
      "image/png": "[encoded data removed]"
     },
     "metadata": {},
     "output_type": "display_data"
    }
   ],
   "source": [
    "import matplotlib.pyplot as plt\n",
    "\n",
    "fig, ax = plt.subplots(2, 1, sharex=True)\n",
    "fig.subplots_adjust(hspace=0.5)\n",
    "\n",
    "ax[0].plot(history.history['accuracy'], label = 'Training Accuracy')\n",
    "ax[0].plot(history.history['val_accuracy'], label = 'Validation Accuracy')\n",
    "ax[0].set_ylabel('Accuracy')\n",
    "ax[0].set_xlabel('Epoch')\n",
    "ax[0].set_ylim(0.5, 1)\n",
    "ax[0].set_title('Training Accuracy Vs. Validation Accuracy')\n",
    "ax[0].legend()\n",
    "\n",
    "ax[1].plot(history.history['loss'], label = 'Training Loss')\n",
    "ax[1].plot(history.history['val_loss'], label = 'Validation Loss')\n",
    "ax[1].set_ylabel('Loss')\n",
    "ax[1].set_xlabel('Epoch')\n",
    "ax[1].set_ylim(0, 0.5)\n",
    "ax[1].set_title('Training Loss Vs. Validation Loss')\n",
    "ax[1].legend()"
   ],
   "metadata": {
    "collapsed": false,
    "pycharm": {
     "name": "#%%\n"
    }
   }
  },
  {
   "cell_type": "markdown",
   "metadata": {
    "pycharm": {
     "name": "#%% md\n"
    }
   },
   "source": [
    "## Test the model\n",
    "\n",
    "As we discussed in the lectures, after training on the training data and validating on the validation data, we test the final prediction power of our model by running it on the test dataset that the algorithm has NEVER seen before.\n",
    "\n",
    "It is very important to realize that fiddling with the hyperparameters overfits the validation dataset. \n",
    "\n",
    "The test is the absolute final instance. You should not test before you are completely done with adjusting your model.\n",
    "\n",
    "If you adjust your model after testing, you will start overfitting the test dataset, which will defeat its purpose."
   ]
  },
  {
   "cell_type": "code",
   "execution_count": 130,
   "metadata": {
    "pycharm": {
     "name": "#%%\n"
    }
   },
   "outputs": [
    {
     "name": "stdout",
     "output_type": "stream",
     "text": [
      "14/14 [==============================] - 0s 5ms/step - loss: 0.2365 - accuracy: 0.9241\n"
     ]
    }
   ],
   "source": [
    "test_loss, test_accuracy = model.evaluate(x_test, y_test)"
   ]
  },
  {
   "cell_type": "code",
   "execution_count": 131,
   "metadata": {
    "pycharm": {
     "name": "#%%\n"
    }
   },
   "outputs": [
    {
     "name": "stdout",
     "output_type": "stream",
     "text": [
      "\n",
      "Test loss: 0.24. Test accuracy: 92.41%\n"
     ]
    }
   ],
   "source": [
    "print('\\nTest loss: {0:.2f}. Test accuracy: {1:.2f}%'.format(test_loss, test_accuracy*100.))"
   ]
  },
  {
   "cell_type": "markdown",
   "source": [
    "Using this model, we can predict if a customer will buy again with a 92% accuracy."
   ],
   "metadata": {
    "collapsed": false,
    "pycharm": {
     "name": "#%% md\n"
    }
   }
  },
  {
   "cell_type": "code",
   "execution_count": null,
   "outputs": [],
   "source": [],
   "metadata": {
    "collapsed": false,
    "pycharm": {
     "name": "#%%\n"
    }
   }
  }
 ],
 "metadata": {
  "kernelspec": {
   "name": "python3",
   "language": "python",
   "display_name": "Python 3 (ipykernel)"
  },
  "language_info": {
   "codemirror_mode": {
    "name": "ipython",
    "version": 3
   },
   "file_extension": ".py",
   "mimetype": "text/x-python",
   "name": "python",
   "nbconvert_exporter": "python",
   "pygments_lexer": "ipython3",
   "version": "3.7.3"
  }
 },
 "nbformat": 4,
 "nbformat_minor": 2
}