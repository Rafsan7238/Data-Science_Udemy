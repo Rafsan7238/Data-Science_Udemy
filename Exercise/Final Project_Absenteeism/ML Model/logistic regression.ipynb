{
 "cells": [
  {
   "cell_type": "markdown",
   "source": [
    "# Building Logistic Regression Model for Absenteeism Project\n",
    "\n",
    "Now that we have our preprocessed data, we can start building a model that can take in the predictors and predict whether a random person is likely to be absent at work.\n",
    "\n",
    "In this notebook, we will be creating a Logistic Regression (Logit) model to do the job."
   ],
   "metadata": {
    "collapsed": false,
    "pycharm": {
     "name": "#%% md\n"
    }
   }
  },
  {
   "cell_type": "markdown",
   "source": [
    "## Import the Necessary Libraries"
   ],
   "metadata": {
    "collapsed": false,
    "pycharm": {
     "name": "#%% md\n"
    }
   }
  },
  {
   "cell_type": "code",
   "execution_count": 182,
   "metadata": {
    "collapsed": true,
    "pycharm": {
     "name": "#%%\n"
    }
   },
   "outputs": [],
   "source": [
    "import pandas as pd\n",
    "import numpy as np\n",
    "\n",
    "from sklearn.preprocessing import StandardScaler\n",
    "from sklearn.model_selection import train_test_split\n",
    "from sklearn.linear_model import LogisticRegression\n",
    "from sklearn import metrics"
   ]
  },
  {
   "cell_type": "markdown",
   "source": [
    "## Import the Data"
   ],
   "metadata": {
    "collapsed": false,
    "pycharm": {
     "name": "#%% md\n"
    }
   }
  },
  {
   "cell_type": "code",
   "execution_count": 183,
   "outputs": [
    {
     "data": {
      "text/plain": "     Reason 1  Reason 2  Reason 3  Reason 4  Month Value  Day of the Week  \\\n0           0         0         0         1            7                1   \n1           0         0         0         0            7                1   \n2           0         0         0         1            7                2   \n3           1         0         0         0            7                3   \n4           0         0         0         1            7                3   \n..        ...       ...       ...       ...          ...              ...   \n695         1         0         0         0            5                2   \n696         1         0         0         0            5                2   \n697         1         0         0         0            5                3   \n698         0         0         0         1            5                3   \n699         0         0         0         1            5                3   \n\n     Transportation Expense  Distance to Work  Age  Daily Work Load Average  \\\n0                       289                36   33                  239.554   \n1                       118                13   50                  239.554   \n2                       179                51   38                  239.554   \n3                       279                 5   39                  239.554   \n4                       289                36   33                  239.554   \n..                      ...               ...  ...                      ...   \n695                     179                22   40                  237.656   \n696                     225                26   28                  237.656   \n697                     330                16   28                  237.656   \n698                     235                16   32                  237.656   \n699                     291                31   40                  237.656   \n\n     Body Mass Index  Education  Children  Pets  Absenteeism Time in Hours  \n0                 30          0         2     1                          4  \n1                 31          0         1     0                          0  \n2                 31          0         0     0                          2  \n3                 24          0         2     0                          4  \n4                 30          0         2     1                          2  \n..               ...        ...       ...   ...                        ...  \n695               22          1         2     0                          8  \n696               24          0         1     2                          3  \n697               25          1         0     0                          8  \n698               25          1         0     0                          2  \n699               25          0         1     1                          2  \n\n[700 rows x 15 columns]",
      "text/html": "<div>\n<style scoped>\n    .dataframe tbody tr th:only-of-type {\n        vertical-align: middle;\n    }\n\n    .dataframe tbody tr th {\n        vertical-align: top;\n    }\n\n    .dataframe thead th {\n        text-align: right;\n    }\n</style>\n<table border=\"1\" class=\"dataframe\">\n  <thead>\n    <tr style=\"text-align: right;\">\n      <th></th>\n      <th>Reason 1</th>\n      <th>Reason 2</th>\n      <th>Reason 3</th>\n      <th>Reason 4</th>\n      <th>Month Value</th>\n      <th>Day of the Week</th>\n      <th>Transportation Expense</th>\n      <th>Distance to Work</th>\n      <th>Age</th>\n      <th>Daily Work Load Average</th>\n      <th>Body Mass Index</th>\n      <th>Education</th>\n      <th>Children</th>\n      <th>Pets</th>\n      <th>Absenteeism Time in Hours</th>\n    </tr>\n  </thead>\n  <tbody>\n    <tr>\n      <th>0</th>\n      <td>0</td>\n      <td>0</td>\n      <td>0</td>\n      <td>1</td>\n      <td>7</td>\n      <td>1</td>\n      <td>289</td>\n      <td>36</td>\n      <td>33</td>\n      <td>239.554</td>\n      <td>30</td>\n      <td>0</td>\n      <td>2</td>\n      <td>1</td>\n      <td>4</td>\n    </tr>\n    <tr>\n      <th>1</th>\n      <td>0</td>\n      <td>0</td>\n      <td>0</td>\n      <td>0</td>\n      <td>7</td>\n      <td>1</td>\n      <td>118</td>\n      <td>13</td>\n      <td>50</td>\n      <td>239.554</td>\n      <td>31</td>\n      <td>0</td>\n      <td>1</td>\n      <td>0</td>\n      <td>0</td>\n    </tr>\n    <tr>\n      <th>2</th>\n      <td>0</td>\n      <td>0</td>\n      <td>0</td>\n      <td>1</td>\n      <td>7</td>\n      <td>2</td>\n      <td>179</td>\n      <td>51</td>\n      <td>38</td>\n      <td>239.554</td>\n      <td>31</td>\n      <td>0</td>\n      <td>0</td>\n      <td>0</td>\n      <td>2</td>\n    </tr>\n    <tr>\n      <th>3</th>\n      <td>1</td>\n      <td>0</td>\n      <td>0</td>\n      <td>0</td>\n      <td>7</td>\n      <td>3</td>\n      <td>279</td>\n      <td>5</td>\n      <td>39</td>\n      <td>239.554</td>\n      <td>24</td>\n      <td>0</td>\n      <td>2</td>\n      <td>0</td>\n      <td>4</td>\n    </tr>\n    <tr>\n      <th>4</th>\n      <td>0</td>\n      <td>0</td>\n      <td>0</td>\n      <td>1</td>\n      <td>7</td>\n      <td>3</td>\n      <td>289</td>\n      <td>36</td>\n      <td>33</td>\n      <td>239.554</td>\n      <td>30</td>\n      <td>0</td>\n      <td>2</td>\n      <td>1</td>\n      <td>2</td>\n    </tr>\n    <tr>\n      <th>...</th>\n      <td>...</td>\n      <td>...</td>\n      <td>...</td>\n      <td>...</td>\n      <td>...</td>\n      <td>...</td>\n      <td>...</td>\n      <td>...</td>\n      <td>...</td>\n      <td>...</td>\n      <td>...</td>\n      <td>...</td>\n      <td>...</td>\n      <td>...</td>\n      <td>...</td>\n    </tr>\n    <tr>\n      <th>695</th>\n      <td>1</td>\n      <td>0</td>\n      <td>0</td>\n      <td>0</td>\n      <td>5</td>\n      <td>2</td>\n      <td>179</td>\n      <td>22</td>\n      <td>40</td>\n      <td>237.656</td>\n      <td>22</td>\n      <td>1</td>\n      <td>2</td>\n      <td>0</td>\n      <td>8</td>\n    </tr>\n    <tr>\n      <th>696</th>\n      <td>1</td>\n      <td>0</td>\n      <td>0</td>\n      <td>0</td>\n      <td>5</td>\n      <td>2</td>\n      <td>225</td>\n      <td>26</td>\n      <td>28</td>\n      <td>237.656</td>\n      <td>24</td>\n      <td>0</td>\n      <td>1</td>\n      <td>2</td>\n      <td>3</td>\n    </tr>\n    <tr>\n      <th>697</th>\n      <td>1</td>\n      <td>0</td>\n      <td>0</td>\n      <td>0</td>\n      <td>5</td>\n      <td>3</td>\n      <td>330</td>\n      <td>16</td>\n      <td>28</td>\n      <td>237.656</td>\n      <td>25</td>\n      <td>1</td>\n      <td>0</td>\n      <td>0</td>\n      <td>8</td>\n    </tr>\n    <tr>\n      <th>698</th>\n      <td>0</td>\n      <td>0</td>\n      <td>0</td>\n      <td>1</td>\n      <td>5</td>\n      <td>3</td>\n      <td>235</td>\n      <td>16</td>\n      <td>32</td>\n      <td>237.656</td>\n      <td>25</td>\n      <td>1</td>\n      <td>0</td>\n      <td>0</td>\n      <td>2</td>\n    </tr>\n    <tr>\n      <th>699</th>\n      <td>0</td>\n      <td>0</td>\n      <td>0</td>\n      <td>1</td>\n      <td>5</td>\n      <td>3</td>\n      <td>291</td>\n      <td>31</td>\n      <td>40</td>\n      <td>237.656</td>\n      <td>25</td>\n      <td>0</td>\n      <td>1</td>\n      <td>1</td>\n      <td>2</td>\n    </tr>\n  </tbody>\n</table>\n<p>700 rows × 15 columns</p>\n</div>"
     },
     "execution_count": 183,
     "metadata": {},
     "output_type": "execute_result"
    }
   ],
   "source": [
    "data_preprocessed = pd.read_csv('../Dataset/Absenteeism_preprocessed.csv')\n",
    "data_preprocessed"
   ],
   "metadata": {
    "collapsed": false,
    "pycharm": {
     "name": "#%%\n"
    }
   }
  },
  {
   "cell_type": "markdown",
   "source": [
    "## Create the Targets\n",
    "\n",
    "For this project, we will be differentiating between excessive absenteeism and moderate absenteeism. For that, we will create target variable containing 1 or 0 for each depending on if the `Absenteeism Time in Hours` is more than or less than its median value respectively.\n",
    "\n",
    "Finally, we can drop the `Absenteeism Time in Hours` column from the dataframe as it won't be needed anymore."
   ],
   "metadata": {
    "collapsed": false,
    "pycharm": {
     "name": "#%% md\n"
    }
   }
  },
  {
   "cell_type": "code",
   "execution_count": 184,
   "outputs": [
    {
     "data": {
      "text/plain": "array([1, 0, 0, 1, 0, 0, 1, 1, 1, 1, 1, 1, 1, 0, 1, 1, 0, 1, 1, 0, 1, 0,\n       1, 1, 1, 1, 0, 1, 1, 0, 1, 1, 1, 1, 0, 0, 1, 1, 1, 1, 0, 1, 1, 1,\n       0, 0, 0, 1, 1, 1, 0, 0, 0, 0, 0, 0, 0, 0, 0, 0, 0, 1, 0, 0, 0, 0,\n       0, 0, 0, 0, 0, 1, 1, 0, 1, 1, 0, 1, 0, 0, 0, 0, 1, 1, 1, 1, 1, 1,\n       0, 1, 0, 1, 0, 1, 0, 0, 1, 0, 0, 1, 0, 1, 0, 1, 1, 1, 0, 0, 0, 1,\n       0, 1, 0, 0, 0, 0, 1, 0, 0, 0, 0, 0, 0, 0, 0, 0, 0, 0, 0, 1, 1, 0,\n       0, 0, 0, 0, 0, 0, 1, 1, 0, 1, 0, 1, 1, 1, 0, 0, 0, 1, 0, 1, 0, 0,\n       1, 0, 1, 0, 1, 1, 1, 1, 0, 1, 1, 1, 1, 1, 1, 1, 1, 0, 1, 1, 0, 1,\n       0, 1, 1, 0, 1, 0, 0, 0, 0, 0, 0, 1, 0, 0, 1, 1, 0, 0, 1, 0, 1, 1,\n       1, 1, 1, 1, 0, 0, 1, 0, 0, 1, 1, 1, 0, 0, 1, 0, 0, 0, 0, 0, 1, 1,\n       1, 1, 1, 1, 1, 1, 1, 1, 1, 1, 0, 1, 1, 0, 0, 0, 1, 1, 1, 1, 1, 1,\n       0, 1, 1, 0, 1, 1, 1, 1, 1, 0, 1, 0, 0, 1, 0, 0, 1, 1, 0, 1, 0, 0,\n       0, 0, 0, 1, 1, 1, 1, 0, 1, 0, 1, 0, 0, 0, 1, 1, 0, 1, 1, 1, 0, 0,\n       0, 1, 1, 1, 1, 1, 1, 0, 0, 1, 0, 1, 0, 1, 0, 1, 0, 0, 0, 0, 0, 1,\n       1, 0, 1, 0, 0, 0, 1, 1, 0, 1, 0, 1, 0, 0, 1, 1, 1, 0, 0, 0, 0, 0,\n       1, 1, 1, 0, 1, 1, 0, 0, 0, 0, 0, 0, 0, 0, 1, 1, 0, 0, 0, 1, 0, 0,\n       1, 1, 1, 0, 0, 1, 1, 1, 0, 0, 1, 1, 1, 1, 1, 0, 0, 0, 0, 0, 0, 0,\n       0, 0, 0, 1, 1, 0, 1, 0, 0, 0, 1, 0, 0, 1, 0, 0, 1, 1, 0, 1, 0, 1,\n       1, 1, 1, 1, 0, 1, 0, 0, 1, 0, 0, 0, 1, 1, 1, 0, 1, 0, 1, 1, 1, 1,\n       1, 0, 1, 1, 1, 1, 0, 1, 0, 1, 0, 1, 0, 0, 0, 0, 1, 0, 1, 0, 0, 1,\n       0, 0, 0, 0, 1, 1, 0, 1, 1, 0, 1, 1, 0, 0, 0, 1, 0, 0, 0, 1, 0, 1,\n       1, 1, 1, 1, 1, 1, 1, 0, 0, 1, 0, 0, 1, 1, 1, 0, 0, 0, 1, 0, 1, 1,\n       1, 1, 1, 1, 1, 1, 1, 0, 1, 0, 0, 0, 0, 0, 0, 0, 1, 0, 1, 0, 0, 1,\n       1, 0, 0, 1, 0, 0, 0, 0, 0, 0, 1, 0, 1, 1, 0, 0, 0, 1, 0, 1, 0, 1,\n       1, 1, 0, 0, 0, 0, 1, 0, 1, 1, 1, 1, 1, 0, 0, 0, 0, 1, 1, 0, 0, 0,\n       1, 0, 0, 1, 0, 1, 0, 0, 0, 0, 0, 1, 0, 1, 1, 1, 0, 0, 0, 1, 1, 1,\n       0, 0, 0, 0, 1, 0, 0, 1, 0, 0, 1, 0, 0, 1, 0, 1, 0, 0, 0, 0, 0, 0,\n       0, 0, 1, 0, 0, 0, 0, 0, 0, 0, 0, 0, 1, 0, 1, 0, 0, 0, 0, 0, 0, 0,\n       0, 0, 0, 0, 0, 0, 1, 0, 0, 0, 0, 0, 0, 1, 1, 0, 0, 0, 1, 0, 0, 1,\n       0, 1, 0, 0, 0, 0, 0, 0, 0, 1, 1, 0, 0, 0, 1, 1, 1, 1, 1, 1, 1, 0,\n       1, 0, 0, 0, 0, 1, 0, 1, 0, 0, 1, 1, 0, 0, 1, 0, 0, 0, 1, 0, 0, 1,\n       1, 1, 0, 0, 0, 0, 0, 0, 0, 0, 1, 1, 1, 1, 0, 1, 0, 0])"
     },
     "execution_count": 184,
     "metadata": {},
     "output_type": "execute_result"
    }
   ],
   "source": [
    "# create a target variable based on the median of `Absenteeism Time in Hours`\n",
    "targets = np.where(data_preprocessed['Absenteeism Time in Hours'] > data_preprocessed['Absenteeism Time in Hours'].median(), 1, 0)\n",
    "targets"
   ],
   "metadata": {
    "collapsed": false,
    "pycharm": {
     "name": "#%%\n"
    }
   }
  },
  {
   "cell_type": "code",
   "execution_count": 185,
   "outputs": [
    {
     "data": {
      "text/plain": "     Reason 1  Reason 2  Reason 3  Reason 4  Month Value  Day of the Week  \\\n0           0         0         0         1            7                1   \n1           0         0         0         0            7                1   \n2           0         0         0         1            7                2   \n3           1         0         0         0            7                3   \n4           0         0         0         1            7                3   \n..        ...       ...       ...       ...          ...              ...   \n695         1         0         0         0            5                2   \n696         1         0         0         0            5                2   \n697         1         0         0         0            5                3   \n698         0         0         0         1            5                3   \n699         0         0         0         1            5                3   \n\n     Transportation Expense  Distance to Work  Age  Daily Work Load Average  \\\n0                       289                36   33                  239.554   \n1                       118                13   50                  239.554   \n2                       179                51   38                  239.554   \n3                       279                 5   39                  239.554   \n4                       289                36   33                  239.554   \n..                      ...               ...  ...                      ...   \n695                     179                22   40                  237.656   \n696                     225                26   28                  237.656   \n697                     330                16   28                  237.656   \n698                     235                16   32                  237.656   \n699                     291                31   40                  237.656   \n\n     Body Mass Index  Education  Children  Pets  Absenteeism Time in Hours  \\\n0                 30          0         2     1                          4   \n1                 31          0         1     0                          0   \n2                 31          0         0     0                          2   \n3                 24          0         2     0                          4   \n4                 30          0         2     1                          2   \n..               ...        ...       ...   ...                        ...   \n695               22          1         2     0                          8   \n696               24          0         1     2                          3   \n697               25          1         0     0                          8   \n698               25          1         0     0                          2   \n699               25          0         1     1                          2   \n\n     Excessive Absenteeism  \n0                        1  \n1                        0  \n2                        0  \n3                        1  \n4                        0  \n..                     ...  \n695                      1  \n696                      0  \n697                      1  \n698                      0  \n699                      0  \n\n[700 rows x 16 columns]",
      "text/html": "<div>\n<style scoped>\n    .dataframe tbody tr th:only-of-type {\n        vertical-align: middle;\n    }\n\n    .dataframe tbody tr th {\n        vertical-align: top;\n    }\n\n    .dataframe thead th {\n        text-align: right;\n    }\n</style>\n<table border=\"1\" class=\"dataframe\">\n  <thead>\n    <tr style=\"text-align: right;\">\n      <th></th>\n      <th>Reason 1</th>\n      <th>Reason 2</th>\n      <th>Reason 3</th>\n      <th>Reason 4</th>\n      <th>Month Value</th>\n      <th>Day of the Week</th>\n      <th>Transportation Expense</th>\n      <th>Distance to Work</th>\n      <th>Age</th>\n      <th>Daily Work Load Average</th>\n      <th>Body Mass Index</th>\n      <th>Education</th>\n      <th>Children</th>\n      <th>Pets</th>\n      <th>Absenteeism Time in Hours</th>\n      <th>Excessive Absenteeism</th>\n    </tr>\n  </thead>\n  <tbody>\n    <tr>\n      <th>0</th>\n      <td>0</td>\n      <td>0</td>\n      <td>0</td>\n      <td>1</td>\n      <td>7</td>\n      <td>1</td>\n      <td>289</td>\n      <td>36</td>\n      <td>33</td>\n      <td>239.554</td>\n      <td>30</td>\n      <td>0</td>\n      <td>2</td>\n      <td>1</td>\n      <td>4</td>\n      <td>1</td>\n    </tr>\n    <tr>\n      <th>1</th>\n      <td>0</td>\n      <td>0</td>\n      <td>0</td>\n      <td>0</td>\n      <td>7</td>\n      <td>1</td>\n      <td>118</td>\n      <td>13</td>\n      <td>50</td>\n      <td>239.554</td>\n      <td>31</td>\n      <td>0</td>\n      <td>1</td>\n      <td>0</td>\n      <td>0</td>\n      <td>0</td>\n    </tr>\n    <tr>\n      <th>2</th>\n      <td>0</td>\n      <td>0</td>\n      <td>0</td>\n      <td>1</td>\n      <td>7</td>\n      <td>2</td>\n      <td>179</td>\n      <td>51</td>\n      <td>38</td>\n      <td>239.554</td>\n      <td>31</td>\n      <td>0</td>\n      <td>0</td>\n      <td>0</td>\n      <td>2</td>\n      <td>0</td>\n    </tr>\n    <tr>\n      <th>3</th>\n      <td>1</td>\n      <td>0</td>\n      <td>0</td>\n      <td>0</td>\n      <td>7</td>\n      <td>3</td>\n      <td>279</td>\n      <td>5</td>\n      <td>39</td>\n      <td>239.554</td>\n      <td>24</td>\n      <td>0</td>\n      <td>2</td>\n      <td>0</td>\n      <td>4</td>\n      <td>1</td>\n    </tr>\n    <tr>\n      <th>4</th>\n      <td>0</td>\n      <td>0</td>\n      <td>0</td>\n      <td>1</td>\n      <td>7</td>\n      <td>3</td>\n      <td>289</td>\n      <td>36</td>\n      <td>33</td>\n      <td>239.554</td>\n      <td>30</td>\n      <td>0</td>\n      <td>2</td>\n      <td>1</td>\n      <td>2</td>\n      <td>0</td>\n    </tr>\n    <tr>\n      <th>...</th>\n      <td>...</td>\n      <td>...</td>\n      <td>...</td>\n      <td>...</td>\n      <td>...</td>\n      <td>...</td>\n      <td>...</td>\n      <td>...</td>\n      <td>...</td>\n      <td>...</td>\n      <td>...</td>\n      <td>...</td>\n      <td>...</td>\n      <td>...</td>\n      <td>...</td>\n      <td>...</td>\n    </tr>\n    <tr>\n      <th>695</th>\n      <td>1</td>\n      <td>0</td>\n      <td>0</td>\n      <td>0</td>\n      <td>5</td>\n      <td>2</td>\n      <td>179</td>\n      <td>22</td>\n      <td>40</td>\n      <td>237.656</td>\n      <td>22</td>\n      <td>1</td>\n      <td>2</td>\n      <td>0</td>\n      <td>8</td>\n      <td>1</td>\n    </tr>\n    <tr>\n      <th>696</th>\n      <td>1</td>\n      <td>0</td>\n      <td>0</td>\n      <td>0</td>\n      <td>5</td>\n      <td>2</td>\n      <td>225</td>\n      <td>26</td>\n      <td>28</td>\n      <td>237.656</td>\n      <td>24</td>\n      <td>0</td>\n      <td>1</td>\n      <td>2</td>\n      <td>3</td>\n      <td>0</td>\n    </tr>\n    <tr>\n      <th>697</th>\n      <td>1</td>\n      <td>0</td>\n      <td>0</td>\n      <td>0</td>\n      <td>5</td>\n      <td>3</td>\n      <td>330</td>\n      <td>16</td>\n      <td>28</td>\n      <td>237.656</td>\n      <td>25</td>\n      <td>1</td>\n      <td>0</td>\n      <td>0</td>\n      <td>8</td>\n      <td>1</td>\n    </tr>\n    <tr>\n      <th>698</th>\n      <td>0</td>\n      <td>0</td>\n      <td>0</td>\n      <td>1</td>\n      <td>5</td>\n      <td>3</td>\n      <td>235</td>\n      <td>16</td>\n      <td>32</td>\n      <td>237.656</td>\n      <td>25</td>\n      <td>1</td>\n      <td>0</td>\n      <td>0</td>\n      <td>2</td>\n      <td>0</td>\n    </tr>\n    <tr>\n      <th>699</th>\n      <td>0</td>\n      <td>0</td>\n      <td>0</td>\n      <td>1</td>\n      <td>5</td>\n      <td>3</td>\n      <td>291</td>\n      <td>31</td>\n      <td>40</td>\n      <td>237.656</td>\n      <td>25</td>\n      <td>0</td>\n      <td>1</td>\n      <td>1</td>\n      <td>2</td>\n      <td>0</td>\n    </tr>\n  </tbody>\n</table>\n<p>700 rows × 16 columns</p>\n</div>"
     },
     "execution_count": 185,
     "metadata": {},
     "output_type": "execute_result"
    }
   ],
   "source": [
    "# add the newly created targets to the dataframe\n",
    "data_preprocessed['Excessive Absenteeism'] = targets\n",
    "data_preprocessed"
   ],
   "metadata": {
    "collapsed": false,
    "pycharm": {
     "name": "#%%\n"
    }
   }
  },
  {
   "cell_type": "code",
   "execution_count": 186,
   "outputs": [
    {
     "data": {
      "text/plain": "     Reason 1  Reason 2  Reason 3  Reason 4  Month Value  Day of the Week  \\\n0           0         0         0         1            7                1   \n1           0         0         0         0            7                1   \n2           0         0         0         1            7                2   \n3           1         0         0         0            7                3   \n4           0         0         0         1            7                3   \n..        ...       ...       ...       ...          ...              ...   \n695         1         0         0         0            5                2   \n696         1         0         0         0            5                2   \n697         1         0         0         0            5                3   \n698         0         0         0         1            5                3   \n699         0         0         0         1            5                3   \n\n     Transportation Expense  Distance to Work  Age  Daily Work Load Average  \\\n0                       289                36   33                  239.554   \n1                       118                13   50                  239.554   \n2                       179                51   38                  239.554   \n3                       279                 5   39                  239.554   \n4                       289                36   33                  239.554   \n..                      ...               ...  ...                      ...   \n695                     179                22   40                  237.656   \n696                     225                26   28                  237.656   \n697                     330                16   28                  237.656   \n698                     235                16   32                  237.656   \n699                     291                31   40                  237.656   \n\n     Body Mass Index  Education  Children  Pets  Excessive Absenteeism  \n0                 30          0         2     1                      1  \n1                 31          0         1     0                      0  \n2                 31          0         0     0                      0  \n3                 24          0         2     0                      1  \n4                 30          0         2     1                      0  \n..               ...        ...       ...   ...                    ...  \n695               22          1         2     0                      1  \n696               24          0         1     2                      0  \n697               25          1         0     0                      1  \n698               25          1         0     0                      0  \n699               25          0         1     1                      0  \n\n[700 rows x 15 columns]",
      "text/html": "<div>\n<style scoped>\n    .dataframe tbody tr th:only-of-type {\n        vertical-align: middle;\n    }\n\n    .dataframe tbody tr th {\n        vertical-align: top;\n    }\n\n    .dataframe thead th {\n        text-align: right;\n    }\n</style>\n<table border=\"1\" class=\"dataframe\">\n  <thead>\n    <tr style=\"text-align: right;\">\n      <th></th>\n      <th>Reason 1</th>\n      <th>Reason 2</th>\n      <th>Reason 3</th>\n      <th>Reason 4</th>\n      <th>Month Value</th>\n      <th>Day of the Week</th>\n      <th>Transportation Expense</th>\n      <th>Distance to Work</th>\n      <th>Age</th>\n      <th>Daily Work Load Average</th>\n      <th>Body Mass Index</th>\n      <th>Education</th>\n      <th>Children</th>\n      <th>Pets</th>\n      <th>Excessive Absenteeism</th>\n    </tr>\n  </thead>\n  <tbody>\n    <tr>\n      <th>0</th>\n      <td>0</td>\n      <td>0</td>\n      <td>0</td>\n      <td>1</td>\n      <td>7</td>\n      <td>1</td>\n      <td>289</td>\n      <td>36</td>\n      <td>33</td>\n      <td>239.554</td>\n      <td>30</td>\n      <td>0</td>\n      <td>2</td>\n      <td>1</td>\n      <td>1</td>\n    </tr>\n    <tr>\n      <th>1</th>\n      <td>0</td>\n      <td>0</td>\n      <td>0</td>\n      <td>0</td>\n      <td>7</td>\n      <td>1</td>\n      <td>118</td>\n      <td>13</td>\n      <td>50</td>\n      <td>239.554</td>\n      <td>31</td>\n      <td>0</td>\n      <td>1</td>\n      <td>0</td>\n      <td>0</td>\n    </tr>\n    <tr>\n      <th>2</th>\n      <td>0</td>\n      <td>0</td>\n      <td>0</td>\n      <td>1</td>\n      <td>7</td>\n      <td>2</td>\n      <td>179</td>\n      <td>51</td>\n      <td>38</td>\n      <td>239.554</td>\n      <td>31</td>\n      <td>0</td>\n      <td>0</td>\n      <td>0</td>\n      <td>0</td>\n    </tr>\n    <tr>\n      <th>3</th>\n      <td>1</td>\n      <td>0</td>\n      <td>0</td>\n      <td>0</td>\n      <td>7</td>\n      <td>3</td>\n      <td>279</td>\n      <td>5</td>\n      <td>39</td>\n      <td>239.554</td>\n      <td>24</td>\n      <td>0</td>\n      <td>2</td>\n      <td>0</td>\n      <td>1</td>\n    </tr>\n    <tr>\n      <th>4</th>\n      <td>0</td>\n      <td>0</td>\n      <td>0</td>\n      <td>1</td>\n      <td>7</td>\n      <td>3</td>\n      <td>289</td>\n      <td>36</td>\n      <td>33</td>\n      <td>239.554</td>\n      <td>30</td>\n      <td>0</td>\n      <td>2</td>\n      <td>1</td>\n      <td>0</td>\n    </tr>\n    <tr>\n      <th>...</th>\n      <td>...</td>\n      <td>...</td>\n      <td>...</td>\n      <td>...</td>\n      <td>...</td>\n      <td>...</td>\n      <td>...</td>\n      <td>...</td>\n      <td>...</td>\n      <td>...</td>\n      <td>...</td>\n      <td>...</td>\n      <td>...</td>\n      <td>...</td>\n      <td>...</td>\n    </tr>\n    <tr>\n      <th>695</th>\n      <td>1</td>\n      <td>0</td>\n      <td>0</td>\n      <td>0</td>\n      <td>5</td>\n      <td>2</td>\n      <td>179</td>\n      <td>22</td>\n      <td>40</td>\n      <td>237.656</td>\n      <td>22</td>\n      <td>1</td>\n      <td>2</td>\n      <td>0</td>\n      <td>1</td>\n    </tr>\n    <tr>\n      <th>696</th>\n      <td>1</td>\n      <td>0</td>\n      <td>0</td>\n      <td>0</td>\n      <td>5</td>\n      <td>2</td>\n      <td>225</td>\n      <td>26</td>\n      <td>28</td>\n      <td>237.656</td>\n      <td>24</td>\n      <td>0</td>\n      <td>1</td>\n      <td>2</td>\n      <td>0</td>\n    </tr>\n    <tr>\n      <th>697</th>\n      <td>1</td>\n      <td>0</td>\n      <td>0</td>\n      <td>0</td>\n      <td>5</td>\n      <td>3</td>\n      <td>330</td>\n      <td>16</td>\n      <td>28</td>\n      <td>237.656</td>\n      <td>25</td>\n      <td>1</td>\n      <td>0</td>\n      <td>0</td>\n      <td>1</td>\n    </tr>\n    <tr>\n      <th>698</th>\n      <td>0</td>\n      <td>0</td>\n      <td>0</td>\n      <td>1</td>\n      <td>5</td>\n      <td>3</td>\n      <td>235</td>\n      <td>16</td>\n      <td>32</td>\n      <td>237.656</td>\n      <td>25</td>\n      <td>1</td>\n      <td>0</td>\n      <td>0</td>\n      <td>0</td>\n    </tr>\n    <tr>\n      <th>699</th>\n      <td>0</td>\n      <td>0</td>\n      <td>0</td>\n      <td>1</td>\n      <td>5</td>\n      <td>3</td>\n      <td>291</td>\n      <td>31</td>\n      <td>40</td>\n      <td>237.656</td>\n      <td>25</td>\n      <td>0</td>\n      <td>1</td>\n      <td>1</td>\n      <td>0</td>\n    </tr>\n  </tbody>\n</table>\n<p>700 rows × 15 columns</p>\n</div>"
     },
     "execution_count": 186,
     "metadata": {},
     "output_type": "execute_result"
    }
   ],
   "source": [
    "# drop the `Absenteeism in Hours` column\n",
    "data_with_targets = data_preprocessed.drop(['Absenteeism Time in Hours'], axis=1)\n",
    "\n",
    "data_with_targets"
   ],
   "metadata": {
    "collapsed": false,
    "pycharm": {
     "name": "#%%\n"
    }
   }
  },
  {
   "cell_type": "markdown",
   "source": [
    "### Balancing classes\n",
    "\n",
    "For a good classification model, it is necessary to balance the classes of the samples in the dataset. It will create more generalised model."
   ],
   "metadata": {
    "collapsed": false,
    "pycharm": {
     "name": "#%% md\n"
    }
   }
  },
  {
   "cell_type": "code",
   "execution_count": 187,
   "outputs": [
    {
     "data": {
      "text/plain": "0.45571428571428574"
     },
     "execution_count": 187,
     "metadata": {},
     "output_type": "execute_result"
    }
   ],
   "source": [
    "# check the proportion of the 2 classes\n",
    "targets.sum() / targets.shape[0]"
   ],
   "metadata": {
    "collapsed": false,
    "pycharm": {
     "name": "#%%\n"
    }
   }
  },
  {
   "cell_type": "markdown",
   "source": [
    "As we can see, around 46% of the data belongs to class 1 (Excessive Absenteeism) while the rest 54% to class 0 (Moderate Absenteeism). Hence, the dataset is roughly balanced and does not need further interference."
   ],
   "metadata": {
    "collapsed": false,
    "pycharm": {
     "name": "#%% md\n"
    }
   }
  },
  {
   "cell_type": "markdown",
   "source": [
    "## Create the Inputs"
   ],
   "metadata": {
    "collapsed": false,
    "pycharm": {
     "name": "#%% md\n"
    }
   }
  },
  {
   "cell_type": "code",
   "execution_count": 188,
   "outputs": [
    {
     "data": {
      "text/plain": "     Reason 1  Reason 2  Reason 3  Reason 4  Month Value  Day of the Week  \\\n0           0         0         0         1            7                1   \n1           0         0         0         0            7                1   \n2           0         0         0         1            7                2   \n3           1         0         0         0            7                3   \n4           0         0         0         1            7                3   \n..        ...       ...       ...       ...          ...              ...   \n695         1         0         0         0            5                2   \n696         1         0         0         0            5                2   \n697         1         0         0         0            5                3   \n698         0         0         0         1            5                3   \n699         0         0         0         1            5                3   \n\n     Transportation Expense  Distance to Work  Age  Daily Work Load Average  \\\n0                       289                36   33                  239.554   \n1                       118                13   50                  239.554   \n2                       179                51   38                  239.554   \n3                       279                 5   39                  239.554   \n4                       289                36   33                  239.554   \n..                      ...               ...  ...                      ...   \n695                     179                22   40                  237.656   \n696                     225                26   28                  237.656   \n697                     330                16   28                  237.656   \n698                     235                16   32                  237.656   \n699                     291                31   40                  237.656   \n\n     Body Mass Index  Education  Children  Pets  \n0                 30          0         2     1  \n1                 31          0         1     0  \n2                 31          0         0     0  \n3                 24          0         2     0  \n4                 30          0         2     1  \n..               ...        ...       ...   ...  \n695               22          1         2     0  \n696               24          0         1     2  \n697               25          1         0     0  \n698               25          1         0     0  \n699               25          0         1     1  \n\n[700 rows x 14 columns]",
      "text/html": "<div>\n<style scoped>\n    .dataframe tbody tr th:only-of-type {\n        vertical-align: middle;\n    }\n\n    .dataframe tbody tr th {\n        vertical-align: top;\n    }\n\n    .dataframe thead th {\n        text-align: right;\n    }\n</style>\n<table border=\"1\" class=\"dataframe\">\n  <thead>\n    <tr style=\"text-align: right;\">\n      <th></th>\n      <th>Reason 1</th>\n      <th>Reason 2</th>\n      <th>Reason 3</th>\n      <th>Reason 4</th>\n      <th>Month Value</th>\n      <th>Day of the Week</th>\n      <th>Transportation Expense</th>\n      <th>Distance to Work</th>\n      <th>Age</th>\n      <th>Daily Work Load Average</th>\n      <th>Body Mass Index</th>\n      <th>Education</th>\n      <th>Children</th>\n      <th>Pets</th>\n    </tr>\n  </thead>\n  <tbody>\n    <tr>\n      <th>0</th>\n      <td>0</td>\n      <td>0</td>\n      <td>0</td>\n      <td>1</td>\n      <td>7</td>\n      <td>1</td>\n      <td>289</td>\n      <td>36</td>\n      <td>33</td>\n      <td>239.554</td>\n      <td>30</td>\n      <td>0</td>\n      <td>2</td>\n      <td>1</td>\n    </tr>\n    <tr>\n      <th>1</th>\n      <td>0</td>\n      <td>0</td>\n      <td>0</td>\n      <td>0</td>\n      <td>7</td>\n      <td>1</td>\n      <td>118</td>\n      <td>13</td>\n      <td>50</td>\n      <td>239.554</td>\n      <td>31</td>\n      <td>0</td>\n      <td>1</td>\n      <td>0</td>\n    </tr>\n    <tr>\n      <th>2</th>\n      <td>0</td>\n      <td>0</td>\n      <td>0</td>\n      <td>1</td>\n      <td>7</td>\n      <td>2</td>\n      <td>179</td>\n      <td>51</td>\n      <td>38</td>\n      <td>239.554</td>\n      <td>31</td>\n      <td>0</td>\n      <td>0</td>\n      <td>0</td>\n    </tr>\n    <tr>\n      <th>3</th>\n      <td>1</td>\n      <td>0</td>\n      <td>0</td>\n      <td>0</td>\n      <td>7</td>\n      <td>3</td>\n      <td>279</td>\n      <td>5</td>\n      <td>39</td>\n      <td>239.554</td>\n      <td>24</td>\n      <td>0</td>\n      <td>2</td>\n      <td>0</td>\n    </tr>\n    <tr>\n      <th>4</th>\n      <td>0</td>\n      <td>0</td>\n      <td>0</td>\n      <td>1</td>\n      <td>7</td>\n      <td>3</td>\n      <td>289</td>\n      <td>36</td>\n      <td>33</td>\n      <td>239.554</td>\n      <td>30</td>\n      <td>0</td>\n      <td>2</td>\n      <td>1</td>\n    </tr>\n    <tr>\n      <th>...</th>\n      <td>...</td>\n      <td>...</td>\n      <td>...</td>\n      <td>...</td>\n      <td>...</td>\n      <td>...</td>\n      <td>...</td>\n      <td>...</td>\n      <td>...</td>\n      <td>...</td>\n      <td>...</td>\n      <td>...</td>\n      <td>...</td>\n      <td>...</td>\n    </tr>\n    <tr>\n      <th>695</th>\n      <td>1</td>\n      <td>0</td>\n      <td>0</td>\n      <td>0</td>\n      <td>5</td>\n      <td>2</td>\n      <td>179</td>\n      <td>22</td>\n      <td>40</td>\n      <td>237.656</td>\n      <td>22</td>\n      <td>1</td>\n      <td>2</td>\n      <td>0</td>\n    </tr>\n    <tr>\n      <th>696</th>\n      <td>1</td>\n      <td>0</td>\n      <td>0</td>\n      <td>0</td>\n      <td>5</td>\n      <td>2</td>\n      <td>225</td>\n      <td>26</td>\n      <td>28</td>\n      <td>237.656</td>\n      <td>24</td>\n      <td>0</td>\n      <td>1</td>\n      <td>2</td>\n    </tr>\n    <tr>\n      <th>697</th>\n      <td>1</td>\n      <td>0</td>\n      <td>0</td>\n      <td>0</td>\n      <td>5</td>\n      <td>3</td>\n      <td>330</td>\n      <td>16</td>\n      <td>28</td>\n      <td>237.656</td>\n      <td>25</td>\n      <td>1</td>\n      <td>0</td>\n      <td>0</td>\n    </tr>\n    <tr>\n      <th>698</th>\n      <td>0</td>\n      <td>0</td>\n      <td>0</td>\n      <td>1</td>\n      <td>5</td>\n      <td>3</td>\n      <td>235</td>\n      <td>16</td>\n      <td>32</td>\n      <td>237.656</td>\n      <td>25</td>\n      <td>1</td>\n      <td>0</td>\n      <td>0</td>\n    </tr>\n    <tr>\n      <th>699</th>\n      <td>0</td>\n      <td>0</td>\n      <td>0</td>\n      <td>1</td>\n      <td>5</td>\n      <td>3</td>\n      <td>291</td>\n      <td>31</td>\n      <td>40</td>\n      <td>237.656</td>\n      <td>25</td>\n      <td>0</td>\n      <td>1</td>\n      <td>1</td>\n    </tr>\n  </tbody>\n</table>\n<p>700 rows × 14 columns</p>\n</div>"
     },
     "execution_count": 188,
     "metadata": {},
     "output_type": "execute_result"
    }
   ],
   "source": [
    "# inputs will be all columns except the targets\n",
    "unscaled_inputs = data_with_targets.iloc[:, :-1]\n",
    "unscaled_inputs"
   ],
   "metadata": {
    "collapsed": false,
    "pycharm": {
     "name": "#%%\n"
    }
   }
  },
  {
   "cell_type": "markdown",
   "source": [
    "## Scale the Inputs\n",
    "\n",
    "As we can see, the inputs vary in magnitude and units, and so can impact our model negatively. To ensure equal importance for all the features, we should scale them.\n",
    "\n",
    "I will use the Standard Scaler such that all column values have a mean of 0 and standard deviation of 1."
   ],
   "metadata": {
    "collapsed": false,
    "pycharm": {
     "name": "#%% md\n"
    }
   }
  },
  {
   "cell_type": "code",
   "execution_count": 189,
   "outputs": [],
   "source": [
    "# create the Standard Scaler\n",
    "absenteeism_scaler = StandardScaler()\n",
    "\n",
    "# fit the scaler to the data\n",
    "absenteeism_scaler.fit(unscaled_inputs)\n",
    "\n",
    "# transform the inputs\n",
    "scaled_inputs = absenteeism_scaler.transform(unscaled_inputs)"
   ],
   "metadata": {
    "collapsed": false,
    "pycharm": {
     "name": "#%%\n"
    }
   }
  },
  {
   "cell_type": "code",
   "execution_count": 190,
   "outputs": [
    {
     "data": {
      "text/plain": "array([[-0.57735027, -0.09298136, -0.31448545, ..., -0.44798003,\n         0.88046927,  0.26848661],\n       [-0.57735027, -0.09298136, -0.31448545, ..., -0.44798003,\n        -0.01928035, -0.58968976],\n       [-0.57735027, -0.09298136, -0.31448545, ..., -0.44798003,\n        -0.91902997, -0.58968976],\n       ...,\n       [ 1.73205081, -0.09298136, -0.31448545, ...,  2.23224237,\n        -0.91902997, -0.58968976],\n       [-0.57735027, -0.09298136, -0.31448545, ...,  2.23224237,\n        -0.91902997, -0.58968976],\n       [-0.57735027, -0.09298136, -0.31448545, ..., -0.44798003,\n        -0.01928035,  0.26848661]])"
     },
     "execution_count": 190,
     "metadata": {},
     "output_type": "execute_result"
    }
   ],
   "source": [
    "scaled_inputs"
   ],
   "metadata": {
    "collapsed": false,
    "pycharm": {
     "name": "#%%\n"
    }
   }
  },
  {
   "cell_type": "code",
   "execution_count": 191,
   "outputs": [
    {
     "data": {
      "text/plain": "numpy.ndarray"
     },
     "execution_count": 191,
     "metadata": {},
     "output_type": "execute_result"
    }
   ],
   "source": [
    "type(scaled_inputs)"
   ],
   "metadata": {
    "collapsed": false,
    "pycharm": {
     "name": "#%%\n"
    }
   }
  },
  {
   "cell_type": "markdown",
   "source": [
    "## Split the Dataset\n",
    "\n",
    "We will split the dataset into training and testing in an 80:20 ratio. We will fix a random state to ensure consistency, and stratify the dataset to ensure the class balance in the splits."
   ],
   "metadata": {
    "collapsed": false,
    "pycharm": {
     "name": "#%% md\n"
    }
   }
  },
  {
   "cell_type": "code",
   "execution_count": 192,
   "outputs": [],
   "source": [
    "# split the data into 80:20\n",
    "# use random state = 1\n",
    "# stratify the data\n",
    "x_train, x_test, y_train, y_test = train_test_split(scaled_inputs, targets, test_size=0.2, stratify=targets, random_state=1)"
   ],
   "metadata": {
    "collapsed": false,
    "pycharm": {
     "name": "#%%\n"
    }
   }
  },
  {
   "cell_type": "code",
   "execution_count": 193,
   "outputs": [
    {
     "name": "stdout",
     "output_type": "stream",
     "text": [
      "(560, 14) (560,)\n"
     ]
    }
   ],
   "source": [
    "# check train shape\n",
    "print(x_train.shape, y_train.shape)"
   ],
   "metadata": {
    "collapsed": false,
    "pycharm": {
     "name": "#%%\n"
    }
   }
  },
  {
   "cell_type": "code",
   "execution_count": 194,
   "outputs": [
    {
     "name": "stdout",
     "output_type": "stream",
     "text": [
      "(140, 14) (140,)\n"
     ]
    }
   ],
   "source": [
    "# check test shape\n",
    "print(x_test.shape, y_test.shape)"
   ],
   "metadata": {
    "collapsed": false,
    "pycharm": {
     "name": "#%%\n"
    }
   }
  },
  {
   "cell_type": "code",
   "execution_count": 195,
   "outputs": [
    {
     "name": "stdout",
     "output_type": "stream",
     "text": [
      "0.45535714285714285\n",
      "0.45714285714285713\n"
     ]
    }
   ],
   "source": [
    "# check dataset balance\n",
    "print(y_train.sum() / y_train.shape[0])\n",
    "print(y_test.sum() / y_test.shape[0])"
   ],
   "metadata": {
    "collapsed": false,
    "pycharm": {
     "name": "#%%\n"
    }
   }
  },
  {
   "cell_type": "markdown",
   "source": [
    "The split was a success and the class balance has also been maintained."
   ],
   "metadata": {
    "collapsed": false,
    "pycharm": {
     "name": "#%% md\n"
    }
   }
  },
  {
   "cell_type": "markdown",
   "source": [
    "## Build the Model"
   ],
   "metadata": {
    "collapsed": false,
    "pycharm": {
     "name": "#%% md\n"
    }
   }
  },
  {
   "cell_type": "code",
   "execution_count": 196,
   "outputs": [
    {
     "data": {
      "text/plain": "LogisticRegression()",
      "text/html": "<style>#sk-container-id-11 {color: black;background-color: white;}#sk-container-id-11 pre{padding: 0;}#sk-container-id-11 div.sk-toggleable {background-color: white;}#sk-container-id-11 label.sk-toggleable__label {cursor: pointer;display: block;width: 100%;margin-bottom: 0;padding: 0.3em;box-sizing: border-box;text-align: center;}#sk-container-id-11 label.sk-toggleable__label-arrow:before {content: \"▸\";float: left;margin-right: 0.25em;color: #696969;}#sk-container-id-11 label.sk-toggleable__label-arrow:hover:before {color: black;}#sk-container-id-11 div.sk-estimator:hover label.sk-toggleable__label-arrow:before {color: black;}#sk-container-id-11 div.sk-toggleable__content {max-height: 0;max-width: 0;overflow: hidden;text-align: left;background-color: #f0f8ff;}#sk-container-id-11 div.sk-toggleable__content pre {margin: 0.2em;color: black;border-radius: 0.25em;background-color: #f0f8ff;}#sk-container-id-11 input.sk-toggleable__control:checked~div.sk-toggleable__content {max-height: 200px;max-width: 100%;overflow: auto;}#sk-container-id-11 input.sk-toggleable__control:checked~label.sk-toggleable__label-arrow:before {content: \"▾\";}#sk-container-id-11 div.sk-estimator input.sk-toggleable__control:checked~label.sk-toggleable__label {background-color: #d4ebff;}#sk-container-id-11 div.sk-label input.sk-toggleable__control:checked~label.sk-toggleable__label {background-color: #d4ebff;}#sk-container-id-11 input.sk-hidden--visually {border: 0;clip: rect(1px 1px 1px 1px);clip: rect(1px, 1px, 1px, 1px);height: 1px;margin: -1px;overflow: hidden;padding: 0;position: absolute;width: 1px;}#sk-container-id-11 div.sk-estimator {font-family: monospace;background-color: #f0f8ff;border: 1px dotted black;border-radius: 0.25em;box-sizing: border-box;margin-bottom: 0.5em;}#sk-container-id-11 div.sk-estimator:hover {background-color: #d4ebff;}#sk-container-id-11 div.sk-parallel-item::after {content: \"\";width: 100%;border-bottom: 1px solid gray;flex-grow: 1;}#sk-container-id-11 div.sk-label:hover label.sk-toggleable__label {background-color: #d4ebff;}#sk-container-id-11 div.sk-serial::before {content: \"\";position: absolute;border-left: 1px solid gray;box-sizing: border-box;top: 0;bottom: 0;left: 50%;z-index: 0;}#sk-container-id-11 div.sk-serial {display: flex;flex-direction: column;align-items: center;background-color: white;padding-right: 0.2em;padding-left: 0.2em;position: relative;}#sk-container-id-11 div.sk-item {position: relative;z-index: 1;}#sk-container-id-11 div.sk-parallel {display: flex;align-items: stretch;justify-content: center;background-color: white;position: relative;}#sk-container-id-11 div.sk-item::before, #sk-container-id-11 div.sk-parallel-item::before {content: \"\";position: absolute;border-left: 1px solid gray;box-sizing: border-box;top: 0;bottom: 0;left: 50%;z-index: -1;}#sk-container-id-11 div.sk-parallel-item {display: flex;flex-direction: column;z-index: 1;position: relative;background-color: white;}#sk-container-id-11 div.sk-parallel-item:first-child::after {align-self: flex-end;width: 50%;}#sk-container-id-11 div.sk-parallel-item:last-child::after {align-self: flex-start;width: 50%;}#sk-container-id-11 div.sk-parallel-item:only-child::after {width: 0;}#sk-container-id-11 div.sk-dashed-wrapped {border: 1px dashed gray;margin: 0 0.4em 0.5em 0.4em;box-sizing: border-box;padding-bottom: 0.4em;background-color: white;}#sk-container-id-11 div.sk-label label {font-family: monospace;font-weight: bold;display: inline-block;line-height: 1.2em;}#sk-container-id-11 div.sk-label-container {text-align: center;}#sk-container-id-11 div.sk-container {/* jupyter's `normalize.less` sets `[hidden] { display: none; }` but bootstrap.min.css set `[hidden] { display: none !important; }` so we also need the `!important` here to be able to override the default hidden behavior on the sphinx rendered scikit-learn.org. See: https://github.com/scikit-learn/scikit-learn/issues/21755 */display: inline-block !important;position: relative;}#sk-container-id-11 div.sk-text-repr-fallback {display: none;}</style><div id=\"sk-container-id-11\" class=\"sk-top-container\"><div class=\"sk-text-repr-fallback\"><pre>LogisticRegression()</pre><b>In a Jupyter environment, please rerun this cell to show the HTML representation or trust the notebook. <br />On GitHub, the HTML representation is unable to render, please try loading this page with nbviewer.org.</b></div><div class=\"sk-container\" hidden><div class=\"sk-item\"><div class=\"sk-estimator sk-toggleable\"><input class=\"sk-toggleable__control sk-hidden--visually\" id=\"sk-estimator-id-11\" type=\"checkbox\" checked><label for=\"sk-estimator-id-11\" class=\"sk-toggleable__label sk-toggleable__label-arrow\">LogisticRegression</label><div class=\"sk-toggleable__content\"><pre>LogisticRegression()</pre></div></div></div></div></div>"
     },
     "execution_count": 196,
     "metadata": {},
     "output_type": "execute_result"
    }
   ],
   "source": [
    "# build a logistic regression model\n",
    "reg = LogisticRegression()\n",
    "\n",
    "# train the model\n",
    "reg.fit(x_train, y_train)"
   ],
   "metadata": {
    "collapsed": false,
    "pycharm": {
     "name": "#%%\n"
    }
   }
  },
  {
   "cell_type": "code",
   "execution_count": 197,
   "outputs": [
    {
     "data": {
      "text/plain": "0.7821428571428571"
     },
     "execution_count": 197,
     "metadata": {},
     "output_type": "execute_result"
    }
   ],
   "source": [
    "# check the accuracy\n",
    "reg.score(x_train, y_train)"
   ],
   "metadata": {
    "collapsed": false,
    "pycharm": {
     "name": "#%%\n"
    }
   }
  },
  {
   "cell_type": "markdown",
   "source": [
    "Using the model, we achieved a training accuracy of 78%."
   ],
   "metadata": {
    "collapsed": false,
    "pycharm": {
     "name": "#%% md\n"
    }
   }
  },
  {
   "cell_type": "markdown",
   "source": [
    "### Manually check the accuracy"
   ],
   "metadata": {
    "collapsed": false,
    "pycharm": {
     "name": "#%% md\n"
    }
   }
  },
  {
   "cell_type": "code",
   "execution_count": 198,
   "outputs": [
    {
     "data": {
      "text/plain": "array([0, 0, 1, 1, 0, 1, 0, 0, 0, 0, 1, 0, 1, 0, 0, 1, 0, 1, 0, 0, 1, 0,\n       0, 0, 1, 0, 1, 1, 1, 1, 0, 1, 0, 1, 0, 0, 1, 0, 0, 1, 0, 1, 0, 0,\n       1, 0, 0, 1, 1, 0, 1, 0, 1, 0, 1, 0, 0, 0, 0, 1, 1, 1, 0, 0, 1, 0,\n       1, 0, 0, 0, 0, 0, 0, 0, 0, 0, 1, 0, 1, 0, 0, 0, 0, 0, 0, 1, 1, 0,\n       1, 0, 0, 1, 0, 1, 1, 1, 0, 1, 0, 0, 0, 1, 1, 1, 1, 0, 1, 1, 0, 0,\n       1, 0, 0, 1, 1, 0, 0, 1, 1, 0, 1, 0, 0, 1, 1, 0, 0, 0, 0, 1, 1, 0,\n       0, 1, 1, 0, 1, 1, 0, 0, 0, 1, 0, 0, 0, 1, 1, 1, 1, 0, 1, 1, 0, 1,\n       1, 0, 0, 0, 1, 1, 0, 1, 1, 0, 0, 0, 0, 0, 0, 1, 0, 0, 0, 0, 0, 0,\n       1, 1, 1, 1, 1, 1, 1, 0, 1, 0, 1, 1, 0, 1, 0, 0, 1, 0, 0, 0, 1, 1,\n       1, 0, 0, 1, 0, 1, 1, 1, 0, 1, 0, 1, 1, 1, 1, 1, 0, 0, 0, 1, 0, 0,\n       1, 0, 1, 0, 0, 1, 0, 1, 0, 1, 0, 0, 1, 0, 1, 1, 0, 1, 0, 1, 1, 1,\n       0, 1, 0, 0, 0, 0, 1, 0, 0, 0, 0, 1, 0, 0, 1, 1, 1, 1, 0, 0, 0, 0,\n       1, 0, 1, 0, 1, 1, 0, 1, 0, 1, 0, 0, 1, 0, 0, 1, 0, 0, 0, 0, 0, 1,\n       1, 0, 0, 0, 0, 0, 0, 0, 1, 1, 1, 1, 1, 1, 1, 0, 0, 0, 1, 0, 0, 1,\n       0, 1, 0, 1, 1, 0, 1, 0, 0, 1, 1, 0, 1, 0, 1, 0, 1, 1, 1, 0, 1, 0,\n       0, 0, 0, 0, 0, 0, 0, 0, 0, 1, 1, 1, 0, 1, 0, 0, 1, 0, 1, 1, 0, 0,\n       1, 1, 1, 1, 0, 0, 1, 1, 0, 0, 0, 1, 1, 1, 0, 1, 0, 1, 0, 1, 1, 1,\n       0, 1, 0, 0, 1, 1, 0, 1, 1, 1, 1, 0, 1, 1, 0, 1, 1, 1, 1, 0, 0, 0,\n       0, 1, 0, 1, 1, 1, 1, 0, 1, 0, 0, 1, 0, 0, 1, 0, 0, 1, 1, 0, 1, 0,\n       0, 0, 1, 1, 1, 0, 1, 0, 1, 1, 0, 0, 1, 0, 1, 1, 0, 0, 1, 0, 0, 0,\n       1, 0, 1, 0, 1, 1, 1, 1, 0, 0, 1, 0, 1, 1, 1, 0, 0, 0, 1, 1, 0, 0,\n       0, 0, 1, 0, 1, 1, 0, 0, 0, 0, 0, 0, 0, 0, 0, 1, 1, 0, 0, 0, 0, 1,\n       0, 0, 1, 0, 1, 1, 0, 0, 1, 1, 1, 1, 1, 0, 1, 0, 0, 1, 0, 0, 0, 0,\n       0, 1, 0, 0, 1, 1, 1, 0, 0, 0, 0, 0, 1, 1, 0, 1, 0, 0, 0, 0, 0, 0,\n       0, 0, 0, 1, 0, 0, 1, 1, 0, 0, 0, 1, 0, 0, 1, 1, 1, 0, 1, 0, 0, 0,\n       0, 1, 1, 0, 0, 0, 1, 1, 0, 0])"
     },
     "execution_count": 198,
     "metadata": {},
     "output_type": "execute_result"
    }
   ],
   "source": [
    "model_output = reg.predict(x_train)\n",
    "model_output"
   ],
   "metadata": {
    "collapsed": false,
    "pycharm": {
     "name": "#%%\n"
    }
   }
  },
  {
   "cell_type": "code",
   "execution_count": 199,
   "outputs": [
    {
     "data": {
      "text/plain": "0.7821428571428571"
     },
     "execution_count": 199,
     "metadata": {},
     "output_type": "execute_result"
    }
   ],
   "source": [
    "true_val = np.sum(model_output == y_train)\n",
    "acc = true_val / model_output.shape[0]\n",
    "acc"
   ],
   "metadata": {
    "collapsed": false,
    "pycharm": {
     "name": "#%%\n"
    }
   }
  },
  {
   "cell_type": "markdown",
   "source": [
    "## Find the Intercept and Coefficients"
   ],
   "metadata": {
    "collapsed": false,
    "pycharm": {
     "name": "#%% md\n"
    }
   }
  },
  {
   "cell_type": "code",
   "execution_count": 200,
   "outputs": [
    {
     "data": {
      "text/plain": "array([-0.19825352])"
     },
     "execution_count": 200,
     "metadata": {},
     "output_type": "execute_result"
    }
   ],
   "source": [
    "# find intercept\n",
    "reg.intercept_"
   ],
   "metadata": {
    "collapsed": false,
    "pycharm": {
     "name": "#%%\n"
    }
   }
  },
  {
   "cell_type": "code",
   "execution_count": 201,
   "outputs": [
    {
     "data": {
      "text/plain": "array([[ 2.10842293,  0.33410377,  1.48834795,  1.34865044,  0.08599849,\n        -0.30055171,  0.70990632,  0.00509328, -0.21449324,  0.02097972,\n         0.29245484,  0.05150941,  0.45863909, -0.26910136]])"
     },
     "execution_count": 201,
     "metadata": {},
     "output_type": "execute_result"
    }
   ],
   "source": [
    "# find coefficients\n",
    "reg.coef_"
   ],
   "metadata": {
    "collapsed": false,
    "pycharm": {
     "name": "#%%\n"
    }
   }
  },
  {
   "cell_type": "markdown",
   "source": [
    "### Create a Summary Table\n",
    "\n",
    "A summary table will give us a better look at the coefficients and their respective features, and the intercept."
   ],
   "metadata": {
    "collapsed": false,
    "pycharm": {
     "name": "#%% md\n"
    }
   }
  },
  {
   "cell_type": "code",
   "execution_count": 210,
   "outputs": [],
   "source": [
    "# create a dataframe for features and coefficients\n",
    "summary_table = pd.DataFrame(data = unscaled_inputs.columns.values, columns = ['Feature Names'])"
   ],
   "metadata": {
    "collapsed": false,
    "pycharm": {
     "name": "#%%\n"
    }
   }
  },
  {
   "cell_type": "code",
   "execution_count": 211,
   "outputs": [],
   "source": [
    "# add the coeff\n",
    "# transpose the coeff as it has multiple columns\n",
    "summary_table['Coefficients'] = np.transpose(reg.coef_)"
   ],
   "metadata": {
    "collapsed": false,
    "pycharm": {
     "name": "#%%\n"
    }
   }
  },
  {
   "cell_type": "code",
   "execution_count": 212,
   "outputs": [
    {
     "data": {
      "text/plain": "              Feature Names  Coefficients\n0                  Reason 1      2.108423\n1                  Reason 2      0.334104\n2                  Reason 3      1.488348\n3                  Reason 4      1.348650\n4               Month Value      0.085998\n5           Day of the Week     -0.300552\n6    Transportation Expense      0.709906\n7          Distance to Work      0.005093\n8                       Age     -0.214493\n9   Daily Work Load Average      0.020980\n10          Body Mass Index      0.292455\n11                Education      0.051509\n12                 Children      0.458639\n13                     Pets     -0.269101",
      "text/html": "<div>\n<style scoped>\n    .dataframe tbody tr th:only-of-type {\n        vertical-align: middle;\n    }\n\n    .dataframe tbody tr th {\n        vertical-align: top;\n    }\n\n    .dataframe thead th {\n        text-align: right;\n    }\n</style>\n<table border=\"1\" class=\"dataframe\">\n  <thead>\n    <tr style=\"text-align: right;\">\n      <th></th>\n      <th>Feature Names</th>\n      <th>Coefficients</th>\n    </tr>\n  </thead>\n  <tbody>\n    <tr>\n      <th>0</th>\n      <td>Reason 1</td>\n      <td>2.108423</td>\n    </tr>\n    <tr>\n      <th>1</th>\n      <td>Reason 2</td>\n      <td>0.334104</td>\n    </tr>\n    <tr>\n      <th>2</th>\n      <td>Reason 3</td>\n      <td>1.488348</td>\n    </tr>\n    <tr>\n      <th>3</th>\n      <td>Reason 4</td>\n      <td>1.348650</td>\n    </tr>\n    <tr>\n      <th>4</th>\n      <td>Month Value</td>\n      <td>0.085998</td>\n    </tr>\n    <tr>\n      <th>5</th>\n      <td>Day of the Week</td>\n      <td>-0.300552</td>\n    </tr>\n    <tr>\n      <th>6</th>\n      <td>Transportation Expense</td>\n      <td>0.709906</td>\n    </tr>\n    <tr>\n      <th>7</th>\n      <td>Distance to Work</td>\n      <td>0.005093</td>\n    </tr>\n    <tr>\n      <th>8</th>\n      <td>Age</td>\n      <td>-0.214493</td>\n    </tr>\n    <tr>\n      <th>9</th>\n      <td>Daily Work Load Average</td>\n      <td>0.020980</td>\n    </tr>\n    <tr>\n      <th>10</th>\n      <td>Body Mass Index</td>\n      <td>0.292455</td>\n    </tr>\n    <tr>\n      <th>11</th>\n      <td>Education</td>\n      <td>0.051509</td>\n    </tr>\n    <tr>\n      <th>12</th>\n      <td>Children</td>\n      <td>0.458639</td>\n    </tr>\n    <tr>\n      <th>13</th>\n      <td>Pets</td>\n      <td>-0.269101</td>\n    </tr>\n  </tbody>\n</table>\n</div>"
     },
     "execution_count": 212,
     "metadata": {},
     "output_type": "execute_result"
    }
   ],
   "source": [
    "summary_table"
   ],
   "metadata": {
    "collapsed": false,
    "pycharm": {
     "name": "#%%\n"
    }
   }
  },
  {
   "cell_type": "code",
   "execution_count": 213,
   "outputs": [],
   "source": [
    "# add the intercept\n",
    "# shift all rows 1 down and add at the beginning\n",
    "summary_table.index = summary_table.index + 1\n",
    "\n",
    "summary_table.loc[0] = ['Intercept', reg.intercept_[0]]"
   ],
   "metadata": {
    "collapsed": false,
    "pycharm": {
     "name": "#%%\n"
    }
   }
  },
  {
   "cell_type": "code",
   "execution_count": 214,
   "outputs": [
    {
     "data": {
      "text/plain": "              Feature Names  Coefficients\n0                 Intercept     -0.198254\n1                  Reason 1      2.108423\n2                  Reason 2      0.334104\n3                  Reason 3      1.488348\n4                  Reason 4      1.348650\n5               Month Value      0.085998\n6           Day of the Week     -0.300552\n7    Transportation Expense      0.709906\n8          Distance to Work      0.005093\n9                       Age     -0.214493\n10  Daily Work Load Average      0.020980\n11          Body Mass Index      0.292455\n12                Education      0.051509\n13                 Children      0.458639\n14                     Pets     -0.269101",
      "text/html": "<div>\n<style scoped>\n    .dataframe tbody tr th:only-of-type {\n        vertical-align: middle;\n    }\n\n    .dataframe tbody tr th {\n        vertical-align: top;\n    }\n\n    .dataframe thead th {\n        text-align: right;\n    }\n</style>\n<table border=\"1\" class=\"dataframe\">\n  <thead>\n    <tr style=\"text-align: right;\">\n      <th></th>\n      <th>Feature Names</th>\n      <th>Coefficients</th>\n    </tr>\n  </thead>\n  <tbody>\n    <tr>\n      <th>0</th>\n      <td>Intercept</td>\n      <td>-0.198254</td>\n    </tr>\n    <tr>\n      <th>1</th>\n      <td>Reason 1</td>\n      <td>2.108423</td>\n    </tr>\n    <tr>\n      <th>2</th>\n      <td>Reason 2</td>\n      <td>0.334104</td>\n    </tr>\n    <tr>\n      <th>3</th>\n      <td>Reason 3</td>\n      <td>1.488348</td>\n    </tr>\n    <tr>\n      <th>4</th>\n      <td>Reason 4</td>\n      <td>1.348650</td>\n    </tr>\n    <tr>\n      <th>5</th>\n      <td>Month Value</td>\n      <td>0.085998</td>\n    </tr>\n    <tr>\n      <th>6</th>\n      <td>Day of the Week</td>\n      <td>-0.300552</td>\n    </tr>\n    <tr>\n      <th>7</th>\n      <td>Transportation Expense</td>\n      <td>0.709906</td>\n    </tr>\n    <tr>\n      <th>8</th>\n      <td>Distance to Work</td>\n      <td>0.005093</td>\n    </tr>\n    <tr>\n      <th>9</th>\n      <td>Age</td>\n      <td>-0.214493</td>\n    </tr>\n    <tr>\n      <th>10</th>\n      <td>Daily Work Load Average</td>\n      <td>0.020980</td>\n    </tr>\n    <tr>\n      <th>11</th>\n      <td>Body Mass Index</td>\n      <td>0.292455</td>\n    </tr>\n    <tr>\n      <th>12</th>\n      <td>Education</td>\n      <td>0.051509</td>\n    </tr>\n    <tr>\n      <th>13</th>\n      <td>Children</td>\n      <td>0.458639</td>\n    </tr>\n    <tr>\n      <th>14</th>\n      <td>Pets</td>\n      <td>-0.269101</td>\n    </tr>\n  </tbody>\n</table>\n</div>"
     },
     "execution_count": 214,
     "metadata": {},
     "output_type": "execute_result"
    }
   ],
   "source": [
    "summary_table = summary_table.sort_index()\n",
    "summary_table"
   ],
   "metadata": {
    "collapsed": false,
    "pycharm": {
     "name": "#%%\n"
    }
   }
  },
  {
   "cell_type": "markdown",
   "source": [
    "## Interpret the Results\n",
    "\n",
    "We should calculate the odds ratio to find out how much the change in each feature impact the odds of being absent."
   ],
   "metadata": {
    "collapsed": false,
    "pycharm": {
     "name": "#%% md\n"
    }
   }
  },
  {
   "cell_type": "code",
   "execution_count": 215,
   "outputs": [],
   "source": [
    "# calculate the odds ratio\n",
    "# append in the summary table\n",
    "summary_table['Odds Ratio'] = np.exp(summary_table['Coefficients'])"
   ],
   "metadata": {
    "collapsed": false,
    "pycharm": {
     "name": "#%%\n"
    }
   }
  },
  {
   "cell_type": "code",
   "execution_count": 216,
   "outputs": [
    {
     "data": {
      "text/plain": "              Feature Names  Coefficients  Odds Ratio\n0                 Intercept     -0.198254    0.820162\n1                  Reason 1      2.108423    8.235243\n2                  Reason 2      0.334104    1.396688\n3                  Reason 3      1.488348    4.429771\n4                  Reason 4      1.348650    3.852223\n5               Month Value      0.085998    1.089805\n6           Day of the Week     -0.300552    0.740410\n7    Transportation Expense      0.709906    2.033801\n8          Distance to Work      0.005093    1.005106\n9                       Age     -0.214493    0.806950\n10  Daily Work Load Average      0.020980    1.021201\n11          Body Mass Index      0.292455    1.339712\n12                Education      0.051509    1.052859\n13                 Children      0.458639    1.581920\n14                     Pets     -0.269101    0.764066",
      "text/html": "<div>\n<style scoped>\n    .dataframe tbody tr th:only-of-type {\n        vertical-align: middle;\n    }\n\n    .dataframe tbody tr th {\n        vertical-align: top;\n    }\n\n    .dataframe thead th {\n        text-align: right;\n    }\n</style>\n<table border=\"1\" class=\"dataframe\">\n  <thead>\n    <tr style=\"text-align: right;\">\n      <th></th>\n      <th>Feature Names</th>\n      <th>Coefficients</th>\n      <th>Odds Ratio</th>\n    </tr>\n  </thead>\n  <tbody>\n    <tr>\n      <th>0</th>\n      <td>Intercept</td>\n      <td>-0.198254</td>\n      <td>0.820162</td>\n    </tr>\n    <tr>\n      <th>1</th>\n      <td>Reason 1</td>\n      <td>2.108423</td>\n      <td>8.235243</td>\n    </tr>\n    <tr>\n      <th>2</th>\n      <td>Reason 2</td>\n      <td>0.334104</td>\n      <td>1.396688</td>\n    </tr>\n    <tr>\n      <th>3</th>\n      <td>Reason 3</td>\n      <td>1.488348</td>\n      <td>4.429771</td>\n    </tr>\n    <tr>\n      <th>4</th>\n      <td>Reason 4</td>\n      <td>1.348650</td>\n      <td>3.852223</td>\n    </tr>\n    <tr>\n      <th>5</th>\n      <td>Month Value</td>\n      <td>0.085998</td>\n      <td>1.089805</td>\n    </tr>\n    <tr>\n      <th>6</th>\n      <td>Day of the Week</td>\n      <td>-0.300552</td>\n      <td>0.740410</td>\n    </tr>\n    <tr>\n      <th>7</th>\n      <td>Transportation Expense</td>\n      <td>0.709906</td>\n      <td>2.033801</td>\n    </tr>\n    <tr>\n      <th>8</th>\n      <td>Distance to Work</td>\n      <td>0.005093</td>\n      <td>1.005106</td>\n    </tr>\n    <tr>\n      <th>9</th>\n      <td>Age</td>\n      <td>-0.214493</td>\n      <td>0.806950</td>\n    </tr>\n    <tr>\n      <th>10</th>\n      <td>Daily Work Load Average</td>\n      <td>0.020980</td>\n      <td>1.021201</td>\n    </tr>\n    <tr>\n      <th>11</th>\n      <td>Body Mass Index</td>\n      <td>0.292455</td>\n      <td>1.339712</td>\n    </tr>\n    <tr>\n      <th>12</th>\n      <td>Education</td>\n      <td>0.051509</td>\n      <td>1.052859</td>\n    </tr>\n    <tr>\n      <th>13</th>\n      <td>Children</td>\n      <td>0.458639</td>\n      <td>1.581920</td>\n    </tr>\n    <tr>\n      <th>14</th>\n      <td>Pets</td>\n      <td>-0.269101</td>\n      <td>0.764066</td>\n    </tr>\n  </tbody>\n</table>\n</div>"
     },
     "execution_count": 216,
     "metadata": {},
     "output_type": "execute_result"
    }
   ],
   "source": [
    "summary_table"
   ],
   "metadata": {
    "collapsed": false,
    "pycharm": {
     "name": "#%%\n"
    }
   }
  },
  {
   "cell_type": "code",
   "execution_count": 217,
   "outputs": [
    {
     "data": {
      "text/plain": "              Feature Names  Coefficients  Odds Ratio\n1                  Reason 1      2.108423    8.235243\n3                  Reason 3      1.488348    4.429771\n4                  Reason 4      1.348650    3.852223\n7    Transportation Expense      0.709906    2.033801\n13                 Children      0.458639    1.581920\n2                  Reason 2      0.334104    1.396688\n11          Body Mass Index      0.292455    1.339712\n5               Month Value      0.085998    1.089805\n12                Education      0.051509    1.052859\n10  Daily Work Load Average      0.020980    1.021201\n8          Distance to Work      0.005093    1.005106\n0                 Intercept     -0.198254    0.820162\n9                       Age     -0.214493    0.806950\n14                     Pets     -0.269101    0.764066\n6           Day of the Week     -0.300552    0.740410",
      "text/html": "<div>\n<style scoped>\n    .dataframe tbody tr th:only-of-type {\n        vertical-align: middle;\n    }\n\n    .dataframe tbody tr th {\n        vertical-align: top;\n    }\n\n    .dataframe thead th {\n        text-align: right;\n    }\n</style>\n<table border=\"1\" class=\"dataframe\">\n  <thead>\n    <tr style=\"text-align: right;\">\n      <th></th>\n      <th>Feature Names</th>\n      <th>Coefficients</th>\n      <th>Odds Ratio</th>\n    </tr>\n  </thead>\n  <tbody>\n    <tr>\n      <th>1</th>\n      <td>Reason 1</td>\n      <td>2.108423</td>\n      <td>8.235243</td>\n    </tr>\n    <tr>\n      <th>3</th>\n      <td>Reason 3</td>\n      <td>1.488348</td>\n      <td>4.429771</td>\n    </tr>\n    <tr>\n      <th>4</th>\n      <td>Reason 4</td>\n      <td>1.348650</td>\n      <td>3.852223</td>\n    </tr>\n    <tr>\n      <th>7</th>\n      <td>Transportation Expense</td>\n      <td>0.709906</td>\n      <td>2.033801</td>\n    </tr>\n    <tr>\n      <th>13</th>\n      <td>Children</td>\n      <td>0.458639</td>\n      <td>1.581920</td>\n    </tr>\n    <tr>\n      <th>2</th>\n      <td>Reason 2</td>\n      <td>0.334104</td>\n      <td>1.396688</td>\n    </tr>\n    <tr>\n      <th>11</th>\n      <td>Body Mass Index</td>\n      <td>0.292455</td>\n      <td>1.339712</td>\n    </tr>\n    <tr>\n      <th>5</th>\n      <td>Month Value</td>\n      <td>0.085998</td>\n      <td>1.089805</td>\n    </tr>\n    <tr>\n      <th>12</th>\n      <td>Education</td>\n      <td>0.051509</td>\n      <td>1.052859</td>\n    </tr>\n    <tr>\n      <th>10</th>\n      <td>Daily Work Load Average</td>\n      <td>0.020980</td>\n      <td>1.021201</td>\n    </tr>\n    <tr>\n      <th>8</th>\n      <td>Distance to Work</td>\n      <td>0.005093</td>\n      <td>1.005106</td>\n    </tr>\n    <tr>\n      <th>0</th>\n      <td>Intercept</td>\n      <td>-0.198254</td>\n      <td>0.820162</td>\n    </tr>\n    <tr>\n      <th>9</th>\n      <td>Age</td>\n      <td>-0.214493</td>\n      <td>0.806950</td>\n    </tr>\n    <tr>\n      <th>14</th>\n      <td>Pets</td>\n      <td>-0.269101</td>\n      <td>0.764066</td>\n    </tr>\n    <tr>\n      <th>6</th>\n      <td>Day of the Week</td>\n      <td>-0.300552</td>\n      <td>0.740410</td>\n    </tr>\n  </tbody>\n</table>\n</div>"
     },
     "execution_count": 217,
     "metadata": {},
     "output_type": "execute_result"
    }
   ],
   "source": [
    "# sort by highest odds ratio first\n",
    "summary_table.sort_values(by=['Odds Ratio'], ascending=False)"
   ],
   "metadata": {
    "collapsed": false,
    "pycharm": {
     "name": "#%%\n"
    }
   }
  },
  {
   "cell_type": "markdown",
   "source": [
    "A feature is not particularly important if its:\n",
    "- coefficient is around 0\n",
    "- odds ratio is around 1\n",
    "\n",
    "A weight of 0 implies that no matter the feature value, we will multiply by it by 0 in the model.\n",
    "\n",
    "For a unit change in the standardized feature, the odds increase by a multiple equal to the odds ratio. Hence, 1 implies no change.\n",
    "\n",
    "I have assumed at least a 5% change in odds to be significant.\n",
    "\n",
    "From the above table, it seems that the `Daily Work Load Average` and `Distance to Work` make no difference, given all features."
   ],
   "metadata": {
    "collapsed": false,
    "pycharm": {
     "name": "#%% md\n"
    }
   }
  },
  {
   "cell_type": "code",
   "execution_count": 209,
   "outputs": [],
   "source": [],
   "metadata": {
    "collapsed": false,
    "pycharm": {
     "name": "#%%\n"
    }
   }
  }
 ],
 "metadata": {
  "kernelspec": {
   "display_name": "Python 3",
   "language": "python",
   "name": "python3"
  },
  "language_info": {
   "codemirror_mode": {
    "name": "ipython",
    "version": 2
   },
   "file_extension": ".py",
   "mimetype": "text/x-python",
   "name": "python",
   "nbconvert_exporter": "python",
   "pygments_lexer": "ipython2",
   "version": "2.7.6"
  }
 },
 "nbformat": 4,
 "nbformat_minor": 0
}