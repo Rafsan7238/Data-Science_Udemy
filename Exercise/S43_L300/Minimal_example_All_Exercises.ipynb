{
 "cells": [
  {
   "cell_type": "markdown",
   "metadata": {
    "pycharm": {
     "name": "#%% md\n"
    }
   },
   "source": [
    "# Simple Linear Regression. Minimal example"
   ]
  },
  {
   "cell_type": "markdown",
   "metadata": {
    "pycharm": {
     "name": "#%% md\n"
    }
   },
   "source": [
    "# Using the same code as before, please solve the following exercises\n",
    "    1. Change the number of observations to 100,000 and see what happens.\n",
    "    2. Change the number of observations to 1,000,000 and see what happens.\n",
    "    3. Play around with the learning rate. Values like 0.0001, 0.001, 0.1, 1 are all interesting to observe. \n",
    "    4. Change the loss function. L2-norm loss (without dividing by 2) is a good way to start. \n",
    "    5. Тry with the L1-norm loss, given by the sum of the ABSOLUTE value of yj - tj. The L1-norm loss is given by:\n",
    "## $$ \\Sigma_i = |y_i-t_i| $$\n",
    "    6. Create a function f(x,z) = 13*xs + 7*zs - 12. Does the algorithm work in the same way?\n",
    "    \n",
    "    \n",
    "Useful tip: When you change something, don't forget to RERUN all cells. This can be done easily by clicking:\n",
    "Kernel -> Restart & Run All\n",
    "If you don't do that, your algorithm will keep the OLD values of all parameters.\n",
    "\n",
    "You can either use this file for all the exercises, or check the solutions of EACH ONE of them in the separate files we have provided. All other files are solutions of each problem. If you feel confident enough, you can simply change values in this file. Please note that it will be nice, if you return the file to starting position after you have solved a problem, so you can use the lecture as a basis for comparison."
   ]
  },
  {
   "cell_type": "markdown",
   "metadata": {
    "pycharm": {
     "name": "#%% md\n"
    }
   },
   "source": [
    "### Import the relevant libraries"
   ]
  },
  {
   "cell_type": "code",
   "execution_count": 164,
   "metadata": {
    "collapsed": false,
    "pycharm": {
     "name": "#%%\n"
    }
   },
   "outputs": [],
   "source": [
    "# We must always import the relevant libraries for our problem at hand. NumPy is a must for this example.\n",
    "import numpy as np\n",
    "\n",
    "# matplotlib and mpl_toolkits are not necessary. We employ them for the sole purpose of visualizing the results.  \n",
    "import matplotlib.pyplot as plt\n",
    "from mpl_toolkits.mplot3d import Axes3D\n",
    "plt.rcParams['agg.path.chunksize'] = 10000"
   ]
  },
  {
   "cell_type": "markdown",
   "metadata": {
    "pycharm": {
     "name": "#%% md\n"
    }
   },
   "source": [
    "### Generate random input data to train on"
   ]
  },
  {
   "cell_type": "code",
   "execution_count": 165,
   "metadata": {
    "collapsed": false,
    "scrolled": false,
    "pycharm": {
     "name": "#%%\n"
    }
   },
   "outputs": [
    {
     "name": "stdout",
     "output_type": "stream",
     "text": [
      "(1000, 2)\n"
     ]
    }
   ],
   "source": [
    "# First, we should declare a variable containing the size of the training set we want to generate.\n",
    "observations = 1000\n",
    "\n",
    "# We will work with two variables as inputs. You can think about them as x1 and x2 in our previous examples.\n",
    "# We have picked x and z, since it is easier to differentiate them.\n",
    "# We generate them randomly, drawing from an uniform distribution. There are 3 arguments of this method (low, high, size).\n",
    "# The size of xs and zs is observations by 1. In this case: 1000 x 1.\n",
    "xs = np.random.uniform(low=-10, high=10, size=(observations,1))\n",
    "zs = np.random.uniform(-10, 10, (observations,1))\n",
    "\n",
    "# Combine the two dimensions of the input into one input matrix. \n",
    "# This is the X matrix from the linear model y = x*w + b.\n",
    "# column_stack is a Numpy method, which combines two vectors into a matrix. Alternatives are stack, dstack, hstack, etc.\n",
    "inputs = np.column_stack((xs,zs))\n",
    "\n",
    "# Check if the dimensions of the inputs are the same as the ones we defined in the linear model lectures. \n",
    "# They should be n x k, where n is the number of observations, and k is the number of variables, so 1000 x 2.\n",
    "print (inputs.shape)"
   ]
  },
  {
   "cell_type": "markdown",
   "metadata": {
    "pycharm": {
     "name": "#%% md\n"
    }
   },
   "source": [
    "### Generate the targets we will aim at"
   ]
  },
  {
   "cell_type": "code",
   "execution_count": 166,
   "metadata": {
    "collapsed": false,
    "pycharm": {
     "name": "#%%\n"
    }
   },
   "outputs": [
    {
     "name": "stdout",
     "output_type": "stream",
     "text": [
      "(1000, 1)\n"
     ]
    }
   ],
   "source": [
    "# We want to \"make up\" a function, use the ML methodology, and see if the algorithm has learned it.\n",
    "# We add a small random noise to the function i.e. f(x,z) = 2x - 3z + 5 + <small noise>\n",
    "noise = np.random.uniform(-1, 1, (observations,1))\n",
    "\n",
    "# Produce the targets according to the f(x,z) = 2x - 3z + 5 + noise definition.\n",
    "# In this way, we are basically saying: the weights should be 2 and -3, while the bias is 5.\n",
    "targets = 13*xs + 7*zs - 12 + noise\n",
    "\n",
    "# Check the shape of the targets just in case. It should be n x m, where m is the number of output variables, so 1000 x 1.\n",
    "print (targets.shape)"
   ]
  },
  {
   "cell_type": "markdown",
   "metadata": {
    "pycharm": {
     "name": "#%% md\n"
    }
   },
   "source": [
    "### Initialize variables"
   ]
  },
  {
   "cell_type": "code",
   "execution_count": 167,
   "metadata": {
    "collapsed": false,
    "pycharm": {
     "name": "#%%\n"
    }
   },
   "outputs": [
    {
     "name": "stdout",
     "output_type": "stream",
     "text": [
      "[[-0.0380779 ]\n",
      " [ 0.03262281]]\n",
      "[0.09756169]\n"
     ]
    }
   ],
   "source": [
    "# We will initialize the weights and biases randomly in some small initial range.\n",
    "# init_range is the variable that will measure that.\n",
    "# You can play around with the initial range, but we don't really encourage you to do so.\n",
    "# High initial ranges may prevent the machine learning algorithm from learning.\n",
    "init_range = 0.1\n",
    "\n",
    "# Weights are of size k x m, where k is the number of input variables and m is the number of output variables\n",
    "# In our case, the weights matrix is 2x1 since there are 2 inputs (x and z) and one output (y)\n",
    "weights = np.random.uniform(low=-init_range, high=init_range, size=(2, 1))\n",
    "\n",
    "# Biases are of size 1 since there is only 1 output. The bias is a scalar.\n",
    "biases = np.random.uniform(low=-init_range, high=init_range, size=1)\n",
    "\n",
    "#Print the weights to get a sense of how they were initialized.\n",
    "print (weights)\n",
    "print (biases)"
   ]
  },
  {
   "cell_type": "markdown",
   "metadata": {
    "pycharm": {
     "name": "#%% md\n"
    }
   },
   "source": [
    "### Set a learning rate"
   ]
  },
  {
   "cell_type": "code",
   "execution_count": 168,
   "metadata": {
    "collapsed": false,
    "pycharm": {
     "name": "#%%\n"
    }
   },
   "outputs": [],
   "source": [
    "# Set some small learning rate (denoted eta in the lecture). \n",
    "# 0.02 is going to work quite well for our example. Once again, you can play around with it.\n",
    "# It is HIGHLY recommended that you play around with it.\n",
    "learning_rate = 0.02"
   ]
  },
  {
   "cell_type": "markdown",
   "metadata": {
    "pycharm": {
     "name": "#%% md\n"
    }
   },
   "source": [
    "### Train the model"
   ]
  },
  {
   "cell_type": "code",
   "execution_count": 174,
   "metadata": {
    "collapsed": false,
    "scrolled": true,
    "pycharm": {
     "name": "#%%\n"
    }
   },
   "outputs": [
    {
     "name": "stdout",
     "output_type": "stream",
     "text": [
      "1.4385905985179814\n",
      "1.3881922247802299\n",
      "1.3397873712938213\n",
      "1.293297183867674\n",
      "1.2486459274079298\n",
      "1.205760862541244\n",
      "1.1645721271183844\n",
      "1.125012622404821\n",
      "1.0870179037732424\n",
      "1.0505260757196377\n",
      "1.015477691032122\n",
      "0.9818156539480927\n",
      "0.9494851271421096\n",
      "0.9184334423928021\n",
      "0.8886100147834545\n",
      "0.8599662602963606\n",
      "0.832455516666747\n",
      "0.806032967367376\n",
      "0.7806555685999356\n",
      "0.7562819791742851\n",
      "0.7328724931613924\n",
      "0.710388975210142\n",
      "0.6887947984227647\n",
      "0.6680547846875597\n",
      "0.6481351473718314\n",
      "0.6290034362815565\n",
      "0.6106284847982391\n",
      "0.5929803591067608\n",
      "0.5760303094315282\n",
      "0.5597507232014964\n",
      "0.5441150800677609\n",
      "0.5290979087004339\n",
      "0.5146747452944431\n",
      "0.5008220937166274\n",
      "0.48751738722923743\n",
      "0.47473895172747077\n",
      "0.46246597043114557\n",
      "0.4506784499730162\n",
      "0.43935718782847116\n",
      "0.4284837410335499\n",
      "0.4180403961403333\n",
      "0.4080101403607631\n",
      "0.3983766338518468\n",
      "0.38912418309716473\n",
      "0.38023771534125733\n",
      "0.3717027540352706\n",
      "0.36350539525384806\n",
      "0.35563228504487937\n",
      "0.34807059767514953\n",
      "0.3408080147365299\n",
      "0.3338327050786039\n",
      "0.32713330553505654\n",
      "0.32069890241245175\n",
      "0.31451901371122254\n",
      "0.30858357204991266\n",
      "0.3028829082648498\n",
      "0.2974077356585433\n",
      "0.29214913487114347\n",
      "0.28709853935030005\n",
      "0.28224772139578136\n",
      "0.27758877875609356\n",
      "0.2731141217552737\n",
      "0.2688164609288776\n",
      "0.26468879514905774\n",
      "0.26072440021931736\n",
      "0.2569168179204336\n",
      "0.2532598454896558\n",
      "0.24974752551606613\n",
      "0.24637413623561605\n",
      "0.2431341822100655\n",
      "0.24002238537460385\n",
      "0.23703367643959553\n",
      "0.23416318663241367\n",
      "0.23140623976595828\n",
      "0.22875834462086733\n",
      "0.22621518762908793\n",
      "0.2237726258468236\n",
      "0.22142668020545908\n",
      "0.21917352902942536\n",
      "0.2170095018104881\n",
      "0.21493107322828237\n",
      "0.21293485740736762\n",
      "0.2110176024014542\n",
      "0.20917618489579695\n",
      "0.20740760511914597\n",
      "0.20570898195695397\n",
      "0.20407754825787275\n",
      "0.20251064632592516\n",
      "0.20100572359095215\n",
      "0.19956032845035224\n",
      "0.19817210627527243\n",
      "0.19683879557479236\n",
      "0.19555822431182895\n",
      "0.19432830636477144\n",
      "0.19314703812906436\n",
      "0.19201249525323635\n",
      "0.19092282950401213\n",
      "0.18987626575545272\n",
      "0.18887109909716338\n",
      "0.18790569205690555\n",
      "0.18697847193306608\n",
      "0.1860879282326354\n",
      "0.18523261021053258\n",
      "0.1844111245062585\n",
      "0.18362213287404042\n",
      "0.18286435000274523\n",
      "0.18213654142204758\n",
      "0.1814375214914014\n",
      "0.18076615146857014\n",
      "0.18012133765454905\n",
      "0.1795020296118695\n",
      "0.1789072184533818\n",
      "0.17833593519871807\n",
      "0.17778724919576921\n",
      "0.17726026660460667\n",
      "0.1767541289413583\n",
      "0.17626801167969786\n",
      "0.17580112290764524\n",
      "0.17535270203749412\n",
      "0.17492201856677675\n",
      "0.1745083708882308\n",
      "0.17411108514684595\n",
      "0.17372951414211368\n",
      "0.17336303627370409\n",
      "0.17301105452884283\n",
      "0.1726729955097453\n",
      "0.1723483084995189\n",
      "0.1720364645650153\n",
      "0.17173695569516986\n",
      "0.17144929397342037\n",
      "0.17117301078286767\n",
      "0.17090765604287042\n",
      "0.17065279747584003\n",
      "0.17040801990303409\n",
      "0.17017292456821104\n",
      "0.16994712848802992\n",
      "0.16973026382815398\n",
      "0.16952197730402346\n",
      "0.1693219296053375\n",
      "0.1691297948432997\n",
      "0.1689452600197264\n",
      "0.16876802451715486\n",
      "0.1685977996091211\n",
      "0.16843430798980785\n",
      "0.16827728332230044\n",
      "0.1681264698047048\n",
      "0.1679816217534375\n",
      "0.16784250320298827\n",
      "0.16770888752152266\n",
      "0.16758055704168415\n",
      "0.16745730270600354\n",
      "0.16733892372633247\n",
      "0.16722522725674605\n",
      "0.16711602807939027\n",
      "0.1670111483027478\n",
      "0.16691041707184587\n",
      "0.16681367028992236\n",
      "0.16672075035110293\n",
      "0.16663150588365408\n",
      "0.16654579150338852\n",
      "0.16646346757682642\n",
      "0.16638439999372528\n",
      "0.16630845994860674\n",
      "0.16623552373092604\n",
      "0.16616547252353853\n",
      "0.16609819220914204\n",
      "0.1660335731843729\n",
      "0.165971510181256\n",
      "0.1659119020957164\n",
      "0.1658546518228774\n",
      "0.1657996660988682\n",
      "0.16574685534889574\n",
      "0.1656961335413186\n",
      "0.16564741804749877\n",
      "0.1656006295071952\n",
      "0.16555569169928067\n",
      "0.16551253141757344\n",
      "0.16547107835158076\n",
      "0.1654312649719594\n",
      "0.16539302642050474\n",
      "0.16535630040449675\n",
      "0.16532102709521806\n",
      "0.1652871490304906\n",
      "0.1652546110210685\n",
      "0.16522336006073035\n",
      "0.16519334523992715\n",
      "0.16516451766285195\n",
      "0.16513683036778284\n",
      "0.16511023825057985\n",
      "0.16508469799120998\n",
      "0.1650601679831733\n",
      "0.16503660826572683\n",
      "0.16501398045878393\n",
      "0.16499224770039178\n",
      "0.16497137458668157\n",
      "0.16495132711419405\n",
      "0.16493207262448362\n",
      "0.16491357975091922\n",
      "0.16489581836758443\n",
      "0.16487875954019984\n"
     ]
    }
   ],
   "source": [
    "# We iterate over our training dataset 100 times. That works well with a learning rate of 0.02.\n",
    "# The proper number of iterations is something we will talk about later on, but generally\n",
    "# a lower learning rate would need more iterations, while a higher learning rate would need less iterations\n",
    "# keep in mind that a high learning rate may cause the loss to diverge to infinity, instead of converge to 0.\n",
    "for i in range (200):\n",
    "    \n",
    "    # This is the linear model: y = xw + b equation\n",
    "    outputs = np.dot(inputs,weights) + biases\n",
    "    # The deltas are the differences between the outputs and the targets\n",
    "    # Note that deltas here is a vector 1000 x 1\n",
    "    deltas = outputs - targets\n",
    "        \n",
    "    # We are considering the L2-norm loss, but divided by 2, so it is consistent with the lectures.\n",
    "    # Moreover, we further divide it by the number of observations.\n",
    "    # This is simple rescaling by a constant. We explained that this doesn't change the optimization logic,\n",
    "    # as any function holding the basic property of being lower for better results, and higher for worse results\n",
    "    # can be a loss function.\n",
    "    loss = np.sum(deltas ** 2) / 2 / observations\n",
    "    \n",
    "    # We print the loss function value at each step so we can observe whether it is decreasing as desired.\n",
    "    print (loss)\n",
    "    \n",
    "    # Another small trick is to scale the deltas the same way as the loss function\n",
    "    # In this way our learning rate is independent of the number of samples (observations).\n",
    "    # Again, this doesn't change anything in principle, it simply makes it easier to pick a single learning rate\n",
    "    # that can remain the same if we change the number of training samples (observations).\n",
    "    # You can try solving the problem without rescaling to see how that works for you.\n",
    "    deltas_scaled = deltas / observations\n",
    "    \n",
    "    # Finally, we must apply the gradient descent update rules from the relevant lecture.\n",
    "    # The weights are 2x1, learning rate is 1x1 (scalar), inputs are 1000x2, and deltas_scaled are 1000x1\n",
    "    # We must transpose the inputs so that we get an allowed operation.\n",
    "    weights = weights - learning_rate * np.dot(inputs.T,deltas_scaled)\n",
    "    biases = biases - learning_rate * np.sum(deltas_scaled)\n",
    "    \n",
    "    # The weights are updated in a linear algebraic way (a matrix minus another matrix)\n",
    "    # The biases, however, are just a single number here, so we must transform the deltas into a scalar.\n",
    "    # The two lines are both consistent with the gradient descent methodology. "
   ]
  },
  {
   "cell_type": "markdown",
   "metadata": {
    "pycharm": {
     "name": "#%% md\n"
    }
   },
   "source": [
    "### Print weights and biases and see if we have worked correctly."
   ]
  },
  {
   "cell_type": "code",
   "execution_count": 175,
   "metadata": {
    "collapsed": false,
    "pycharm": {
     "name": "#%%\n"
    }
   },
   "outputs": [
    {
     "name": "stdout",
     "output_type": "stream",
     "text": [
      "[[13.00130545]\n",
      " [ 6.99997058]] [-11.97187126]\n"
     ]
    }
   ],
   "source": [
    "# We print the weights and the biases, so we can see if they have converged to what we wanted.\n",
    "# When declared the targets, following the f(x,z), we knew the weights should be 2 and -3, while the bias: 5.\n",
    "print (weights, biases)\n",
    "\n",
    "# Note that they may be convergING. So more iterations are needed."
   ]
  },
  {
   "cell_type": "markdown",
   "metadata": {
    "pycharm": {
     "name": "#%% md\n"
    }
   },
   "source": [
    "### Plot last outputs vs targets\n",
    "Since they are the last ones at the end of the training, they represent the final model accuracy. <br/>\n",
    "The closer this plot is to a 45 degree line, the closer target and output values are."
   ]
  },
  {
   "cell_type": "code",
   "execution_count": 176,
   "metadata": {
    "collapsed": false,
    "pycharm": {
     "name": "#%%\n"
    }
   },
   "outputs": [
    {
     "data": {
      "text/plain": "<Figure size 640x480 with 1 Axes>",
      "image/png": "[encoded data removed]"
     },
     "metadata": {},
     "output_type": "display_data"
    }
   ],
   "source": [
    "# We print the outputs and the targets in order to see if they have a linear relationship.\n",
    "# Again, that's not needed. Moreover, in later lectures, that would not even be possible.\n",
    "plt.plot(outputs,targets)\n",
    "plt.xlabel('outputs')\n",
    "plt.ylabel('targets')\n",
    "plt.show()"
   ]
  },
  {
   "cell_type": "code",
   "execution_count": 177,
   "outputs": [
    {
     "data": {
      "text/plain": "0.09"
     },
     "execution_count": 177,
     "metadata": {},
     "output_type": "execute_result"
    }
   ],
   "source": [
    "# Calculate the absolute errors and assign a score of 1 when the error is less than 0.1\n",
    "errors = abs(outputs - targets)\n",
    "output_matches = np.where(errors < 0.1, 1, 0)\n",
    "\n",
    "# Find the accuracy of the model\n",
    "acc = output_matches.sum() / observations\n",
    "acc"
   ],
   "metadata": {
    "collapsed": false,
    "pycharm": {
     "name": "#%%\n"
    }
   }
  },
  {
   "cell_type": "code",
   "execution_count": 178,
   "outputs": [
    {
     "data": {
      "text/plain": "0.49558753917723836"
     },
     "execution_count": 178,
     "metadata": {},
     "output_type": "execute_result"
    }
   ],
   "source": [
    "# Find average error\n",
    "errors.sum() / observations"
   ],
   "metadata": {
    "collapsed": false,
    "pycharm": {
     "name": "#%%\n"
    }
   }
  },
  {
   "cell_type": "markdown",
   "source": [
    "## Exercise and Results"
   ],
   "metadata": {
    "collapsed": false,
    "pycharm": {
     "name": "#%% md\n"
    }
   }
  },
  {
   "cell_type": "markdown",
   "source": [
    "<table>\n",
    "<tr>\n",
    "<th>Exercise</th>\n",
    "<th>Weights</th>\n",
    "<th>Bias</th>\n",
    "<th>Acc</th>\n",
    "<th>Avg. Error</th>\n",
    "</tr>\n",
    "\n",
    "<tr>\n",
    "<td>1</td>\n",
    "<td>1.99938766, -3.00011725</td>\n",
    "<td>4.33160833</td>\n",
    "<td>0.09937</td>\n",
    "<td>0.7335</td>\n",
    "</tr>\n",
    "\n",
    "<tr>\n",
    "<td>2</td>\n",
    "<td>1.99994126, -3.00034976</td>\n",
    "<td>4.34246515</td>\n",
    "<td>0.100167</td>\n",
    "<td>0.7245</td>\n",
    "</tr>\n",
    "\n",
    "<tr>\n",
    "<td>3a</td>\n",
    "<td>0.5803481, -0.7743697</td>\n",
    "<td>-0.01585248</td>\n",
    "<td>0.003</td>\n",
    "<td>13.0410</td>\n",
    "</td>\n",
    "\n",
    "<tr>\n",
    "<td>3b</td>\n",
    "<td>1.99446558, -3.00387276</td>\n",
    "<td>3.16312495</td>\n",
    "<td>0.0</td>\n",
    "<td>1.8514</td>\n",
    "\n",
    "<tr>\n",
    "<td>3c</td>\n",
    "<td>-1.06852121e+78, 1.26246771e+78</td>\n",
    "<td>-4.66449799e+75</td>\n",
    "<td>0.0</td>\n",
    "<td>4.3361</td>\n",
    "</tr>\n",
    "\n",
    "<tr>\n",
    "<td>3d</td>\n",
    "<td>-2.03808930e+153, 2.17329933e+153</td>\n",
    "<td>-2.28135813e+151</td>\n",
    "<td>0.0</td>\n",
    "<td>4.3361</td>\n",
    "</tr>\n",
    "\n",
    "<tr>\n",
    "<td>4</td>\n",
    "<td>2.00142597, -2.99839702</td>\n",
    "<td>4.99085987</td>\n",
    "<td>0.101</td>\n",
    "<td>0.5024</td>\n",
    "</tr>\n",
    "\n",
    "<tr>\n",
    "<td>5</td>\n",
    "<td>1.99562033, -3.00370899</td>\n",
    "<td>4.89831232</td>\n",
    "<td>0.109</td>\n",
    "<td>0.4840</td>\n",
    "</tr>\n",
    "\n",
    "<tr>\n",
    "<td>6</td>\n",
    "<td>13.00130545, 6.99997058</td>\n",
    "<td>-11.97187126</td>\n",
    "<td>0.09</td>\n",
    "<td>0.4956</td>\n",
    "</tr>\n",
    "\n",
    "</table>"
   ],
   "metadata": {
    "collapsed": false,
    "pycharm": {
     "name": "#%% md\n"
    }
   }
  },
  {
   "cell_type": "code",
   "execution_count": 173,
   "outputs": [],
   "source": [],
   "metadata": {
    "collapsed": false,
    "pycharm": {
     "name": "#%%\n"
    }
   }
  }
 ],
 "metadata": {
  "anaconda-cloud": {},
  "kernelspec": {
   "display_name": "Python 3",
   "language": "python",
   "name": "python3"
  },
  "language_info": {
   "codemirror_mode": {
    "name": "ipython",
    "version": 3
   },
   "file_extension": ".py",
   "mimetype": "text/x-python",
   "name": "python",
   "nbconvert_exporter": "python",
   "pygments_lexer": "ipython3",
   "version": "3.6.2"
  }
 },
 "nbformat": 4,
 "nbformat_minor": 1
}