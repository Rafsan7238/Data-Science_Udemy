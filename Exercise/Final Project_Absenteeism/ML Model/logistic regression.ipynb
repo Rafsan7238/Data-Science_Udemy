{
 "cells": [
  {
   "cell_type": "markdown",
   "source": [
    "# Building Logistic Regression Model for Absenteeism Project\n",
    "\n",
    "Now that we have our preprocessed data, we can start building a model that can take in the predictors and predict whether a random person is likely to be absent at work.\n",
    "\n",
    "In this notebook, we will be creating a Logistic Regression (Logit) model to do the job."
   ],
   "metadata": {
    "collapsed": false,
    "pycharm": {
     "name": "#%% md\n"
    }
   }
  },
  {
   "cell_type": "markdown",
   "source": [
    "## Import the Necessary Libraries"
   ],
   "metadata": {
    "collapsed": false,
    "pycharm": {
     "name": "#%% md\n"
    }
   }
  },
  {
   "cell_type": "code",
   "execution_count": 245,
   "metadata": {
    "collapsed": true,
    "pycharm": {
     "name": "#%%\n"
    }
   },
   "outputs": [],
   "source": [
    "import pandas as pd\n",
    "import numpy as np\n",
    "\n",
    "from sklearn.preprocessing import StandardScaler\n",
    "from sklearn.model_selection import train_test_split\n",
    "from sklearn.linear_model import LogisticRegression\n",
    "from sklearn import metrics\n",
    "from sklearn.base import BaseEstimator, TransformerMixin"
   ]
  },
  {
   "cell_type": "markdown",
   "source": [
    "## Import the Data"
   ],
   "metadata": {
    "collapsed": false,
    "pycharm": {
     "name": "#%% md\n"
    }
   }
  },
  {
   "cell_type": "code",
   "execution_count": 246,
   "outputs": [
    {
     "data": {
      "text/plain": "     Reason 1  Reason 2  Reason 3  Reason 4  Month Value  Day of the Week  \\\n0           0         0         0         1            7                1   \n1           0         0         0         0            7                1   \n2           0         0         0         1            7                2   \n3           1         0         0         0            7                3   \n4           0         0         0         1            7                3   \n..        ...       ...       ...       ...          ...              ...   \n695         1         0         0         0            5                2   \n696         1         0         0         0            5                2   \n697         1         0         0         0            5                3   \n698         0         0         0         1            5                3   \n699         0         0         0         1            5                3   \n\n     Transportation Expense  Distance to Work  Age  Daily Work Load Average  \\\n0                       289                36   33                  239.554   \n1                       118                13   50                  239.554   \n2                       179                51   38                  239.554   \n3                       279                 5   39                  239.554   \n4                       289                36   33                  239.554   \n..                      ...               ...  ...                      ...   \n695                     179                22   40                  237.656   \n696                     225                26   28                  237.656   \n697                     330                16   28                  237.656   \n698                     235                16   32                  237.656   \n699                     291                31   40                  237.656   \n\n     Body Mass Index  Education  Children  Pets  Absenteeism Time in Hours  \n0                 30          0         2     1                          4  \n1                 31          0         1     0                          0  \n2                 31          0         0     0                          2  \n3                 24          0         2     0                          4  \n4                 30          0         2     1                          2  \n..               ...        ...       ...   ...                        ...  \n695               22          1         2     0                          8  \n696               24          0         1     2                          3  \n697               25          1         0     0                          8  \n698               25          1         0     0                          2  \n699               25          0         1     1                          2  \n\n[700 rows x 15 columns]",
      "text/html": "<div>\n<style scoped>\n    .dataframe tbody tr th:only-of-type {\n        vertical-align: middle;\n    }\n\n    .dataframe tbody tr th {\n        vertical-align: top;\n    }\n\n    .dataframe thead th {\n        text-align: right;\n    }\n</style>\n<table border=\"1\" class=\"dataframe\">\n  <thead>\n    <tr style=\"text-align: right;\">\n      <th></th>\n      <th>Reason 1</th>\n      <th>Reason 2</th>\n      <th>Reason 3</th>\n      <th>Reason 4</th>\n      <th>Month Value</th>\n      <th>Day of the Week</th>\n      <th>Transportation Expense</th>\n      <th>Distance to Work</th>\n      <th>Age</th>\n      <th>Daily Work Load Average</th>\n      <th>Body Mass Index</th>\n      <th>Education</th>\n      <th>Children</th>\n      <th>Pets</th>\n      <th>Absenteeism Time in Hours</th>\n    </tr>\n  </thead>\n  <tbody>\n    <tr>\n      <th>0</th>\n      <td>0</td>\n      <td>0</td>\n      <td>0</td>\n      <td>1</td>\n      <td>7</td>\n      <td>1</td>\n      <td>289</td>\n      <td>36</td>\n      <td>33</td>\n      <td>239.554</td>\n      <td>30</td>\n      <td>0</td>\n      <td>2</td>\n      <td>1</td>\n      <td>4</td>\n    </tr>\n    <tr>\n      <th>1</th>\n      <td>0</td>\n      <td>0</td>\n      <td>0</td>\n      <td>0</td>\n      <td>7</td>\n      <td>1</td>\n      <td>118</td>\n      <td>13</td>\n      <td>50</td>\n      <td>239.554</td>\n      <td>31</td>\n      <td>0</td>\n      <td>1</td>\n      <td>0</td>\n      <td>0</td>\n    </tr>\n    <tr>\n      <th>2</th>\n      <td>0</td>\n      <td>0</td>\n      <td>0</td>\n      <td>1</td>\n      <td>7</td>\n      <td>2</td>\n      <td>179</td>\n      <td>51</td>\n      <td>38</td>\n      <td>239.554</td>\n      <td>31</td>\n      <td>0</td>\n      <td>0</td>\n      <td>0</td>\n      <td>2</td>\n    </tr>\n    <tr>\n      <th>3</th>\n      <td>1</td>\n      <td>0</td>\n      <td>0</td>\n      <td>0</td>\n      <td>7</td>\n      <td>3</td>\n      <td>279</td>\n      <td>5</td>\n      <td>39</td>\n      <td>239.554</td>\n      <td>24</td>\n      <td>0</td>\n      <td>2</td>\n      <td>0</td>\n      <td>4</td>\n    </tr>\n    <tr>\n      <th>4</th>\n      <td>0</td>\n      <td>0</td>\n      <td>0</td>\n      <td>1</td>\n      <td>7</td>\n      <td>3</td>\n      <td>289</td>\n      <td>36</td>\n      <td>33</td>\n      <td>239.554</td>\n      <td>30</td>\n      <td>0</td>\n      <td>2</td>\n      <td>1</td>\n      <td>2</td>\n    </tr>\n    <tr>\n      <th>...</th>\n      <td>...</td>\n      <td>...</td>\n      <td>...</td>\n      <td>...</td>\n      <td>...</td>\n      <td>...</td>\n      <td>...</td>\n      <td>...</td>\n      <td>...</td>\n      <td>...</td>\n      <td>...</td>\n      <td>...</td>\n      <td>...</td>\n      <td>...</td>\n      <td>...</td>\n    </tr>\n    <tr>\n      <th>695</th>\n      <td>1</td>\n      <td>0</td>\n      <td>0</td>\n      <td>0</td>\n      <td>5</td>\n      <td>2</td>\n      <td>179</td>\n      <td>22</td>\n      <td>40</td>\n      <td>237.656</td>\n      <td>22</td>\n      <td>1</td>\n      <td>2</td>\n      <td>0</td>\n      <td>8</td>\n    </tr>\n    <tr>\n      <th>696</th>\n      <td>1</td>\n      <td>0</td>\n      <td>0</td>\n      <td>0</td>\n      <td>5</td>\n      <td>2</td>\n      <td>225</td>\n      <td>26</td>\n      <td>28</td>\n      <td>237.656</td>\n      <td>24</td>\n      <td>0</td>\n      <td>1</td>\n      <td>2</td>\n      <td>3</td>\n    </tr>\n    <tr>\n      <th>697</th>\n      <td>1</td>\n      <td>0</td>\n      <td>0</td>\n      <td>0</td>\n      <td>5</td>\n      <td>3</td>\n      <td>330</td>\n      <td>16</td>\n      <td>28</td>\n      <td>237.656</td>\n      <td>25</td>\n      <td>1</td>\n      <td>0</td>\n      <td>0</td>\n      <td>8</td>\n    </tr>\n    <tr>\n      <th>698</th>\n      <td>0</td>\n      <td>0</td>\n      <td>0</td>\n      <td>1</td>\n      <td>5</td>\n      <td>3</td>\n      <td>235</td>\n      <td>16</td>\n      <td>32</td>\n      <td>237.656</td>\n      <td>25</td>\n      <td>1</td>\n      <td>0</td>\n      <td>0</td>\n      <td>2</td>\n    </tr>\n    <tr>\n      <th>699</th>\n      <td>0</td>\n      <td>0</td>\n      <td>0</td>\n      <td>1</td>\n      <td>5</td>\n      <td>3</td>\n      <td>291</td>\n      <td>31</td>\n      <td>40</td>\n      <td>237.656</td>\n      <td>25</td>\n      <td>0</td>\n      <td>1</td>\n      <td>1</td>\n      <td>2</td>\n    </tr>\n  </tbody>\n</table>\n<p>700 rows × 15 columns</p>\n</div>"
     },
     "execution_count": 246,
     "metadata": {},
     "output_type": "execute_result"
    }
   ],
   "source": [
    "data_preprocessed = pd.read_csv('../Dataset/Absenteeism_preprocessed.csv')\n",
    "data_preprocessed"
   ],
   "metadata": {
    "collapsed": false,
    "pycharm": {
     "name": "#%%\n"
    }
   }
  },
  {
   "cell_type": "markdown",
   "source": [
    "## Create the Targets\n",
    "\n",
    "For this project, we will be differentiating between excessive absenteeism and moderate absenteeism. For that, we will create target variable containing 1 or 0 for each depending on if the `Absenteeism Time in Hours` is more than or less than its median value respectively.\n",
    "\n",
    "Finally, we can drop the `Absenteeism Time in Hours` column from the dataframe as it won't be needed anymore."
   ],
   "metadata": {
    "collapsed": false,
    "pycharm": {
     "name": "#%% md\n"
    }
   }
  },
  {
   "cell_type": "code",
   "execution_count": 247,
   "outputs": [
    {
     "data": {
      "text/plain": "array([1, 0, 0, 1, 0, 0, 1, 1, 1, 1, 1, 1, 1, 0, 1, 1, 0, 1, 1, 0, 1, 0,\n       1, 1, 1, 1, 0, 1, 1, 0, 1, 1, 1, 1, 0, 0, 1, 1, 1, 1, 0, 1, 1, 1,\n       0, 0, 0, 1, 1, 1, 0, 0, 0, 0, 0, 0, 0, 0, 0, 0, 0, 1, 0, 0, 0, 0,\n       0, 0, 0, 0, 0, 1, 1, 0, 1, 1, 0, 1, 0, 0, 0, 0, 1, 1, 1, 1, 1, 1,\n       0, 1, 0, 1, 0, 1, 0, 0, 1, 0, 0, 1, 0, 1, 0, 1, 1, 1, 0, 0, 0, 1,\n       0, 1, 0, 0, 0, 0, 1, 0, 0, 0, 0, 0, 0, 0, 0, 0, 0, 0, 0, 1, 1, 0,\n       0, 0, 0, 0, 0, 0, 1, 1, 0, 1, 0, 1, 1, 1, 0, 0, 0, 1, 0, 1, 0, 0,\n       1, 0, 1, 0, 1, 1, 1, 1, 0, 1, 1, 1, 1, 1, 1, 1, 1, 0, 1, 1, 0, 1,\n       0, 1, 1, 0, 1, 0, 0, 0, 0, 0, 0, 1, 0, 0, 1, 1, 0, 0, 1, 0, 1, 1,\n       1, 1, 1, 1, 0, 0, 1, 0, 0, 1, 1, 1, 0, 0, 1, 0, 0, 0, 0, 0, 1, 1,\n       1, 1, 1, 1, 1, 1, 1, 1, 1, 1, 0, 1, 1, 0, 0, 0, 1, 1, 1, 1, 1, 1,\n       0, 1, 1, 0, 1, 1, 1, 1, 1, 0, 1, 0, 0, 1, 0, 0, 1, 1, 0, 1, 0, 0,\n       0, 0, 0, 1, 1, 1, 1, 0, 1, 0, 1, 0, 0, 0, 1, 1, 0, 1, 1, 1, 0, 0,\n       0, 1, 1, 1, 1, 1, 1, 0, 0, 1, 0, 1, 0, 1, 0, 1, 0, 0, 0, 0, 0, 1,\n       1, 0, 1, 0, 0, 0, 1, 1, 0, 1, 0, 1, 0, 0, 1, 1, 1, 0, 0, 0, 0, 0,\n       1, 1, 1, 0, 1, 1, 0, 0, 0, 0, 0, 0, 0, 0, 1, 1, 0, 0, 0, 1, 0, 0,\n       1, 1, 1, 0, 0, 1, 1, 1, 0, 0, 1, 1, 1, 1, 1, 0, 0, 0, 0, 0, 0, 0,\n       0, 0, 0, 1, 1, 0, 1, 0, 0, 0, 1, 0, 0, 1, 0, 0, 1, 1, 0, 1, 0, 1,\n       1, 1, 1, 1, 0, 1, 0, 0, 1, 0, 0, 0, 1, 1, 1, 0, 1, 0, 1, 1, 1, 1,\n       1, 0, 1, 1, 1, 1, 0, 1, 0, 1, 0, 1, 0, 0, 0, 0, 1, 0, 1, 0, 0, 1,\n       0, 0, 0, 0, 1, 1, 0, 1, 1, 0, 1, 1, 0, 0, 0, 1, 0, 0, 0, 1, 0, 1,\n       1, 1, 1, 1, 1, 1, 1, 0, 0, 1, 0, 0, 1, 1, 1, 0, 0, 0, 1, 0, 1, 1,\n       1, 1, 1, 1, 1, 1, 1, 0, 1, 0, 0, 0, 0, 0, 0, 0, 1, 0, 1, 0, 0, 1,\n       1, 0, 0, 1, 0, 0, 0, 0, 0, 0, 1, 0, 1, 1, 0, 0, 0, 1, 0, 1, 0, 1,\n       1, 1, 0, 0, 0, 0, 1, 0, 1, 1, 1, 1, 1, 0, 0, 0, 0, 1, 1, 0, 0, 0,\n       1, 0, 0, 1, 0, 1, 0, 0, 0, 0, 0, 1, 0, 1, 1, 1, 0, 0, 0, 1, 1, 1,\n       0, 0, 0, 0, 1, 0, 0, 1, 0, 0, 1, 0, 0, 1, 0, 1, 0, 0, 0, 0, 0, 0,\n       0, 0, 1, 0, 0, 0, 0, 0, 0, 0, 0, 0, 1, 0, 1, 0, 0, 0, 0, 0, 0, 0,\n       0, 0, 0, 0, 0, 0, 1, 0, 0, 0, 0, 0, 0, 1, 1, 0, 0, 0, 1, 0, 0, 1,\n       0, 1, 0, 0, 0, 0, 0, 0, 0, 1, 1, 0, 0, 0, 1, 1, 1, 1, 1, 1, 1, 0,\n       1, 0, 0, 0, 0, 1, 0, 1, 0, 0, 1, 1, 0, 0, 1, 0, 0, 0, 1, 0, 0, 1,\n       1, 1, 0, 0, 0, 0, 0, 0, 0, 0, 1, 1, 1, 1, 0, 1, 0, 0])"
     },
     "execution_count": 247,
     "metadata": {},
     "output_type": "execute_result"
    }
   ],
   "source": [
    "# create a target variable based on the median of `Absenteeism Time in Hours`\n",
    "targets = np.where(data_preprocessed['Absenteeism Time in Hours'] > data_preprocessed['Absenteeism Time in Hours'].median(), 1, 0)\n",
    "targets"
   ],
   "metadata": {
    "collapsed": false,
    "pycharm": {
     "name": "#%%\n"
    }
   }
  },
  {
   "cell_type": "code",
   "execution_count": 248,
   "outputs": [
    {
     "data": {
      "text/plain": "     Reason 1  Reason 2  Reason 3  Reason 4  Month Value  Day of the Week  \\\n0           0         0         0         1            7                1   \n1           0         0         0         0            7                1   \n2           0         0         0         1            7                2   \n3           1         0         0         0            7                3   \n4           0         0         0         1            7                3   \n..        ...       ...       ...       ...          ...              ...   \n695         1         0         0         0            5                2   \n696         1         0         0         0            5                2   \n697         1         0         0         0            5                3   \n698         0         0         0         1            5                3   \n699         0         0         0         1            5                3   \n\n     Transportation Expense  Distance to Work  Age  Daily Work Load Average  \\\n0                       289                36   33                  239.554   \n1                       118                13   50                  239.554   \n2                       179                51   38                  239.554   \n3                       279                 5   39                  239.554   \n4                       289                36   33                  239.554   \n..                      ...               ...  ...                      ...   \n695                     179                22   40                  237.656   \n696                     225                26   28                  237.656   \n697                     330                16   28                  237.656   \n698                     235                16   32                  237.656   \n699                     291                31   40                  237.656   \n\n     Body Mass Index  Education  Children  Pets  Absenteeism Time in Hours  \\\n0                 30          0         2     1                          4   \n1                 31          0         1     0                          0   \n2                 31          0         0     0                          2   \n3                 24          0         2     0                          4   \n4                 30          0         2     1                          2   \n..               ...        ...       ...   ...                        ...   \n695               22          1         2     0                          8   \n696               24          0         1     2                          3   \n697               25          1         0     0                          8   \n698               25          1         0     0                          2   \n699               25          0         1     1                          2   \n\n     Excessive Absenteeism  \n0                        1  \n1                        0  \n2                        0  \n3                        1  \n4                        0  \n..                     ...  \n695                      1  \n696                      0  \n697                      1  \n698                      0  \n699                      0  \n\n[700 rows x 16 columns]",
      "text/html": "<div>\n<style scoped>\n    .dataframe tbody tr th:only-of-type {\n        vertical-align: middle;\n    }\n\n    .dataframe tbody tr th {\n        vertical-align: top;\n    }\n\n    .dataframe thead th {\n        text-align: right;\n    }\n</style>\n<table border=\"1\" class=\"dataframe\">\n  <thead>\n    <tr style=\"text-align: right;\">\n      <th></th>\n      <th>Reason 1</th>\n      <th>Reason 2</th>\n      <th>Reason 3</th>\n      <th>Reason 4</th>\n      <th>Month Value</th>\n      <th>Day of the Week</th>\n      <th>Transportation Expense</th>\n      <th>Distance to Work</th>\n      <th>Age</th>\n      <th>Daily Work Load Average</th>\n      <th>Body Mass Index</th>\n      <th>Education</th>\n      <th>Children</th>\n      <th>Pets</th>\n      <th>Absenteeism Time in Hours</th>\n      <th>Excessive Absenteeism</th>\n    </tr>\n  </thead>\n  <tbody>\n    <tr>\n      <th>0</th>\n      <td>0</td>\n      <td>0</td>\n      <td>0</td>\n      <td>1</td>\n      <td>7</td>\n      <td>1</td>\n      <td>289</td>\n      <td>36</td>\n      <td>33</td>\n      <td>239.554</td>\n      <td>30</td>\n      <td>0</td>\n      <td>2</td>\n      <td>1</td>\n      <td>4</td>\n      <td>1</td>\n    </tr>\n    <tr>\n      <th>1</th>\n      <td>0</td>\n      <td>0</td>\n      <td>0</td>\n      <td>0</td>\n      <td>7</td>\n      <td>1</td>\n      <td>118</td>\n      <td>13</td>\n      <td>50</td>\n      <td>239.554</td>\n      <td>31</td>\n      <td>0</td>\n      <td>1</td>\n      <td>0</td>\n      <td>0</td>\n      <td>0</td>\n    </tr>\n    <tr>\n      <th>2</th>\n      <td>0</td>\n      <td>0</td>\n      <td>0</td>\n      <td>1</td>\n      <td>7</td>\n      <td>2</td>\n      <td>179</td>\n      <td>51</td>\n      <td>38</td>\n      <td>239.554</td>\n      <td>31</td>\n      <td>0</td>\n      <td>0</td>\n      <td>0</td>\n      <td>2</td>\n      <td>0</td>\n    </tr>\n    <tr>\n      <th>3</th>\n      <td>1</td>\n      <td>0</td>\n      <td>0</td>\n      <td>0</td>\n      <td>7</td>\n      <td>3</td>\n      <td>279</td>\n      <td>5</td>\n      <td>39</td>\n      <td>239.554</td>\n      <td>24</td>\n      <td>0</td>\n      <td>2</td>\n      <td>0</td>\n      <td>4</td>\n      <td>1</td>\n    </tr>\n    <tr>\n      <th>4</th>\n      <td>0</td>\n      <td>0</td>\n      <td>0</td>\n      <td>1</td>\n      <td>7</td>\n      <td>3</td>\n      <td>289</td>\n      <td>36</td>\n      <td>33</td>\n      <td>239.554</td>\n      <td>30</td>\n      <td>0</td>\n      <td>2</td>\n      <td>1</td>\n      <td>2</td>\n      <td>0</td>\n    </tr>\n    <tr>\n      <th>...</th>\n      <td>...</td>\n      <td>...</td>\n      <td>...</td>\n      <td>...</td>\n      <td>...</td>\n      <td>...</td>\n      <td>...</td>\n      <td>...</td>\n      <td>...</td>\n      <td>...</td>\n      <td>...</td>\n      <td>...</td>\n      <td>...</td>\n      <td>...</td>\n      <td>...</td>\n      <td>...</td>\n    </tr>\n    <tr>\n      <th>695</th>\n      <td>1</td>\n      <td>0</td>\n      <td>0</td>\n      <td>0</td>\n      <td>5</td>\n      <td>2</td>\n      <td>179</td>\n      <td>22</td>\n      <td>40</td>\n      <td>237.656</td>\n      <td>22</td>\n      <td>1</td>\n      <td>2</td>\n      <td>0</td>\n      <td>8</td>\n      <td>1</td>\n    </tr>\n    <tr>\n      <th>696</th>\n      <td>1</td>\n      <td>0</td>\n      <td>0</td>\n      <td>0</td>\n      <td>5</td>\n      <td>2</td>\n      <td>225</td>\n      <td>26</td>\n      <td>28</td>\n      <td>237.656</td>\n      <td>24</td>\n      <td>0</td>\n      <td>1</td>\n      <td>2</td>\n      <td>3</td>\n      <td>0</td>\n    </tr>\n    <tr>\n      <th>697</th>\n      <td>1</td>\n      <td>0</td>\n      <td>0</td>\n      <td>0</td>\n      <td>5</td>\n      <td>3</td>\n      <td>330</td>\n      <td>16</td>\n      <td>28</td>\n      <td>237.656</td>\n      <td>25</td>\n      <td>1</td>\n      <td>0</td>\n      <td>0</td>\n      <td>8</td>\n      <td>1</td>\n    </tr>\n    <tr>\n      <th>698</th>\n      <td>0</td>\n      <td>0</td>\n      <td>0</td>\n      <td>1</td>\n      <td>5</td>\n      <td>3</td>\n      <td>235</td>\n      <td>16</td>\n      <td>32</td>\n      <td>237.656</td>\n      <td>25</td>\n      <td>1</td>\n      <td>0</td>\n      <td>0</td>\n      <td>2</td>\n      <td>0</td>\n    </tr>\n    <tr>\n      <th>699</th>\n      <td>0</td>\n      <td>0</td>\n      <td>0</td>\n      <td>1</td>\n      <td>5</td>\n      <td>3</td>\n      <td>291</td>\n      <td>31</td>\n      <td>40</td>\n      <td>237.656</td>\n      <td>25</td>\n      <td>0</td>\n      <td>1</td>\n      <td>1</td>\n      <td>2</td>\n      <td>0</td>\n    </tr>\n  </tbody>\n</table>\n<p>700 rows × 16 columns</p>\n</div>"
     },
     "execution_count": 248,
     "metadata": {},
     "output_type": "execute_result"
    }
   ],
   "source": [
    "# add the newly created targets to the dataframe\n",
    "data_preprocessed['Excessive Absenteeism'] = targets\n",
    "data_preprocessed"
   ],
   "metadata": {
    "collapsed": false,
    "pycharm": {
     "name": "#%%\n"
    }
   }
  },
  {
   "cell_type": "code",
   "execution_count": 249,
   "outputs": [
    {
     "data": {
      "text/plain": "     Reason 1  Reason 2  Reason 3  Reason 4  Month Value  Day of the Week  \\\n0           0         0         0         1            7                1   \n1           0         0         0         0            7                1   \n2           0         0         0         1            7                2   \n3           1         0         0         0            7                3   \n4           0         0         0         1            7                3   \n..        ...       ...       ...       ...          ...              ...   \n695         1         0         0         0            5                2   \n696         1         0         0         0            5                2   \n697         1         0         0         0            5                3   \n698         0         0         0         1            5                3   \n699         0         0         0         1            5                3   \n\n     Transportation Expense  Distance to Work  Age  Daily Work Load Average  \\\n0                       289                36   33                  239.554   \n1                       118                13   50                  239.554   \n2                       179                51   38                  239.554   \n3                       279                 5   39                  239.554   \n4                       289                36   33                  239.554   \n..                      ...               ...  ...                      ...   \n695                     179                22   40                  237.656   \n696                     225                26   28                  237.656   \n697                     330                16   28                  237.656   \n698                     235                16   32                  237.656   \n699                     291                31   40                  237.656   \n\n     Body Mass Index  Education  Children  Pets  Excessive Absenteeism  \n0                 30          0         2     1                      1  \n1                 31          0         1     0                      0  \n2                 31          0         0     0                      0  \n3                 24          0         2     0                      1  \n4                 30          0         2     1                      0  \n..               ...        ...       ...   ...                    ...  \n695               22          1         2     0                      1  \n696               24          0         1     2                      0  \n697               25          1         0     0                      1  \n698               25          1         0     0                      0  \n699               25          0         1     1                      0  \n\n[700 rows x 15 columns]",
      "text/html": "<div>\n<style scoped>\n    .dataframe tbody tr th:only-of-type {\n        vertical-align: middle;\n    }\n\n    .dataframe tbody tr th {\n        vertical-align: top;\n    }\n\n    .dataframe thead th {\n        text-align: right;\n    }\n</style>\n<table border=\"1\" class=\"dataframe\">\n  <thead>\n    <tr style=\"text-align: right;\">\n      <th></th>\n      <th>Reason 1</th>\n      <th>Reason 2</th>\n      <th>Reason 3</th>\n      <th>Reason 4</th>\n      <th>Month Value</th>\n      <th>Day of the Week</th>\n      <th>Transportation Expense</th>\n      <th>Distance to Work</th>\n      <th>Age</th>\n      <th>Daily Work Load Average</th>\n      <th>Body Mass Index</th>\n      <th>Education</th>\n      <th>Children</th>\n      <th>Pets</th>\n      <th>Excessive Absenteeism</th>\n    </tr>\n  </thead>\n  <tbody>\n    <tr>\n      <th>0</th>\n      <td>0</td>\n      <td>0</td>\n      <td>0</td>\n      <td>1</td>\n      <td>7</td>\n      <td>1</td>\n      <td>289</td>\n      <td>36</td>\n      <td>33</td>\n      <td>239.554</td>\n      <td>30</td>\n      <td>0</td>\n      <td>2</td>\n      <td>1</td>\n      <td>1</td>\n    </tr>\n    <tr>\n      <th>1</th>\n      <td>0</td>\n      <td>0</td>\n      <td>0</td>\n      <td>0</td>\n      <td>7</td>\n      <td>1</td>\n      <td>118</td>\n      <td>13</td>\n      <td>50</td>\n      <td>239.554</td>\n      <td>31</td>\n      <td>0</td>\n      <td>1</td>\n      <td>0</td>\n      <td>0</td>\n    </tr>\n    <tr>\n      <th>2</th>\n      <td>0</td>\n      <td>0</td>\n      <td>0</td>\n      <td>1</td>\n      <td>7</td>\n      <td>2</td>\n      <td>179</td>\n      <td>51</td>\n      <td>38</td>\n      <td>239.554</td>\n      <td>31</td>\n      <td>0</td>\n      <td>0</td>\n      <td>0</td>\n      <td>0</td>\n    </tr>\n    <tr>\n      <th>3</th>\n      <td>1</td>\n      <td>0</td>\n      <td>0</td>\n      <td>0</td>\n      <td>7</td>\n      <td>3</td>\n      <td>279</td>\n      <td>5</td>\n      <td>39</td>\n      <td>239.554</td>\n      <td>24</td>\n      <td>0</td>\n      <td>2</td>\n      <td>0</td>\n      <td>1</td>\n    </tr>\n    <tr>\n      <th>4</th>\n      <td>0</td>\n      <td>0</td>\n      <td>0</td>\n      <td>1</td>\n      <td>7</td>\n      <td>3</td>\n      <td>289</td>\n      <td>36</td>\n      <td>33</td>\n      <td>239.554</td>\n      <td>30</td>\n      <td>0</td>\n      <td>2</td>\n      <td>1</td>\n      <td>0</td>\n    </tr>\n    <tr>\n      <th>...</th>\n      <td>...</td>\n      <td>...</td>\n      <td>...</td>\n      <td>...</td>\n      <td>...</td>\n      <td>...</td>\n      <td>...</td>\n      <td>...</td>\n      <td>...</td>\n      <td>...</td>\n      <td>...</td>\n      <td>...</td>\n      <td>...</td>\n      <td>...</td>\n      <td>...</td>\n    </tr>\n    <tr>\n      <th>695</th>\n      <td>1</td>\n      <td>0</td>\n      <td>0</td>\n      <td>0</td>\n      <td>5</td>\n      <td>2</td>\n      <td>179</td>\n      <td>22</td>\n      <td>40</td>\n      <td>237.656</td>\n      <td>22</td>\n      <td>1</td>\n      <td>2</td>\n      <td>0</td>\n      <td>1</td>\n    </tr>\n    <tr>\n      <th>696</th>\n      <td>1</td>\n      <td>0</td>\n      <td>0</td>\n      <td>0</td>\n      <td>5</td>\n      <td>2</td>\n      <td>225</td>\n      <td>26</td>\n      <td>28</td>\n      <td>237.656</td>\n      <td>24</td>\n      <td>0</td>\n      <td>1</td>\n      <td>2</td>\n      <td>0</td>\n    </tr>\n    <tr>\n      <th>697</th>\n      <td>1</td>\n      <td>0</td>\n      <td>0</td>\n      <td>0</td>\n      <td>5</td>\n      <td>3</td>\n      <td>330</td>\n      <td>16</td>\n      <td>28</td>\n      <td>237.656</td>\n      <td>25</td>\n      <td>1</td>\n      <td>0</td>\n      <td>0</td>\n      <td>1</td>\n    </tr>\n    <tr>\n      <th>698</th>\n      <td>0</td>\n      <td>0</td>\n      <td>0</td>\n      <td>1</td>\n      <td>5</td>\n      <td>3</td>\n      <td>235</td>\n      <td>16</td>\n      <td>32</td>\n      <td>237.656</td>\n      <td>25</td>\n      <td>1</td>\n      <td>0</td>\n      <td>0</td>\n      <td>0</td>\n    </tr>\n    <tr>\n      <th>699</th>\n      <td>0</td>\n      <td>0</td>\n      <td>0</td>\n      <td>1</td>\n      <td>5</td>\n      <td>3</td>\n      <td>291</td>\n      <td>31</td>\n      <td>40</td>\n      <td>237.656</td>\n      <td>25</td>\n      <td>0</td>\n      <td>1</td>\n      <td>1</td>\n      <td>0</td>\n    </tr>\n  </tbody>\n</table>\n<p>700 rows × 15 columns</p>\n</div>"
     },
     "execution_count": 249,
     "metadata": {},
     "output_type": "execute_result"
    }
   ],
   "source": [
    "# drop the `Absenteeism in Hours` column\n",
    "data_with_targets = data_preprocessed.drop(['Absenteeism Time in Hours'], axis=1)\n",
    "\n",
    "data_with_targets"
   ],
   "metadata": {
    "collapsed": false,
    "pycharm": {
     "name": "#%%\n"
    }
   }
  },
  {
   "cell_type": "markdown",
   "source": [
    "### Balancing classes\n",
    "\n",
    "For a good classification model, it is necessary to balance the classes of the samples in the dataset. It will create more generalised model."
   ],
   "metadata": {
    "collapsed": false,
    "pycharm": {
     "name": "#%% md\n"
    }
   }
  },
  {
   "cell_type": "code",
   "execution_count": 250,
   "outputs": [
    {
     "data": {
      "text/plain": "0.45571428571428574"
     },
     "execution_count": 250,
     "metadata": {},
     "output_type": "execute_result"
    }
   ],
   "source": [
    "# check the proportion of the 2 classes\n",
    "targets.sum() / targets.shape[0]"
   ],
   "metadata": {
    "collapsed": false,
    "pycharm": {
     "name": "#%%\n"
    }
   }
  },
  {
   "cell_type": "markdown",
   "source": [
    "As we can see, around 46% of the data belongs to class 1 (Excessive Absenteeism) while the rest 54% to class 0 (Moderate Absenteeism). Hence, the dataset is roughly balanced and does not need further interference."
   ],
   "metadata": {
    "collapsed": false,
    "pycharm": {
     "name": "#%% md\n"
    }
   }
  },
  {
   "cell_type": "markdown",
   "source": [
    "## Create the Inputs"
   ],
   "metadata": {
    "collapsed": false,
    "pycharm": {
     "name": "#%% md\n"
    }
   }
  },
  {
   "cell_type": "code",
   "execution_count": 251,
   "outputs": [
    {
     "data": {
      "text/plain": "     Reason 1  Reason 2  Reason 3  Reason 4  Month Value  Day of the Week  \\\n0           0         0         0         1            7                1   \n1           0         0         0         0            7                1   \n2           0         0         0         1            7                2   \n3           1         0         0         0            7                3   \n4           0         0         0         1            7                3   \n..        ...       ...       ...       ...          ...              ...   \n695         1         0         0         0            5                2   \n696         1         0         0         0            5                2   \n697         1         0         0         0            5                3   \n698         0         0         0         1            5                3   \n699         0         0         0         1            5                3   \n\n     Transportation Expense  Distance to Work  Age  Daily Work Load Average  \\\n0                       289                36   33                  239.554   \n1                       118                13   50                  239.554   \n2                       179                51   38                  239.554   \n3                       279                 5   39                  239.554   \n4                       289                36   33                  239.554   \n..                      ...               ...  ...                      ...   \n695                     179                22   40                  237.656   \n696                     225                26   28                  237.656   \n697                     330                16   28                  237.656   \n698                     235                16   32                  237.656   \n699                     291                31   40                  237.656   \n\n     Body Mass Index  Education  Children  Pets  \n0                 30          0         2     1  \n1                 31          0         1     0  \n2                 31          0         0     0  \n3                 24          0         2     0  \n4                 30          0         2     1  \n..               ...        ...       ...   ...  \n695               22          1         2     0  \n696               24          0         1     2  \n697               25          1         0     0  \n698               25          1         0     0  \n699               25          0         1     1  \n\n[700 rows x 14 columns]",
      "text/html": "<div>\n<style scoped>\n    .dataframe tbody tr th:only-of-type {\n        vertical-align: middle;\n    }\n\n    .dataframe tbody tr th {\n        vertical-align: top;\n    }\n\n    .dataframe thead th {\n        text-align: right;\n    }\n</style>\n<table border=\"1\" class=\"dataframe\">\n  <thead>\n    <tr style=\"text-align: right;\">\n      <th></th>\n      <th>Reason 1</th>\n      <th>Reason 2</th>\n      <th>Reason 3</th>\n      <th>Reason 4</th>\n      <th>Month Value</th>\n      <th>Day of the Week</th>\n      <th>Transportation Expense</th>\n      <th>Distance to Work</th>\n      <th>Age</th>\n      <th>Daily Work Load Average</th>\n      <th>Body Mass Index</th>\n      <th>Education</th>\n      <th>Children</th>\n      <th>Pets</th>\n    </tr>\n  </thead>\n  <tbody>\n    <tr>\n      <th>0</th>\n      <td>0</td>\n      <td>0</td>\n      <td>0</td>\n      <td>1</td>\n      <td>7</td>\n      <td>1</td>\n      <td>289</td>\n      <td>36</td>\n      <td>33</td>\n      <td>239.554</td>\n      <td>30</td>\n      <td>0</td>\n      <td>2</td>\n      <td>1</td>\n    </tr>\n    <tr>\n      <th>1</th>\n      <td>0</td>\n      <td>0</td>\n      <td>0</td>\n      <td>0</td>\n      <td>7</td>\n      <td>1</td>\n      <td>118</td>\n      <td>13</td>\n      <td>50</td>\n      <td>239.554</td>\n      <td>31</td>\n      <td>0</td>\n      <td>1</td>\n      <td>0</td>\n    </tr>\n    <tr>\n      <th>2</th>\n      <td>0</td>\n      <td>0</td>\n      <td>0</td>\n      <td>1</td>\n      <td>7</td>\n      <td>2</td>\n      <td>179</td>\n      <td>51</td>\n      <td>38</td>\n      <td>239.554</td>\n      <td>31</td>\n      <td>0</td>\n      <td>0</td>\n      <td>0</td>\n    </tr>\n    <tr>\n      <th>3</th>\n      <td>1</td>\n      <td>0</td>\n      <td>0</td>\n      <td>0</td>\n      <td>7</td>\n      <td>3</td>\n      <td>279</td>\n      <td>5</td>\n      <td>39</td>\n      <td>239.554</td>\n      <td>24</td>\n      <td>0</td>\n      <td>2</td>\n      <td>0</td>\n    </tr>\n    <tr>\n      <th>4</th>\n      <td>0</td>\n      <td>0</td>\n      <td>0</td>\n      <td>1</td>\n      <td>7</td>\n      <td>3</td>\n      <td>289</td>\n      <td>36</td>\n      <td>33</td>\n      <td>239.554</td>\n      <td>30</td>\n      <td>0</td>\n      <td>2</td>\n      <td>1</td>\n    </tr>\n    <tr>\n      <th>...</th>\n      <td>...</td>\n      <td>...</td>\n      <td>...</td>\n      <td>...</td>\n      <td>...</td>\n      <td>...</td>\n      <td>...</td>\n      <td>...</td>\n      <td>...</td>\n      <td>...</td>\n      <td>...</td>\n      <td>...</td>\n      <td>...</td>\n      <td>...</td>\n    </tr>\n    <tr>\n      <th>695</th>\n      <td>1</td>\n      <td>0</td>\n      <td>0</td>\n      <td>0</td>\n      <td>5</td>\n      <td>2</td>\n      <td>179</td>\n      <td>22</td>\n      <td>40</td>\n      <td>237.656</td>\n      <td>22</td>\n      <td>1</td>\n      <td>2</td>\n      <td>0</td>\n    </tr>\n    <tr>\n      <th>696</th>\n      <td>1</td>\n      <td>0</td>\n      <td>0</td>\n      <td>0</td>\n      <td>5</td>\n      <td>2</td>\n      <td>225</td>\n      <td>26</td>\n      <td>28</td>\n      <td>237.656</td>\n      <td>24</td>\n      <td>0</td>\n      <td>1</td>\n      <td>2</td>\n    </tr>\n    <tr>\n      <th>697</th>\n      <td>1</td>\n      <td>0</td>\n      <td>0</td>\n      <td>0</td>\n      <td>5</td>\n      <td>3</td>\n      <td>330</td>\n      <td>16</td>\n      <td>28</td>\n      <td>237.656</td>\n      <td>25</td>\n      <td>1</td>\n      <td>0</td>\n      <td>0</td>\n    </tr>\n    <tr>\n      <th>698</th>\n      <td>0</td>\n      <td>0</td>\n      <td>0</td>\n      <td>1</td>\n      <td>5</td>\n      <td>3</td>\n      <td>235</td>\n      <td>16</td>\n      <td>32</td>\n      <td>237.656</td>\n      <td>25</td>\n      <td>1</td>\n      <td>0</td>\n      <td>0</td>\n    </tr>\n    <tr>\n      <th>699</th>\n      <td>0</td>\n      <td>0</td>\n      <td>0</td>\n      <td>1</td>\n      <td>5</td>\n      <td>3</td>\n      <td>291</td>\n      <td>31</td>\n      <td>40</td>\n      <td>237.656</td>\n      <td>25</td>\n      <td>0</td>\n      <td>1</td>\n      <td>1</td>\n    </tr>\n  </tbody>\n</table>\n<p>700 rows × 14 columns</p>\n</div>"
     },
     "execution_count": 251,
     "metadata": {},
     "output_type": "execute_result"
    }
   ],
   "source": [
    "# inputs will be all columns except the targets\n",
    "unscaled_inputs = data_with_targets.iloc[:, :-1]\n",
    "unscaled_inputs"
   ],
   "metadata": {
    "collapsed": false,
    "pycharm": {
     "name": "#%%\n"
    }
   }
  },
  {
   "cell_type": "markdown",
   "source": [
    "## Scale the Inputs\n",
    "\n",
    "As we can see, the inputs vary in magnitude and units, and so can impact our model negatively. To ensure equal importance for all the features, we should scale them.\n",
    "\n",
    "I will use the Standard Scaler such that all column values have a mean of 0 and standard deviation of 1.\n",
    "\n",
    "I will be creating a custom scaler that does not scale the dummy variables."
   ],
   "metadata": {
    "collapsed": false,
    "pycharm": {
     "name": "#%% md\n"
    }
   }
  },
  {
   "cell_type": "code",
   "execution_count": 255,
   "outputs": [],
   "source": [
    "# create the Custom Scaler class\n",
    "\n",
    "class CustomScaler(BaseEstimator,TransformerMixin):\n",
    "\n",
    "    # init or what information we need to declare a CustomScaler object\n",
    "    # and what is calculated/declared as we do\n",
    "\n",
    "    def __init__(self,columns,copy=True,with_mean=True,with_std=True):\n",
    "\n",
    "        # scaler is nothing but a Standard Scaler object\n",
    "        self.scaler = StandardScaler(copy=copy, with_mean=with_mean, with_std=with_std)\n",
    "        # with some columns 'twist'\n",
    "        self.columns = columns\n",
    "        self.mean_ = None\n",
    "        self.var_ = None\n",
    "\n",
    "\n",
    "    # the fit method, which, again based on StandardScale\n",
    "\n",
    "    def fit(self, X, y=None):\n",
    "        self.scaler.fit(X[self.columns], y)\n",
    "        self.mean_ = np.mean(X[self.columns])\n",
    "        self.var_ = np.var(X[self.columns])\n",
    "        return self\n",
    "\n",
    "    # the transform method which does the actual scaling\n",
    "\n",
    "    def transform(self, X, y=None, copy=None):\n",
    "\n",
    "        # record the initial order of the columns\n",
    "        init_col_order = X.columns\n",
    "\n",
    "        # scale all features that you chose when creating the instance of the class\n",
    "        X_scaled = pd.DataFrame(self.scaler.transform(X[self.columns]), columns=self.columns)\n",
    "\n",
    "        # declare a variable containing all information that was not scaled\n",
    "        X_not_scaled = X.loc[:,~X.columns.isin(self.columns)]\n",
    "\n",
    "        # return a data frame which contains all scaled features and all 'not scaled' features\n",
    "        # use the original order (that you recorded in the beginning)\n",
    "        return pd.concat([X_not_scaled, X_scaled], axis=1)[init_col_order]"
   ],
   "metadata": {
    "collapsed": false,
    "pycharm": {
     "name": "#%%\n"
    }
   }
  },
  {
   "cell_type": "code",
   "execution_count": 256,
   "outputs": [],
   "source": [
    "# select the columns to omit\n",
    "columns_to_omit = ['Reason_1', 'Reason_2', 'Reason_3', 'Reason_4','Education']\n",
    "\n",
    "# create the columns to scale, based on the columns to omit\n",
    "# use list comprehension to iterate over the list\n",
    "columns_to_scale = [x for x in unscaled_inputs.columns.values if x not in columns_to_omit]"
   ],
   "metadata": {
    "collapsed": false,
    "pycharm": {
     "name": "#%%\n"
    }
   }
  },
  {
   "cell_type": "code",
   "execution_count": 257,
   "outputs": [],
   "source": [
    "# declare a scaler object, specifying the columns to scale\n",
    "absenteeism_scaler = CustomScaler(columns_to_scale)"
   ],
   "metadata": {
    "collapsed": false,
    "pycharm": {
     "name": "#%%\n"
    }
   }
  },
  {
   "cell_type": "code",
   "execution_count": 258,
   "outputs": [
    {
     "name": "stderr",
     "output_type": "stream",
     "text": [
      "/Users/rafsanalmamun/miniforge3/envs/latest/lib/python3.10/site-packages/numpy/core/fromnumeric.py:3430: FutureWarning: In a future version, DataFrame.mean(axis=None) will return a scalar mean over the entire DataFrame. To retain the old behavior, use 'frame.mean(axis=0)' or just 'frame.mean()'\n",
      "  return mean(axis=axis, dtype=dtype, out=out, **kwargs)\n"
     ]
    }
   ],
   "source": [
    "# fit the scaler to the data\n",
    "absenteeism_scaler.fit(unscaled_inputs)\n",
    "\n",
    "# transform the inputs\n",
    "scaled_inputs = absenteeism_scaler.transform(unscaled_inputs)"
   ],
   "metadata": {
    "collapsed": false,
    "pycharm": {
     "name": "#%%\n"
    }
   }
  },
  {
   "cell_type": "code",
   "execution_count": 259,
   "outputs": [
    {
     "data": {
      "text/plain": "     Reason 1  Reason 2  Reason 3  Reason 4  Month Value  Day of the Week  \\\n0   -0.577350 -0.092981 -0.314485  0.821365     0.182726        -0.683704   \n1   -0.577350 -0.092981 -0.314485 -1.217485     0.182726        -0.683704   \n2   -0.577350 -0.092981 -0.314485  0.821365     0.182726        -0.007725   \n3    1.732051 -0.092981 -0.314485 -1.217485     0.182726         0.668253   \n4   -0.577350 -0.092981 -0.314485  0.821365     0.182726         0.668253   \n..        ...       ...       ...       ...          ...              ...   \n695  1.732051 -0.092981 -0.314485 -1.217485    -0.388293        -0.007725   \n696  1.732051 -0.092981 -0.314485 -1.217485    -0.388293        -0.007725   \n697  1.732051 -0.092981 -0.314485 -1.217485    -0.388293         0.668253   \n698 -0.577350 -0.092981 -0.314485  0.821365    -0.388293         0.668253   \n699 -0.577350 -0.092981 -0.314485  0.821365    -0.388293         0.668253   \n\n     Transportation Expense  Distance to Work       Age  \\\n0                  1.005844          0.412816 -0.536062   \n1                 -1.574681         -1.141882  2.130803   \n2                 -0.654143          1.426749  0.248310   \n3                  0.854936         -1.682647  0.405184   \n4                  1.005844          0.412816 -0.536062   \n..                      ...               ...       ...   \n695               -0.654143         -0.533522  0.562059   \n696                0.040034         -0.263140 -1.320435   \n697                1.624567         -0.939096 -1.320435   \n698                0.190942         -0.939096 -0.692937   \n699                1.036026          0.074838  0.562059   \n\n     Daily Work Load Average  Body Mass Index  Education  Children      Pets  \n0                  -0.806331         0.767431          0  0.880469  0.268487  \n1                  -0.806331         1.002633          0 -0.019280 -0.589690  \n2                  -0.806331         1.002633          0 -0.919030 -0.589690  \n3                  -0.806331        -0.643782          0  0.880469 -0.589690  \n4                  -0.806331         0.767431          0  0.880469  0.268487  \n..                       ...              ...        ...       ...       ...  \n695                -0.853789        -1.114186          1  0.880469 -0.589690  \n696                -0.853789        -0.643782          0 -0.019280  1.126663  \n697                -0.853789        -0.408580          1 -0.919030 -0.589690  \n698                -0.853789        -0.408580          1 -0.919030 -0.589690  \n699                -0.853789        -0.408580          0 -0.019280  0.268487  \n\n[700 rows x 14 columns]",
      "text/html": "<div>\n<style scoped>\n    .dataframe tbody tr th:only-of-type {\n        vertical-align: middle;\n    }\n\n    .dataframe tbody tr th {\n        vertical-align: top;\n    }\n\n    .dataframe thead th {\n        text-align: right;\n    }\n</style>\n<table border=\"1\" class=\"dataframe\">\n  <thead>\n    <tr style=\"text-align: right;\">\n      <th></th>\n      <th>Reason 1</th>\n      <th>Reason 2</th>\n      <th>Reason 3</th>\n      <th>Reason 4</th>\n      <th>Month Value</th>\n      <th>Day of the Week</th>\n      <th>Transportation Expense</th>\n      <th>Distance to Work</th>\n      <th>Age</th>\n      <th>Daily Work Load Average</th>\n      <th>Body Mass Index</th>\n      <th>Education</th>\n      <th>Children</th>\n      <th>Pets</th>\n    </tr>\n  </thead>\n  <tbody>\n    <tr>\n      <th>0</th>\n      <td>-0.577350</td>\n      <td>-0.092981</td>\n      <td>-0.314485</td>\n      <td>0.821365</td>\n      <td>0.182726</td>\n      <td>-0.683704</td>\n      <td>1.005844</td>\n      <td>0.412816</td>\n      <td>-0.536062</td>\n      <td>-0.806331</td>\n      <td>0.767431</td>\n      <td>0</td>\n      <td>0.880469</td>\n      <td>0.268487</td>\n    </tr>\n    <tr>\n      <th>1</th>\n      <td>-0.577350</td>\n      <td>-0.092981</td>\n      <td>-0.314485</td>\n      <td>-1.217485</td>\n      <td>0.182726</td>\n      <td>-0.683704</td>\n      <td>-1.574681</td>\n      <td>-1.141882</td>\n      <td>2.130803</td>\n      <td>-0.806331</td>\n      <td>1.002633</td>\n      <td>0</td>\n      <td>-0.019280</td>\n      <td>-0.589690</td>\n    </tr>\n    <tr>\n      <th>2</th>\n      <td>-0.577350</td>\n      <td>-0.092981</td>\n      <td>-0.314485</td>\n      <td>0.821365</td>\n      <td>0.182726</td>\n      <td>-0.007725</td>\n      <td>-0.654143</td>\n      <td>1.426749</td>\n      <td>0.248310</td>\n      <td>-0.806331</td>\n      <td>1.002633</td>\n      <td>0</td>\n      <td>-0.919030</td>\n      <td>-0.589690</td>\n    </tr>\n    <tr>\n      <th>3</th>\n      <td>1.732051</td>\n      <td>-0.092981</td>\n      <td>-0.314485</td>\n      <td>-1.217485</td>\n      <td>0.182726</td>\n      <td>0.668253</td>\n      <td>0.854936</td>\n      <td>-1.682647</td>\n      <td>0.405184</td>\n      <td>-0.806331</td>\n      <td>-0.643782</td>\n      <td>0</td>\n      <td>0.880469</td>\n      <td>-0.589690</td>\n    </tr>\n    <tr>\n      <th>4</th>\n      <td>-0.577350</td>\n      <td>-0.092981</td>\n      <td>-0.314485</td>\n      <td>0.821365</td>\n      <td>0.182726</td>\n      <td>0.668253</td>\n      <td>1.005844</td>\n      <td>0.412816</td>\n      <td>-0.536062</td>\n      <td>-0.806331</td>\n      <td>0.767431</td>\n      <td>0</td>\n      <td>0.880469</td>\n      <td>0.268487</td>\n    </tr>\n    <tr>\n      <th>...</th>\n      <td>...</td>\n      <td>...</td>\n      <td>...</td>\n      <td>...</td>\n      <td>...</td>\n      <td>...</td>\n      <td>...</td>\n      <td>...</td>\n      <td>...</td>\n      <td>...</td>\n      <td>...</td>\n      <td>...</td>\n      <td>...</td>\n      <td>...</td>\n    </tr>\n    <tr>\n      <th>695</th>\n      <td>1.732051</td>\n      <td>-0.092981</td>\n      <td>-0.314485</td>\n      <td>-1.217485</td>\n      <td>-0.388293</td>\n      <td>-0.007725</td>\n      <td>-0.654143</td>\n      <td>-0.533522</td>\n      <td>0.562059</td>\n      <td>-0.853789</td>\n      <td>-1.114186</td>\n      <td>1</td>\n      <td>0.880469</td>\n      <td>-0.589690</td>\n    </tr>\n    <tr>\n      <th>696</th>\n      <td>1.732051</td>\n      <td>-0.092981</td>\n      <td>-0.314485</td>\n      <td>-1.217485</td>\n      <td>-0.388293</td>\n      <td>-0.007725</td>\n      <td>0.040034</td>\n      <td>-0.263140</td>\n      <td>-1.320435</td>\n      <td>-0.853789</td>\n      <td>-0.643782</td>\n      <td>0</td>\n      <td>-0.019280</td>\n      <td>1.126663</td>\n    </tr>\n    <tr>\n      <th>697</th>\n      <td>1.732051</td>\n      <td>-0.092981</td>\n      <td>-0.314485</td>\n      <td>-1.217485</td>\n      <td>-0.388293</td>\n      <td>0.668253</td>\n      <td>1.624567</td>\n      <td>-0.939096</td>\n      <td>-1.320435</td>\n      <td>-0.853789</td>\n      <td>-0.408580</td>\n      <td>1</td>\n      <td>-0.919030</td>\n      <td>-0.589690</td>\n    </tr>\n    <tr>\n      <th>698</th>\n      <td>-0.577350</td>\n      <td>-0.092981</td>\n      <td>-0.314485</td>\n      <td>0.821365</td>\n      <td>-0.388293</td>\n      <td>0.668253</td>\n      <td>0.190942</td>\n      <td>-0.939096</td>\n      <td>-0.692937</td>\n      <td>-0.853789</td>\n      <td>-0.408580</td>\n      <td>1</td>\n      <td>-0.919030</td>\n      <td>-0.589690</td>\n    </tr>\n    <tr>\n      <th>699</th>\n      <td>-0.577350</td>\n      <td>-0.092981</td>\n      <td>-0.314485</td>\n      <td>0.821365</td>\n      <td>-0.388293</td>\n      <td>0.668253</td>\n      <td>1.036026</td>\n      <td>0.074838</td>\n      <td>0.562059</td>\n      <td>-0.853789</td>\n      <td>-0.408580</td>\n      <td>0</td>\n      <td>-0.019280</td>\n      <td>0.268487</td>\n    </tr>\n  </tbody>\n</table>\n<p>700 rows × 14 columns</p>\n</div>"
     },
     "execution_count": 259,
     "metadata": {},
     "output_type": "execute_result"
    }
   ],
   "source": [
    "scaled_inputs"
   ],
   "metadata": {
    "collapsed": false,
    "pycharm": {
     "name": "#%%\n"
    }
   }
  },
  {
   "cell_type": "code",
   "execution_count": 260,
   "outputs": [
    {
     "data": {
      "text/plain": "pandas.core.frame.DataFrame"
     },
     "execution_count": 260,
     "metadata": {},
     "output_type": "execute_result"
    }
   ],
   "source": [
    "type(scaled_inputs)"
   ],
   "metadata": {
    "collapsed": false,
    "pycharm": {
     "name": "#%%\n"
    }
   }
  },
  {
   "cell_type": "markdown",
   "source": [
    "## Split the Dataset\n",
    "\n",
    "We will split the dataset into training and testing in an 80:20 ratio. We will fix a random state to ensure consistency, and stratify the dataset to ensure the class balance in the splits."
   ],
   "metadata": {
    "collapsed": false,
    "pycharm": {
     "name": "#%% md\n"
    }
   }
  },
  {
   "cell_type": "code",
   "execution_count": 261,
   "outputs": [],
   "source": [
    "# split the data into 80:20\n",
    "# use random state = 1\n",
    "# stratify the data\n",
    "x_train, x_test, y_train, y_test = train_test_split(scaled_inputs, targets, test_size=0.2, stratify=targets, random_state=1)"
   ],
   "metadata": {
    "collapsed": false,
    "pycharm": {
     "name": "#%%\n"
    }
   }
  },
  {
   "cell_type": "code",
   "execution_count": 262,
   "outputs": [
    {
     "name": "stdout",
     "output_type": "stream",
     "text": [
      "(560, 14) (560,)\n"
     ]
    }
   ],
   "source": [
    "# check train shape\n",
    "print(x_train.shape, y_train.shape)"
   ],
   "metadata": {
    "collapsed": false,
    "pycharm": {
     "name": "#%%\n"
    }
   }
  },
  {
   "cell_type": "code",
   "execution_count": 263,
   "outputs": [
    {
     "name": "stdout",
     "output_type": "stream",
     "text": [
      "(140, 14) (140,)\n"
     ]
    }
   ],
   "source": [
    "# check test shape\n",
    "print(x_test.shape, y_test.shape)"
   ],
   "metadata": {
    "collapsed": false,
    "pycharm": {
     "name": "#%%\n"
    }
   }
  },
  {
   "cell_type": "code",
   "execution_count": 264,
   "outputs": [
    {
     "name": "stdout",
     "output_type": "stream",
     "text": [
      "0.45535714285714285\n",
      "0.45714285714285713\n"
     ]
    }
   ],
   "source": [
    "# check dataset balance\n",
    "print(y_train.sum() / y_train.shape[0])\n",
    "print(y_test.sum() / y_test.shape[0])"
   ],
   "metadata": {
    "collapsed": false,
    "pycharm": {
     "name": "#%%\n"
    }
   }
  },
  {
   "cell_type": "markdown",
   "source": [
    "The split was a success and the class balance has also been maintained."
   ],
   "metadata": {
    "collapsed": false,
    "pycharm": {
     "name": "#%% md\n"
    }
   }
  },
  {
   "cell_type": "markdown",
   "source": [
    "## Build the Model"
   ],
   "metadata": {
    "collapsed": false,
    "pycharm": {
     "name": "#%% md\n"
    }
   }
  },
  {
   "cell_type": "code",
   "execution_count": 265,
   "outputs": [
    {
     "data": {
      "text/plain": "LogisticRegression()",
      "text/html": "<style>#sk-container-id-12 {color: black;background-color: white;}#sk-container-id-12 pre{padding: 0;}#sk-container-id-12 div.sk-toggleable {background-color: white;}#sk-container-id-12 label.sk-toggleable__label {cursor: pointer;display: block;width: 100%;margin-bottom: 0;padding: 0.3em;box-sizing: border-box;text-align: center;}#sk-container-id-12 label.sk-toggleable__label-arrow:before {content: \"▸\";float: left;margin-right: 0.25em;color: #696969;}#sk-container-id-12 label.sk-toggleable__label-arrow:hover:before {color: black;}#sk-container-id-12 div.sk-estimator:hover label.sk-toggleable__label-arrow:before {color: black;}#sk-container-id-12 div.sk-toggleable__content {max-height: 0;max-width: 0;overflow: hidden;text-align: left;background-color: #f0f8ff;}#sk-container-id-12 div.sk-toggleable__content pre {margin: 0.2em;color: black;border-radius: 0.25em;background-color: #f0f8ff;}#sk-container-id-12 input.sk-toggleable__control:checked~div.sk-toggleable__content {max-height: 200px;max-width: 100%;overflow: auto;}#sk-container-id-12 input.sk-toggleable__control:checked~label.sk-toggleable__label-arrow:before {content: \"▾\";}#sk-container-id-12 div.sk-estimator input.sk-toggleable__control:checked~label.sk-toggleable__label {background-color: #d4ebff;}#sk-container-id-12 div.sk-label input.sk-toggleable__control:checked~label.sk-toggleable__label {background-color: #d4ebff;}#sk-container-id-12 input.sk-hidden--visually {border: 0;clip: rect(1px 1px 1px 1px);clip: rect(1px, 1px, 1px, 1px);height: 1px;margin: -1px;overflow: hidden;padding: 0;position: absolute;width: 1px;}#sk-container-id-12 div.sk-estimator {font-family: monospace;background-color: #f0f8ff;border: 1px dotted black;border-radius: 0.25em;box-sizing: border-box;margin-bottom: 0.5em;}#sk-container-id-12 div.sk-estimator:hover {background-color: #d4ebff;}#sk-container-id-12 div.sk-parallel-item::after {content: \"\";width: 100%;border-bottom: 1px solid gray;flex-grow: 1;}#sk-container-id-12 div.sk-label:hover label.sk-toggleable__label {background-color: #d4ebff;}#sk-container-id-12 div.sk-serial::before {content: \"\";position: absolute;border-left: 1px solid gray;box-sizing: border-box;top: 0;bottom: 0;left: 50%;z-index: 0;}#sk-container-id-12 div.sk-serial {display: flex;flex-direction: column;align-items: center;background-color: white;padding-right: 0.2em;padding-left: 0.2em;position: relative;}#sk-container-id-12 div.sk-item {position: relative;z-index: 1;}#sk-container-id-12 div.sk-parallel {display: flex;align-items: stretch;justify-content: center;background-color: white;position: relative;}#sk-container-id-12 div.sk-item::before, #sk-container-id-12 div.sk-parallel-item::before {content: \"\";position: absolute;border-left: 1px solid gray;box-sizing: border-box;top: 0;bottom: 0;left: 50%;z-index: -1;}#sk-container-id-12 div.sk-parallel-item {display: flex;flex-direction: column;z-index: 1;position: relative;background-color: white;}#sk-container-id-12 div.sk-parallel-item:first-child::after {align-self: flex-end;width: 50%;}#sk-container-id-12 div.sk-parallel-item:last-child::after {align-self: flex-start;width: 50%;}#sk-container-id-12 div.sk-parallel-item:only-child::after {width: 0;}#sk-container-id-12 div.sk-dashed-wrapped {border: 1px dashed gray;margin: 0 0.4em 0.5em 0.4em;box-sizing: border-box;padding-bottom: 0.4em;background-color: white;}#sk-container-id-12 div.sk-label label {font-family: monospace;font-weight: bold;display: inline-block;line-height: 1.2em;}#sk-container-id-12 div.sk-label-container {text-align: center;}#sk-container-id-12 div.sk-container {/* jupyter's `normalize.less` sets `[hidden] { display: none; }` but bootstrap.min.css set `[hidden] { display: none !important; }` so we also need the `!important` here to be able to override the default hidden behavior on the sphinx rendered scikit-learn.org. See: https://github.com/scikit-learn/scikit-learn/issues/21755 */display: inline-block !important;position: relative;}#sk-container-id-12 div.sk-text-repr-fallback {display: none;}</style><div id=\"sk-container-id-12\" class=\"sk-top-container\"><div class=\"sk-text-repr-fallback\"><pre>LogisticRegression()</pre><b>In a Jupyter environment, please rerun this cell to show the HTML representation or trust the notebook. <br />On GitHub, the HTML representation is unable to render, please try loading this page with nbviewer.org.</b></div><div class=\"sk-container\" hidden><div class=\"sk-item\"><div class=\"sk-estimator sk-toggleable\"><input class=\"sk-toggleable__control sk-hidden--visually\" id=\"sk-estimator-id-12\" type=\"checkbox\" checked><label for=\"sk-estimator-id-12\" class=\"sk-toggleable__label sk-toggleable__label-arrow\">LogisticRegression</label><div class=\"sk-toggleable__content\"><pre>LogisticRegression()</pre></div></div></div></div></div>"
     },
     "execution_count": 265,
     "metadata": {},
     "output_type": "execute_result"
    }
   ],
   "source": [
    "# build a logistic regression model\n",
    "reg = LogisticRegression()\n",
    "\n",
    "# train the model\n",
    "reg.fit(x_train, y_train)"
   ],
   "metadata": {
    "collapsed": false,
    "pycharm": {
     "name": "#%%\n"
    }
   }
  },
  {
   "cell_type": "code",
   "execution_count": 266,
   "outputs": [
    {
     "data": {
      "text/plain": "0.7821428571428571"
     },
     "execution_count": 266,
     "metadata": {},
     "output_type": "execute_result"
    }
   ],
   "source": [
    "# check the accuracy\n",
    "reg.score(x_train, y_train)"
   ],
   "metadata": {
    "collapsed": false,
    "pycharm": {
     "name": "#%%\n"
    }
   }
  },
  {
   "cell_type": "markdown",
   "source": [
    "Using the model, we achieved a training accuracy of 78%."
   ],
   "metadata": {
    "collapsed": false,
    "pycharm": {
     "name": "#%% md\n"
    }
   }
  },
  {
   "cell_type": "markdown",
   "source": [
    "### Manually check the accuracy"
   ],
   "metadata": {
    "collapsed": false,
    "pycharm": {
     "name": "#%% md\n"
    }
   }
  },
  {
   "cell_type": "code",
   "execution_count": 267,
   "outputs": [
    {
     "data": {
      "text/plain": "array([0, 0, 1, 1, 0, 1, 0, 0, 0, 0, 1, 0, 1, 0, 0, 1, 0, 1, 0, 0, 1, 0,\n       0, 0, 1, 0, 1, 1, 1, 1, 0, 1, 0, 1, 0, 0, 1, 0, 0, 1, 0, 1, 0, 0,\n       1, 0, 0, 1, 1, 0, 1, 0, 1, 0, 1, 0, 0, 0, 0, 1, 1, 1, 0, 0, 1, 0,\n       1, 0, 0, 0, 0, 0, 0, 0, 0, 0, 1, 0, 1, 0, 0, 0, 0, 0, 0, 1, 1, 0,\n       1, 0, 0, 1, 0, 1, 1, 1, 0, 1, 0, 0, 0, 1, 1, 1, 1, 0, 1, 1, 0, 0,\n       1, 0, 0, 1, 1, 0, 0, 1, 1, 0, 1, 0, 0, 1, 1, 0, 0, 0, 0, 1, 1, 0,\n       0, 1, 1, 0, 1, 1, 0, 0, 0, 1, 0, 0, 0, 1, 1, 1, 1, 0, 1, 1, 0, 1,\n       1, 0, 0, 0, 1, 1, 0, 1, 1, 0, 0, 0, 0, 0, 0, 1, 0, 0, 0, 0, 0, 0,\n       1, 1, 1, 1, 1, 1, 1, 0, 1, 0, 1, 1, 0, 1, 0, 0, 1, 0, 0, 0, 1, 1,\n       1, 0, 0, 1, 0, 1, 1, 1, 0, 1, 0, 1, 1, 1, 1, 1, 0, 0, 0, 1, 0, 0,\n       1, 0, 1, 0, 0, 1, 0, 1, 0, 1, 0, 0, 1, 0, 1, 1, 0, 1, 0, 1, 1, 1,\n       0, 1, 0, 0, 0, 0, 1, 0, 0, 0, 0, 1, 0, 0, 1, 1, 1, 1, 0, 0, 0, 0,\n       1, 0, 1, 0, 1, 1, 0, 1, 0, 1, 0, 0, 1, 0, 0, 1, 0, 0, 0, 0, 0, 1,\n       1, 0, 0, 0, 0, 0, 0, 0, 1, 1, 1, 1, 1, 1, 1, 0, 0, 0, 1, 0, 0, 1,\n       0, 1, 0, 1, 1, 0, 1, 0, 0, 1, 1, 0, 1, 0, 1, 0, 1, 1, 1, 0, 1, 0,\n       0, 0, 0, 0, 0, 0, 0, 0, 0, 1, 1, 1, 0, 1, 0, 0, 1, 0, 1, 1, 0, 0,\n       1, 1, 1, 1, 0, 0, 1, 1, 0, 0, 0, 1, 1, 1, 0, 1, 0, 1, 0, 1, 1, 1,\n       0, 1, 0, 0, 1, 1, 0, 1, 1, 1, 1, 0, 1, 1, 0, 1, 1, 1, 1, 0, 0, 0,\n       0, 1, 0, 1, 1, 1, 1, 0, 1, 0, 0, 1, 0, 0, 1, 0, 0, 1, 1, 0, 1, 0,\n       0, 0, 1, 1, 1, 0, 1, 0, 1, 1, 0, 0, 1, 0, 1, 1, 0, 0, 1, 0, 0, 0,\n       1, 0, 1, 0, 1, 1, 1, 1, 0, 0, 1, 0, 1, 1, 1, 0, 0, 0, 1, 1, 0, 0,\n       0, 0, 1, 0, 1, 1, 0, 0, 0, 0, 0, 0, 0, 0, 0, 1, 1, 0, 0, 0, 0, 1,\n       0, 0, 1, 0, 1, 1, 0, 0, 1, 1, 1, 1, 1, 0, 1, 0, 0, 1, 0, 0, 0, 0,\n       0, 1, 0, 0, 1, 1, 1, 0, 0, 0, 0, 0, 1, 1, 0, 1, 0, 0, 0, 0, 0, 0,\n       0, 0, 0, 1, 0, 0, 1, 1, 0, 0, 0, 1, 0, 0, 1, 1, 1, 0, 1, 0, 0, 0,\n       0, 1, 1, 0, 0, 0, 1, 1, 0, 0])"
     },
     "execution_count": 267,
     "metadata": {},
     "output_type": "execute_result"
    }
   ],
   "source": [
    "model_output = reg.predict(x_train)\n",
    "model_output"
   ],
   "metadata": {
    "collapsed": false,
    "pycharm": {
     "name": "#%%\n"
    }
   }
  },
  {
   "cell_type": "code",
   "execution_count": 268,
   "outputs": [
    {
     "data": {
      "text/plain": "0.7821428571428571"
     },
     "execution_count": 268,
     "metadata": {},
     "output_type": "execute_result"
    }
   ],
   "source": [
    "true_val = np.sum(model_output == y_train)\n",
    "acc = true_val / model_output.shape[0]\n",
    "acc"
   ],
   "metadata": {
    "collapsed": false,
    "pycharm": {
     "name": "#%%\n"
    }
   }
  },
  {
   "cell_type": "markdown",
   "source": [
    "## Find the Intercept and Coefficients"
   ],
   "metadata": {
    "collapsed": false,
    "pycharm": {
     "name": "#%% md\n"
    }
   }
  },
  {
   "cell_type": "code",
   "execution_count": 269,
   "outputs": [
    {
     "data": {
      "text/plain": "array([-0.2192659])"
     },
     "execution_count": 269,
     "metadata": {},
     "output_type": "execute_result"
    }
   ],
   "source": [
    "# find intercept\n",
    "reg.intercept_"
   ],
   "metadata": {
    "collapsed": false,
    "pycharm": {
     "name": "#%%\n"
    }
   }
  },
  {
   "cell_type": "code",
   "execution_count": 270,
   "outputs": [
    {
     "data": {
      "text/plain": "array([[ 2.10882947,  0.33460029,  1.48895172,  1.34893831,  0.08582456,\n        -0.30031065,  0.71072768,  0.00376763, -0.21499039,  0.02048637,\n         0.29134028,  0.12707367,  0.45766961, -0.26984331]])"
     },
     "execution_count": 270,
     "metadata": {},
     "output_type": "execute_result"
    }
   ],
   "source": [
    "# find coefficients\n",
    "reg.coef_"
   ],
   "metadata": {
    "collapsed": false,
    "pycharm": {
     "name": "#%%\n"
    }
   }
  },
  {
   "cell_type": "markdown",
   "source": [
    "### Create a Summary Table\n",
    "\n",
    "A summary table will give us a better look at the coefficients and their respective features, and the intercept."
   ],
   "metadata": {
    "collapsed": false,
    "pycharm": {
     "name": "#%% md\n"
    }
   }
  },
  {
   "cell_type": "code",
   "execution_count": 271,
   "outputs": [],
   "source": [
    "# create a dataframe for features and coefficients\n",
    "summary_table = pd.DataFrame(data = unscaled_inputs.columns.values, columns = ['Feature Names'])"
   ],
   "metadata": {
    "collapsed": false,
    "pycharm": {
     "name": "#%%\n"
    }
   }
  },
  {
   "cell_type": "code",
   "execution_count": 272,
   "outputs": [],
   "source": [
    "# add the coeff\n",
    "# transpose the coeff as it has multiple columns\n",
    "summary_table['Coefficients'] = np.transpose(reg.coef_)"
   ],
   "metadata": {
    "collapsed": false,
    "pycharm": {
     "name": "#%%\n"
    }
   }
  },
  {
   "cell_type": "code",
   "execution_count": 273,
   "outputs": [
    {
     "data": {
      "text/plain": "              Feature Names  Coefficients\n0                  Reason 1      2.108829\n1                  Reason 2      0.334600\n2                  Reason 3      1.488952\n3                  Reason 4      1.348938\n4               Month Value      0.085825\n5           Day of the Week     -0.300311\n6    Transportation Expense      0.710728\n7          Distance to Work      0.003768\n8                       Age     -0.214990\n9   Daily Work Load Average      0.020486\n10          Body Mass Index      0.291340\n11                Education      0.127074\n12                 Children      0.457670\n13                     Pets     -0.269843",
      "text/html": "<div>\n<style scoped>\n    .dataframe tbody tr th:only-of-type {\n        vertical-align: middle;\n    }\n\n    .dataframe tbody tr th {\n        vertical-align: top;\n    }\n\n    .dataframe thead th {\n        text-align: right;\n    }\n</style>\n<table border=\"1\" class=\"dataframe\">\n  <thead>\n    <tr style=\"text-align: right;\">\n      <th></th>\n      <th>Feature Names</th>\n      <th>Coefficients</th>\n    </tr>\n  </thead>\n  <tbody>\n    <tr>\n      <th>0</th>\n      <td>Reason 1</td>\n      <td>2.108829</td>\n    </tr>\n    <tr>\n      <th>1</th>\n      <td>Reason 2</td>\n      <td>0.334600</td>\n    </tr>\n    <tr>\n      <th>2</th>\n      <td>Reason 3</td>\n      <td>1.488952</td>\n    </tr>\n    <tr>\n      <th>3</th>\n      <td>Reason 4</td>\n      <td>1.348938</td>\n    </tr>\n    <tr>\n      <th>4</th>\n      <td>Month Value</td>\n      <td>0.085825</td>\n    </tr>\n    <tr>\n      <th>5</th>\n      <td>Day of the Week</td>\n      <td>-0.300311</td>\n    </tr>\n    <tr>\n      <th>6</th>\n      <td>Transportation Expense</td>\n      <td>0.710728</td>\n    </tr>\n    <tr>\n      <th>7</th>\n      <td>Distance to Work</td>\n      <td>0.003768</td>\n    </tr>\n    <tr>\n      <th>8</th>\n      <td>Age</td>\n      <td>-0.214990</td>\n    </tr>\n    <tr>\n      <th>9</th>\n      <td>Daily Work Load Average</td>\n      <td>0.020486</td>\n    </tr>\n    <tr>\n      <th>10</th>\n      <td>Body Mass Index</td>\n      <td>0.291340</td>\n    </tr>\n    <tr>\n      <th>11</th>\n      <td>Education</td>\n      <td>0.127074</td>\n    </tr>\n    <tr>\n      <th>12</th>\n      <td>Children</td>\n      <td>0.457670</td>\n    </tr>\n    <tr>\n      <th>13</th>\n      <td>Pets</td>\n      <td>-0.269843</td>\n    </tr>\n  </tbody>\n</table>\n</div>"
     },
     "execution_count": 273,
     "metadata": {},
     "output_type": "execute_result"
    }
   ],
   "source": [
    "summary_table"
   ],
   "metadata": {
    "collapsed": false,
    "pycharm": {
     "name": "#%%\n"
    }
   }
  },
  {
   "cell_type": "code",
   "execution_count": 274,
   "outputs": [],
   "source": [
    "# add the intercept\n",
    "# shift all rows 1 down and add at the beginning\n",
    "summary_table.index = summary_table.index + 1\n",
    "\n",
    "summary_table.loc[0] = ['Intercept', reg.intercept_[0]]"
   ],
   "metadata": {
    "collapsed": false,
    "pycharm": {
     "name": "#%%\n"
    }
   }
  },
  {
   "cell_type": "code",
   "execution_count": 275,
   "outputs": [
    {
     "data": {
      "text/plain": "              Feature Names  Coefficients\n0                 Intercept     -0.219266\n1                  Reason 1      2.108829\n2                  Reason 2      0.334600\n3                  Reason 3      1.488952\n4                  Reason 4      1.348938\n5               Month Value      0.085825\n6           Day of the Week     -0.300311\n7    Transportation Expense      0.710728\n8          Distance to Work      0.003768\n9                       Age     -0.214990\n10  Daily Work Load Average      0.020486\n11          Body Mass Index      0.291340\n12                Education      0.127074\n13                 Children      0.457670\n14                     Pets     -0.269843",
      "text/html": "<div>\n<style scoped>\n    .dataframe tbody tr th:only-of-type {\n        vertical-align: middle;\n    }\n\n    .dataframe tbody tr th {\n        vertical-align: top;\n    }\n\n    .dataframe thead th {\n        text-align: right;\n    }\n</style>\n<table border=\"1\" class=\"dataframe\">\n  <thead>\n    <tr style=\"text-align: right;\">\n      <th></th>\n      <th>Feature Names</th>\n      <th>Coefficients</th>\n    </tr>\n  </thead>\n  <tbody>\n    <tr>\n      <th>0</th>\n      <td>Intercept</td>\n      <td>-0.219266</td>\n    </tr>\n    <tr>\n      <th>1</th>\n      <td>Reason 1</td>\n      <td>2.108829</td>\n    </tr>\n    <tr>\n      <th>2</th>\n      <td>Reason 2</td>\n      <td>0.334600</td>\n    </tr>\n    <tr>\n      <th>3</th>\n      <td>Reason 3</td>\n      <td>1.488952</td>\n    </tr>\n    <tr>\n      <th>4</th>\n      <td>Reason 4</td>\n      <td>1.348938</td>\n    </tr>\n    <tr>\n      <th>5</th>\n      <td>Month Value</td>\n      <td>0.085825</td>\n    </tr>\n    <tr>\n      <th>6</th>\n      <td>Day of the Week</td>\n      <td>-0.300311</td>\n    </tr>\n    <tr>\n      <th>7</th>\n      <td>Transportation Expense</td>\n      <td>0.710728</td>\n    </tr>\n    <tr>\n      <th>8</th>\n      <td>Distance to Work</td>\n      <td>0.003768</td>\n    </tr>\n    <tr>\n      <th>9</th>\n      <td>Age</td>\n      <td>-0.214990</td>\n    </tr>\n    <tr>\n      <th>10</th>\n      <td>Daily Work Load Average</td>\n      <td>0.020486</td>\n    </tr>\n    <tr>\n      <th>11</th>\n      <td>Body Mass Index</td>\n      <td>0.291340</td>\n    </tr>\n    <tr>\n      <th>12</th>\n      <td>Education</td>\n      <td>0.127074</td>\n    </tr>\n    <tr>\n      <th>13</th>\n      <td>Children</td>\n      <td>0.457670</td>\n    </tr>\n    <tr>\n      <th>14</th>\n      <td>Pets</td>\n      <td>-0.269843</td>\n    </tr>\n  </tbody>\n</table>\n</div>"
     },
     "execution_count": 275,
     "metadata": {},
     "output_type": "execute_result"
    }
   ],
   "source": [
    "summary_table = summary_table.sort_index()\n",
    "summary_table"
   ],
   "metadata": {
    "collapsed": false,
    "pycharm": {
     "name": "#%%\n"
    }
   }
  },
  {
   "cell_type": "markdown",
   "source": [
    "## Interpret the Results\n",
    "\n",
    "We should calculate the odds ratio to find out how much the change in each feature impact the odds of being absent."
   ],
   "metadata": {
    "collapsed": false,
    "pycharm": {
     "name": "#%% md\n"
    }
   }
  },
  {
   "cell_type": "code",
   "execution_count": 276,
   "outputs": [],
   "source": [
    "# calculate the odds ratio\n",
    "# append in the summary table\n",
    "summary_table['Odds Ratio'] = np.exp(summary_table['Coefficients'])"
   ],
   "metadata": {
    "collapsed": false,
    "pycharm": {
     "name": "#%%\n"
    }
   }
  },
  {
   "cell_type": "code",
   "execution_count": 277,
   "outputs": [
    {
     "data": {
      "text/plain": "              Feature Names  Coefficients  Odds Ratio\n0                 Intercept     -0.219266    0.803108\n1                  Reason 1      2.108829    8.238592\n2                  Reason 2      0.334600    1.397382\n3                  Reason 3      1.488952    4.432447\n4                  Reason 4      1.348938    3.853332\n5               Month Value      0.085825    1.089615\n6           Day of the Week     -0.300311    0.740588\n7    Transportation Expense      0.710728    2.035472\n8          Distance to Work      0.003768    1.003775\n9                       Age     -0.214990    0.806549\n10  Daily Work Load Average      0.020486    1.020698\n11          Body Mass Index      0.291340    1.338220\n12                Education      0.127074    1.135501\n13                 Children      0.457670    1.580387\n14                     Pets     -0.269843    0.763499",
      "text/html": "<div>\n<style scoped>\n    .dataframe tbody tr th:only-of-type {\n        vertical-align: middle;\n    }\n\n    .dataframe tbody tr th {\n        vertical-align: top;\n    }\n\n    .dataframe thead th {\n        text-align: right;\n    }\n</style>\n<table border=\"1\" class=\"dataframe\">\n  <thead>\n    <tr style=\"text-align: right;\">\n      <th></th>\n      <th>Feature Names</th>\n      <th>Coefficients</th>\n      <th>Odds Ratio</th>\n    </tr>\n  </thead>\n  <tbody>\n    <tr>\n      <th>0</th>\n      <td>Intercept</td>\n      <td>-0.219266</td>\n      <td>0.803108</td>\n    </tr>\n    <tr>\n      <th>1</th>\n      <td>Reason 1</td>\n      <td>2.108829</td>\n      <td>8.238592</td>\n    </tr>\n    <tr>\n      <th>2</th>\n      <td>Reason 2</td>\n      <td>0.334600</td>\n      <td>1.397382</td>\n    </tr>\n    <tr>\n      <th>3</th>\n      <td>Reason 3</td>\n      <td>1.488952</td>\n      <td>4.432447</td>\n    </tr>\n    <tr>\n      <th>4</th>\n      <td>Reason 4</td>\n      <td>1.348938</td>\n      <td>3.853332</td>\n    </tr>\n    <tr>\n      <th>5</th>\n      <td>Month Value</td>\n      <td>0.085825</td>\n      <td>1.089615</td>\n    </tr>\n    <tr>\n      <th>6</th>\n      <td>Day of the Week</td>\n      <td>-0.300311</td>\n      <td>0.740588</td>\n    </tr>\n    <tr>\n      <th>7</th>\n      <td>Transportation Expense</td>\n      <td>0.710728</td>\n      <td>2.035472</td>\n    </tr>\n    <tr>\n      <th>8</th>\n      <td>Distance to Work</td>\n      <td>0.003768</td>\n      <td>1.003775</td>\n    </tr>\n    <tr>\n      <th>9</th>\n      <td>Age</td>\n      <td>-0.214990</td>\n      <td>0.806549</td>\n    </tr>\n    <tr>\n      <th>10</th>\n      <td>Daily Work Load Average</td>\n      <td>0.020486</td>\n      <td>1.020698</td>\n    </tr>\n    <tr>\n      <th>11</th>\n      <td>Body Mass Index</td>\n      <td>0.291340</td>\n      <td>1.338220</td>\n    </tr>\n    <tr>\n      <th>12</th>\n      <td>Education</td>\n      <td>0.127074</td>\n      <td>1.135501</td>\n    </tr>\n    <tr>\n      <th>13</th>\n      <td>Children</td>\n      <td>0.457670</td>\n      <td>1.580387</td>\n    </tr>\n    <tr>\n      <th>14</th>\n      <td>Pets</td>\n      <td>-0.269843</td>\n      <td>0.763499</td>\n    </tr>\n  </tbody>\n</table>\n</div>"
     },
     "execution_count": 277,
     "metadata": {},
     "output_type": "execute_result"
    }
   ],
   "source": [
    "summary_table"
   ],
   "metadata": {
    "collapsed": false,
    "pycharm": {
     "name": "#%%\n"
    }
   }
  },
  {
   "cell_type": "code",
   "execution_count": 278,
   "outputs": [
    {
     "data": {
      "text/plain": "              Feature Names  Coefficients  Odds Ratio\n1                  Reason 1      2.108829    8.238592\n3                  Reason 3      1.488952    4.432447\n4                  Reason 4      1.348938    3.853332\n7    Transportation Expense      0.710728    2.035472\n13                 Children      0.457670    1.580387\n2                  Reason 2      0.334600    1.397382\n11          Body Mass Index      0.291340    1.338220\n12                Education      0.127074    1.135501\n5               Month Value      0.085825    1.089615\n10  Daily Work Load Average      0.020486    1.020698\n8          Distance to Work      0.003768    1.003775\n9                       Age     -0.214990    0.806549\n0                 Intercept     -0.219266    0.803108\n14                     Pets     -0.269843    0.763499\n6           Day of the Week     -0.300311    0.740588",
      "text/html": "<div>\n<style scoped>\n    .dataframe tbody tr th:only-of-type {\n        vertical-align: middle;\n    }\n\n    .dataframe tbody tr th {\n        vertical-align: top;\n    }\n\n    .dataframe thead th {\n        text-align: right;\n    }\n</style>\n<table border=\"1\" class=\"dataframe\">\n  <thead>\n    <tr style=\"text-align: right;\">\n      <th></th>\n      <th>Feature Names</th>\n      <th>Coefficients</th>\n      <th>Odds Ratio</th>\n    </tr>\n  </thead>\n  <tbody>\n    <tr>\n      <th>1</th>\n      <td>Reason 1</td>\n      <td>2.108829</td>\n      <td>8.238592</td>\n    </tr>\n    <tr>\n      <th>3</th>\n      <td>Reason 3</td>\n      <td>1.488952</td>\n      <td>4.432447</td>\n    </tr>\n    <tr>\n      <th>4</th>\n      <td>Reason 4</td>\n      <td>1.348938</td>\n      <td>3.853332</td>\n    </tr>\n    <tr>\n      <th>7</th>\n      <td>Transportation Expense</td>\n      <td>0.710728</td>\n      <td>2.035472</td>\n    </tr>\n    <tr>\n      <th>13</th>\n      <td>Children</td>\n      <td>0.457670</td>\n      <td>1.580387</td>\n    </tr>\n    <tr>\n      <th>2</th>\n      <td>Reason 2</td>\n      <td>0.334600</td>\n      <td>1.397382</td>\n    </tr>\n    <tr>\n      <th>11</th>\n      <td>Body Mass Index</td>\n      <td>0.291340</td>\n      <td>1.338220</td>\n    </tr>\n    <tr>\n      <th>12</th>\n      <td>Education</td>\n      <td>0.127074</td>\n      <td>1.135501</td>\n    </tr>\n    <tr>\n      <th>5</th>\n      <td>Month Value</td>\n      <td>0.085825</td>\n      <td>1.089615</td>\n    </tr>\n    <tr>\n      <th>10</th>\n      <td>Daily Work Load Average</td>\n      <td>0.020486</td>\n      <td>1.020698</td>\n    </tr>\n    <tr>\n      <th>8</th>\n      <td>Distance to Work</td>\n      <td>0.003768</td>\n      <td>1.003775</td>\n    </tr>\n    <tr>\n      <th>9</th>\n      <td>Age</td>\n      <td>-0.214990</td>\n      <td>0.806549</td>\n    </tr>\n    <tr>\n      <th>0</th>\n      <td>Intercept</td>\n      <td>-0.219266</td>\n      <td>0.803108</td>\n    </tr>\n    <tr>\n      <th>14</th>\n      <td>Pets</td>\n      <td>-0.269843</td>\n      <td>0.763499</td>\n    </tr>\n    <tr>\n      <th>6</th>\n      <td>Day of the Week</td>\n      <td>-0.300311</td>\n      <td>0.740588</td>\n    </tr>\n  </tbody>\n</table>\n</div>"
     },
     "execution_count": 278,
     "metadata": {},
     "output_type": "execute_result"
    }
   ],
   "source": [
    "# sort by highest odds ratio first\n",
    "summary_table.sort_values(by=['Odds Ratio'], ascending=False)"
   ],
   "metadata": {
    "collapsed": false,
    "pycharm": {
     "name": "#%%\n"
    }
   }
  },
  {
   "cell_type": "markdown",
   "source": [
    "A feature is not particularly important if its:\n",
    "- coefficient is around 0\n",
    "- odds ratio is around 1\n",
    "\n",
    "A weight of 0 implies that no matter the feature value, we will multiply by it by 0 in the model.\n",
    "\n",
    "For a unit change in the standardized feature, the odds increase by a multiple equal to the odds ratio. Hence, 1 implies no change.\n",
    "\n",
    "I have assumed at least a 5% change in odds to be significant.\n",
    "\n",
    "From the above table, it seems that the `Daily Work Load Average` and `Distance to Work` make no difference, given all features."
   ],
   "metadata": {
    "collapsed": false,
    "pycharm": {
     "name": "#%% md\n"
    }
   }
  },
  {
   "cell_type": "code",
   "execution_count": null,
   "outputs": [],
   "source": [],
   "metadata": {
    "collapsed": false,
    "pycharm": {
     "name": "#%%\n"
    }
   }
  }
 ],
 "metadata": {
  "kernelspec": {
   "display_name": "Python 3",
   "language": "python",
   "name": "python3"
  },
  "language_info": {
   "codemirror_mode": {
    "name": "ipython",
    "version": 2
   },
   "file_extension": ".py",
   "mimetype": "text/x-python",
   "name": "python",
   "nbconvert_exporter": "python",
   "pygments_lexer": "ipython2",
   "version": "2.7.6"
  }
 },
 "nbformat": 4,
 "nbformat_minor": 0
}